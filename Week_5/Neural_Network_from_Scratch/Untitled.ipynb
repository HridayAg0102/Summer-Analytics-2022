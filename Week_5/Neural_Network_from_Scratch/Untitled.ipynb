{
 "cells": [
  {
   "cell_type": "markdown",
   "id": "1678d279",
   "metadata": {},
   "source": [
    "# Neural Network implementation from Scratch"
   ]
  },
  {
   "cell_type": "code",
   "execution_count": 1,
   "id": "f00c0ebf",
   "metadata": {},
   "outputs": [],
   "source": [
    "import numpy as np\n",
    "import pandas as pd\n",
    "import matplotlib.pyplot as plt"
   ]
  },
  {
   "cell_type": "markdown",
   "id": "6dee20a4",
   "metadata": {},
   "source": [
    "## Generating dataset"
   ]
  },
  {
   "cell_type": "code",
   "execution_count": 2,
   "id": "188a8004",
   "metadata": {},
   "outputs": [],
   "source": [
    "X = np.vstack([(np.random.rand(10,2)*5), (np.random.rand(10,2)*10)])\n",
    "y = np.hstack([[0]*10, [1]*10])\n",
    "\n",
    "dataset = pd.DataFrame(X, columns = ('X1', 'X2'))\n",
    "dataset['Y'] = y"
   ]
  },
  {
   "cell_type": "code",
   "execution_count": 3,
   "id": "34739938",
   "metadata": {},
   "outputs": [
    {
     "data": {
      "text/html": [
       "<div>\n",
       "<style scoped>\n",
       "    .dataframe tbody tr th:only-of-type {\n",
       "        vertical-align: middle;\n",
       "    }\n",
       "\n",
       "    .dataframe tbody tr th {\n",
       "        vertical-align: top;\n",
       "    }\n",
       "\n",
       "    .dataframe thead th {\n",
       "        text-align: right;\n",
       "    }\n",
       "</style>\n",
       "<table border=\"1\" class=\"dataframe\">\n",
       "  <thead>\n",
       "    <tr style=\"text-align: right;\">\n",
       "      <th></th>\n",
       "      <th>X1</th>\n",
       "      <th>X2</th>\n",
       "      <th>Y</th>\n",
       "    </tr>\n",
       "  </thead>\n",
       "  <tbody>\n",
       "    <tr>\n",
       "      <th>0</th>\n",
       "      <td>4.117635</td>\n",
       "      <td>3.485070</td>\n",
       "      <td>0</td>\n",
       "    </tr>\n",
       "    <tr>\n",
       "      <th>1</th>\n",
       "      <td>3.152055</td>\n",
       "      <td>4.672863</td>\n",
       "      <td>0</td>\n",
       "    </tr>\n",
       "    <tr>\n",
       "      <th>2</th>\n",
       "      <td>0.733723</td>\n",
       "      <td>1.219021</td>\n",
       "      <td>0</td>\n",
       "    </tr>\n",
       "    <tr>\n",
       "      <th>3</th>\n",
       "      <td>1.651342</td>\n",
       "      <td>2.789319</td>\n",
       "      <td>0</td>\n",
       "    </tr>\n",
       "    <tr>\n",
       "      <th>4</th>\n",
       "      <td>1.211689</td>\n",
       "      <td>3.838208</td>\n",
       "      <td>0</td>\n",
       "    </tr>\n",
       "    <tr>\n",
       "      <th>5</th>\n",
       "      <td>0.324588</td>\n",
       "      <td>2.287793</td>\n",
       "      <td>0</td>\n",
       "    </tr>\n",
       "    <tr>\n",
       "      <th>6</th>\n",
       "      <td>4.954522</td>\n",
       "      <td>1.294151</td>\n",
       "      <td>0</td>\n",
       "    </tr>\n",
       "    <tr>\n",
       "      <th>7</th>\n",
       "      <td>4.078573</td>\n",
       "      <td>2.830370</td>\n",
       "      <td>0</td>\n",
       "    </tr>\n",
       "    <tr>\n",
       "      <th>8</th>\n",
       "      <td>4.339834</td>\n",
       "      <td>0.321010</td>\n",
       "      <td>0</td>\n",
       "    </tr>\n",
       "    <tr>\n",
       "      <th>9</th>\n",
       "      <td>1.111642</td>\n",
       "      <td>1.122509</td>\n",
       "      <td>0</td>\n",
       "    </tr>\n",
       "    <tr>\n",
       "      <th>10</th>\n",
       "      <td>7.292620</td>\n",
       "      <td>4.157736</td>\n",
       "      <td>1</td>\n",
       "    </tr>\n",
       "    <tr>\n",
       "      <th>11</th>\n",
       "      <td>0.647746</td>\n",
       "      <td>4.697225</td>\n",
       "      <td>1</td>\n",
       "    </tr>\n",
       "    <tr>\n",
       "      <th>12</th>\n",
       "      <td>7.771690</td>\n",
       "      <td>0.775840</td>\n",
       "      <td>1</td>\n",
       "    </tr>\n",
       "    <tr>\n",
       "      <th>13</th>\n",
       "      <td>6.512075</td>\n",
       "      <td>7.347418</td>\n",
       "      <td>1</td>\n",
       "    </tr>\n",
       "    <tr>\n",
       "      <th>14</th>\n",
       "      <td>0.224993</td>\n",
       "      <td>3.994378</td>\n",
       "      <td>1</td>\n",
       "    </tr>\n",
       "    <tr>\n",
       "      <th>15</th>\n",
       "      <td>0.490387</td>\n",
       "      <td>6.980400</td>\n",
       "      <td>1</td>\n",
       "    </tr>\n",
       "    <tr>\n",
       "      <th>16</th>\n",
       "      <td>5.133510</td>\n",
       "      <td>0.876676</td>\n",
       "      <td>1</td>\n",
       "    </tr>\n",
       "    <tr>\n",
       "      <th>17</th>\n",
       "      <td>2.180069</td>\n",
       "      <td>3.673333</td>\n",
       "      <td>1</td>\n",
       "    </tr>\n",
       "    <tr>\n",
       "      <th>18</th>\n",
       "      <td>2.789602</td>\n",
       "      <td>5.695685</td>\n",
       "      <td>1</td>\n",
       "    </tr>\n",
       "    <tr>\n",
       "      <th>19</th>\n",
       "      <td>3.776008</td>\n",
       "      <td>4.668816</td>\n",
       "      <td>1</td>\n",
       "    </tr>\n",
       "  </tbody>\n",
       "</table>\n",
       "</div>"
      ],
      "text/plain": [
       "          X1        X2  Y\n",
       "0   4.117635  3.485070  0\n",
       "1   3.152055  4.672863  0\n",
       "2   0.733723  1.219021  0\n",
       "3   1.651342  2.789319  0\n",
       "4   1.211689  3.838208  0\n",
       "5   0.324588  2.287793  0\n",
       "6   4.954522  1.294151  0\n",
       "7   4.078573  2.830370  0\n",
       "8   4.339834  0.321010  0\n",
       "9   1.111642  1.122509  0\n",
       "10  7.292620  4.157736  1\n",
       "11  0.647746  4.697225  1\n",
       "12  7.771690  0.775840  1\n",
       "13  6.512075  7.347418  1\n",
       "14  0.224993  3.994378  1\n",
       "15  0.490387  6.980400  1\n",
       "16  5.133510  0.876676  1\n",
       "17  2.180069  3.673333  1\n",
       "18  2.789602  5.695685  1\n",
       "19  3.776008  4.668816  1"
      ]
     },
     "execution_count": 3,
     "metadata": {},
     "output_type": "execute_result"
    }
   ],
   "source": [
    "dataset"
   ]
  },
  {
   "cell_type": "code",
   "execution_count": 4,
   "id": "e3c39aba",
   "metadata": {},
   "outputs": [],
   "source": [
    "?np.random.rand"
   ]
  },
  {
   "cell_type": "code",
   "execution_count": 5,
   "id": "49ad5486",
   "metadata": {},
   "outputs": [],
   "source": [
    "?np.vstack"
   ]
  },
  {
   "cell_type": "code",
   "execution_count": 6,
   "id": "f6518e23",
   "metadata": {},
   "outputs": [
    {
     "data": {
      "image/png": "[encoded data removed]",
      "text/plain": [
       "<Figure size 432x288 with 1 Axes>"
      ]
     },
     "metadata": {
      "needs_background": "light"
     },
     "output_type": "display_data"
    }
   ],
   "source": [
    "# Plotting the dataset\n",
    "\n",
    "plt.plot(dataset, label='inline label')\n",
    "plt.legend(['X1', 'X2', 'Y'])\n",
    "plt.show()"
   ]
  },
  {
   "cell_type": "code",
   "execution_count": 7,
   "id": "c0ae9af9",
   "metadata": {},
   "outputs": [
    {
     "data": {
      "text/plain": [
       "array([[1., 0.],\n",
       "       [1., 0.],\n",
       "       [1., 0.],\n",
       "       [1., 0.],\n",
       "       [1., 0.],\n",
       "       [1., 0.],\n",
       "       [1., 0.],\n",
       "       [1., 0.],\n",
       "       [1., 0.],\n",
       "       [1., 0.],\n",
       "       [0., 1.],\n",
       "       [0., 1.],\n",
       "       [0., 1.],\n",
       "       [0., 1.],\n",
       "       [0., 1.],\n",
       "       [0., 1.],\n",
       "       [0., 1.],\n",
       "       [0., 1.],\n",
       "       [0., 1.],\n",
       "       [0., 1.]])"
      ]
     },
     "execution_count": 7,
     "metadata": {},
     "output_type": "execute_result"
    }
   ],
   "source": [
    "Z = np.zeros((20,2))\n",
    "for i in range(20):\n",
    "    Z[i,y[i]] = 1 \n",
    "    \n",
    "\"\"\"\n",
    "ith row and y[i]th column (which is 0 for 1st 10 rows and 1 for other 10),\n",
    "generating a one hot encoded numpy ndarray\n",
    "\"\"\"\n",
    "    \n",
    "Z"
   ]
  },
  {
   "cell_type": "markdown",
   "id": "de0420a3",
   "metadata": {},
   "source": [
    "## Initialising Weights and Biases\n",
    "\n",
    "creating a 2 layer neural network\n",
    "\n",
    "Wi_1 and Bi_1 are weights and bias for the first layer\n",
    "similarly for Wi_2 and Bi_2"
   ]
  },
  {
   "cell_type": "code",
   "execution_count": 41,
   "id": "5b75a318",
   "metadata": {},
   "outputs": [],
   "source": [
    "Wi_1 = np.random.randn(3,2)\n",
    "Bi_1 = np.random.randn(3)\n",
    "Wi_2 = np.random.randn(3,2)\n",
    "Bi_2 = np.random.randn(2)\n",
    "\n",
    "# randn generates samples from a normal distribution.\n",
    "# 3 neurons in 1st layer, 2 neurons in 2nd layer"
   ]
  },
  {
   "cell_type": "code",
   "execution_count": 42,
   "id": "23e1d671",
   "metadata": {},
   "outputs": [
    {
     "data": {
      "text/plain": [
       "array([[-0.86976178, -1.28149388],\n",
       "       [ 0.59700122, -0.32283959],\n",
       "       [ 0.22626241, -0.6156147 ]])"
      ]
     },
     "execution_count": 42,
     "metadata": {},
     "output_type": "execute_result"
    }
   ],
   "source": [
    "Wi_1"
   ]
  },
  {
   "cell_type": "code",
   "execution_count": 43,
   "id": "4021794e",
   "metadata": {},
   "outputs": [
    {
     "data": {
      "text/plain": [
       "array([-0.55728988,  0.72440757,  0.38091541])"
      ]
     },
     "execution_count": 43,
     "metadata": {},
     "output_type": "execute_result"
    }
   ],
   "source": [
    "Bi_1"
   ]
  },
  {
   "cell_type": "code",
   "execution_count": 44,
   "id": "ac5ec440",
   "metadata": {},
   "outputs": [
    {
     "data": {
      "text/plain": [
       "array([[-1.4192203 , -1.01198728],\n",
       "       [-0.528805  , -0.40055592],\n",
       "       [ 0.17224297,  1.08783243]])"
      ]
     },
     "execution_count": 44,
     "metadata": {},
     "output_type": "execute_result"
    }
   ],
   "source": [
    "Wi_2"
   ]
  },
  {
   "cell_type": "code",
   "execution_count": 45,
   "id": "40bb72ba",
   "metadata": {},
   "outputs": [
    {
     "data": {
      "text/plain": [
       "array([0.07299734, 0.66301491])"
      ]
     },
     "execution_count": 45,
     "metadata": {},
     "output_type": "execute_result"
    }
   ],
   "source": [
    "Bi_2"
   ]
  },
  {
   "cell_type": "code",
   "execution_count": 46,
   "id": "a154ab73",
   "metadata": {},
   "outputs": [
    {
     "data": {
      "text/plain": [
       "array([[4.11763467, 3.48506959],\n",
       "       [3.15205455, 4.67286325],\n",
       "       [0.73372274, 1.21902084],\n",
       "       [1.65134195, 2.78931944],\n",
       "       [1.21168871, 3.83820801],\n",
       "       [0.32458839, 2.28779297],\n",
       "       [4.9545223 , 1.29415144],\n",
       "       [4.07857285, 2.8303704 ],\n",
       "       [4.33983444, 0.32100972],\n",
       "       [1.1116419 , 1.12250879],\n",
       "       [7.29261958, 4.15773609],\n",
       "       [0.64774613, 4.69722462],\n",
       "       [7.77168965, 0.77583959],\n",
       "       [6.51207528, 7.34741756],\n",
       "       [0.22499293, 3.99437847],\n",
       "       [0.49038713, 6.98040011],\n",
       "       [5.13350993, 0.87667558],\n",
       "       [2.18006949, 3.67333314],\n",
       "       [2.78960192, 5.69568549],\n",
       "       [3.77600848, 4.66881562]])"
      ]
     },
     "execution_count": 46,
     "metadata": {},
     "output_type": "execute_result"
    }
   ],
   "source": [
    "X"
   ]
  },
  {
   "cell_type": "code",
   "execution_count": 47,
   "id": "d283282f",
   "metadata": {},
   "outputs": [
    {
     "data": {
      "text/plain": [
       "array([[ -8.04745661,   1.33311446,  -1.21379413],\n",
       "       [ -8.72978224,   0.37319513,  -2.16349185],\n",
       "       [ -2.20033174,   0.04448518,  -0.58443327],\n",
       "       [ -5.01076991,   0.0853504 ,  -1.34350944],\n",
       "       [ -5.97252061,  -0.51574588,  -2.08869766],\n",
       "       [ -3.21410728,  -0.54481049,  -1.33495683],\n",
       "       [ -5.96770127,   2.54005252,   0.32432349],\n",
       "       [ -7.17448913,   1.52115732,  -0.81958991],\n",
       "       [ -4.18599411,   2.48725179,   0.78432308],\n",
       "       [ -2.40535178,   0.30126129,  -0.43951014],\n",
       "       [-11.67095514,   3.01142094,  -0.90951779],\n",
       "       [ -6.58284945,  -1.12974486,  -2.74511992],\n",
       "       [ -7.7537523 ,   4.38923644,   1.28082295],\n",
       "       [-15.07962484,   1.51567957,  -3.04974042],\n",
       "       [ -5.31446183,  -1.15522247,  -2.40809065],\n",
       "       [ -9.37186003,  -1.96078782,  -4.18628073],\n",
       "       [ -5.58838512,   2.78168609,   0.62182594],\n",
       "       [ -6.60349506,   0.11560676,  -1.7680901 ],\n",
       "       [ -9.72527525,  -0.17339705,  -2.87516566],\n",
       "       [ -9.26728651,   0.74700312,  -2.01982275]])"
      ]
     },
     "execution_count": 47,
     "metadata": {},
     "output_type": "execute_result"
    }
   ],
   "source": [
    "X.dot(Wi_1.T)\n",
    "# this would be a step in forward propagation function\n",
    "# Bias is also added to this, and finally activation function is applied on it."
   ]
  },
  {
   "cell_type": "markdown",
   "id": "d5f94ff1",
   "metadata": {},
   "source": [
    "# Defining Forward Propagation Function"
   ]
  },
  {
   "cell_type": "code",
   "execution_count": 48,
   "id": "7be01ac1",
   "metadata": {},
   "outputs": [],
   "source": [
    "def forward_prop(X, Wi_1, Bi_1, Wi_2, Bi_2):\n",
    "    # first layer\n",
    "    M = 1/(1+np.exp(-(X.dot(Wi_1.T) + Bi_1))) # sigmoid function applied.\n",
    "    # second layer\n",
    "    A = M.dot(Wi_2) + Bi_2\n",
    "    expA = np.exp(A)\n",
    "    Y = expA/expA.sum(axis = 1, keepdims = True) # Softmax function applied.\n",
    "    return Y, M"
   ]
  },
  {
   "cell_type": "code",
   "execution_count": 49,
   "id": "964d6d08",
   "metadata": {},
   "outputs": [
    {
     "data": {
      "text/plain": [
       "(array([[0.27264014, 0.72735986],\n",
       "        [0.30617791, 0.69382209],\n",
       "        [0.24725385, 0.75274615],\n",
       "        [0.28224481, 0.71775519],\n",
       "        [0.3096192 , 0.6903808 ],\n",
       "        [0.28421497, 0.71578503],\n",
       "        [0.20965766, 0.79034234],\n",
       "        [0.25633019, 0.74366981],\n",
       "        [0.19548522, 0.80451478],\n",
       "        [0.24070516, 0.75929484],\n",
       "        [0.25830049, 0.74169951],\n",
       "        [0.32731977, 0.67268023],\n",
       "        [0.1843534 , 0.8156466 ],\n",
       "        [0.31749814, 0.68250186],\n",
       "        [0.32120519, 0.67879481],\n",
       "        [0.34551075, 0.65448925],\n",
       "        [0.20016827, 0.79983173],\n",
       "        [0.29673373, 0.70326627],\n",
       "        [0.32273878, 0.67726122],\n",
       "        [0.30085527, 0.69914473]]),\n",
       " array([[1.83200440e-04, 8.86705474e-01, 3.03036724e-01],\n",
       "        [9.26052497e-05, 7.49810653e-01, 1.43985288e-01],\n",
       "        [5.96576501e-02, 6.83281324e-01, 4.49295428e-01],\n",
       "        [3.80335999e-03, 6.92057926e-01, 2.76359128e-01],\n",
       "        [1.45715597e-03, 5.51976969e-01, 1.53451589e-01],\n",
       "        [2.25018877e-02, 5.44778973e-01, 2.78072787e-01],\n",
       "        [1.46418514e-03, 9.63189253e-01, 6.69348280e-01],\n",
       "        [4.38470696e-04, 9.04267285e-01, 3.92056855e-01],\n",
       "        [8.63478668e-03, 9.61270690e-01, 7.62283273e-01],\n",
       "        [4.91424210e-02, 7.36075352e-01, 4.85355509e-01],\n",
       "        [4.89033420e-06, 9.76702328e-01, 3.70842920e-01],\n",
       "        [7.92013871e-04, 4.00030676e-01, 8.59433252e-02],\n",
       "        [2.45727359e-04, 9.94021826e-01, 8.40471219e-01],\n",
       "        [1.61798374e-07, 9.03792035e-01, 6.48381771e-02],\n",
       "        [2.81001437e-03, 3.93931757e-01, 1.16379091e-01],\n",
       "        [4.87308314e-05, 2.25066683e-01, 2.17667338e-02],\n",
       "        [2.13814759e-03, 9.70860656e-01, 7.31597219e-01],\n",
       "        [7.75842452e-04, 6.98468233e-01, 1.99859184e-01],\n",
       "        [3.42234542e-05, 6.34370008e-01, 7.62622434e-02],\n",
       "        [5.41024821e-05, 8.13271710e-01, 1.62613796e-01]]))"
      ]
     },
     "execution_count": 49,
     "metadata": {},
     "output_type": "execute_result"
    }
   ],
   "source": [
    "forward_prop(X, Wi_1, Bi_1, Wi_2, Bi_2)"
   ]
  },
  {
   "cell_type": "markdown",
   "id": "0ca815c7",
   "metadata": {},
   "source": [
    "## Backpropagation by Differentiating or Gradient Descent"
   ]
  },
  {
   "cell_type": "code",
   "execution_count": null,
   "id": "6df613ae",
   "metadata": {},
   "outputs": [],
   "source": [
    "# Returns gradient for Weight_2\n",
    "def diff_Wi_1(H, Z, Y):\n",
    "    return H.T.dot(Z - Y)\n",
    "\n",
    "# H = Hidden Layer\n",
    "# Z = Predicted Values\n",
    "# Y = Actual values"
   ]
  }
 ],
 "metadata": {
  "kernelspec": {
   "display_name": "Python 3 (ipykernel)",
   "language": "python",
   "name": "python3"
  },
  "language_info": {
   "codemirror_mode": {
    "name": "ipython",
    "version": 3
   },
   "file_extension": ".py",
   "mimetype": "text/x-python",
   "name": "python",
   "nbconvert_exporter": "python",
   "pygments_lexer": "ipython3",
   "version": "3.9.12"
  }
 },
 "nbformat": 4,
 "nbformat_minor": 5
}
