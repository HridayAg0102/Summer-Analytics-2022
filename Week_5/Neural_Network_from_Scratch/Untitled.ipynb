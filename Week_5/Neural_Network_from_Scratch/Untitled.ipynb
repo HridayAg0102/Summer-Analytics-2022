{
 "cells": [
  {
   "cell_type": "markdown",
   "id": "1678d279",
   "metadata": {},
   "source": [
    "# Neural Network implementation from Scratch"
   ]
  },
  {
   "cell_type": "code",
   "execution_count": 1,
   "id": "f00c0ebf",
   "metadata": {},
   "outputs": [],
   "source": [
    "import numpy as np\n",
    "import pandas as pd\n",
    "import matplotlib.pyplot as plt"
   ]
  },
  {
   "cell_type": "markdown",
   "id": "6dee20a4",
   "metadata": {},
   "source": [
    "## Generating dataset"
   ]
  },
  {
   "cell_type": "code",
   "execution_count": 2,
   "id": "188a8004",
   "metadata": {},
   "outputs": [],
   "source": [
    "X = np.vstack([(np.random.rand(10,2)*5), (np.random.rand(10,2)*10)])\n",
    "y = np.hstack([[0]*10, [1]*10])\n",
    "\n",
    "dataset = pd.DataFrame(X, columns = ('X1', 'X2'))\n",
    "dataset['Y'] = y"
   ]
  },
  {
   "cell_type": "code",
   "execution_count": 3,
   "id": "34739938",
   "metadata": {},
   "outputs": [
    {
     "data": {
      "text/html": [
       "<div>\n",
       "<style scoped>\n",
       "    .dataframe tbody tr th:only-of-type {\n",
       "        vertical-align: middle;\n",
       "    }\n",
       "\n",
       "    .dataframe tbody tr th {\n",
       "        vertical-align: top;\n",
       "    }\n",
       "\n",
       "    .dataframe thead th {\n",
       "        text-align: right;\n",
       "    }\n",
       "</style>\n",
       "<table border=\"1\" class=\"dataframe\">\n",
       "  <thead>\n",
       "    <tr style=\"text-align: right;\">\n",
       "      <th></th>\n",
       "      <th>X1</th>\n",
       "      <th>X2</th>\n",
       "      <th>Y</th>\n",
       "    </tr>\n",
       "  </thead>\n",
       "  <tbody>\n",
       "    <tr>\n",
       "      <th>0</th>\n",
       "      <td>4.890902</td>\n",
       "      <td>2.845083</td>\n",
       "      <td>0</td>\n",
       "    </tr>\n",
       "    <tr>\n",
       "      <th>1</th>\n",
       "      <td>2.571560</td>\n",
       "      <td>3.420440</td>\n",
       "      <td>0</td>\n",
       "    </tr>\n",
       "    <tr>\n",
       "      <th>2</th>\n",
       "      <td>0.804232</td>\n",
       "      <td>1.197483</td>\n",
       "      <td>0</td>\n",
       "    </tr>\n",
       "    <tr>\n",
       "      <th>3</th>\n",
       "      <td>4.857959</td>\n",
       "      <td>0.134771</td>\n",
       "      <td>0</td>\n",
       "    </tr>\n",
       "    <tr>\n",
       "      <th>4</th>\n",
       "      <td>3.521895</td>\n",
       "      <td>4.873451</td>\n",
       "      <td>0</td>\n",
       "    </tr>\n",
       "    <tr>\n",
       "      <th>5</th>\n",
       "      <td>3.713257</td>\n",
       "      <td>1.939146</td>\n",
       "      <td>0</td>\n",
       "    </tr>\n",
       "    <tr>\n",
       "      <th>6</th>\n",
       "      <td>2.461394</td>\n",
       "      <td>0.661245</td>\n",
       "      <td>0</td>\n",
       "    </tr>\n",
       "    <tr>\n",
       "      <th>7</th>\n",
       "      <td>3.336414</td>\n",
       "      <td>4.667681</td>\n",
       "      <td>0</td>\n",
       "    </tr>\n",
       "    <tr>\n",
       "      <th>8</th>\n",
       "      <td>2.193311</td>\n",
       "      <td>2.816134</td>\n",
       "      <td>0</td>\n",
       "    </tr>\n",
       "    <tr>\n",
       "      <th>9</th>\n",
       "      <td>2.378710</td>\n",
       "      <td>3.186623</td>\n",
       "      <td>0</td>\n",
       "    </tr>\n",
       "    <tr>\n",
       "      <th>10</th>\n",
       "      <td>3.647360</td>\n",
       "      <td>9.821480</td>\n",
       "      <td>1</td>\n",
       "    </tr>\n",
       "    <tr>\n",
       "      <th>11</th>\n",
       "      <td>4.018276</td>\n",
       "      <td>6.908625</td>\n",
       "      <td>1</td>\n",
       "    </tr>\n",
       "    <tr>\n",
       "      <th>12</th>\n",
       "      <td>0.564818</td>\n",
       "      <td>9.468983</td>\n",
       "      <td>1</td>\n",
       "    </tr>\n",
       "    <tr>\n",
       "      <th>13</th>\n",
       "      <td>0.153405</td>\n",
       "      <td>9.092302</td>\n",
       "      <td>1</td>\n",
       "    </tr>\n",
       "    <tr>\n",
       "      <th>14</th>\n",
       "      <td>7.334166</td>\n",
       "      <td>5.565564</td>\n",
       "      <td>1</td>\n",
       "    </tr>\n",
       "    <tr>\n",
       "      <th>15</th>\n",
       "      <td>9.798596</td>\n",
       "      <td>3.418906</td>\n",
       "      <td>1</td>\n",
       "    </tr>\n",
       "    <tr>\n",
       "      <th>16</th>\n",
       "      <td>5.160847</td>\n",
       "      <td>4.822050</td>\n",
       "      <td>1</td>\n",
       "    </tr>\n",
       "    <tr>\n",
       "      <th>17</th>\n",
       "      <td>8.240483</td>\n",
       "      <td>6.520465</td>\n",
       "      <td>1</td>\n",
       "    </tr>\n",
       "    <tr>\n",
       "      <th>18</th>\n",
       "      <td>0.986017</td>\n",
       "      <td>9.092304</td>\n",
       "      <td>1</td>\n",
       "    </tr>\n",
       "    <tr>\n",
       "      <th>19</th>\n",
       "      <td>8.658687</td>\n",
       "      <td>8.192425</td>\n",
       "      <td>1</td>\n",
       "    </tr>\n",
       "  </tbody>\n",
       "</table>\n",
       "</div>"
      ],
      "text/plain": [
       "          X1        X2  Y\n",
       "0   4.890902  2.845083  0\n",
       "1   2.571560  3.420440  0\n",
       "2   0.804232  1.197483  0\n",
       "3   4.857959  0.134771  0\n",
       "4   3.521895  4.873451  0\n",
       "5   3.713257  1.939146  0\n",
       "6   2.461394  0.661245  0\n",
       "7   3.336414  4.667681  0\n",
       "8   2.193311  2.816134  0\n",
       "9   2.378710  3.186623  0\n",
       "10  3.647360  9.821480  1\n",
       "11  4.018276  6.908625  1\n",
       "12  0.564818  9.468983  1\n",
       "13  0.153405  9.092302  1\n",
       "14  7.334166  5.565564  1\n",
       "15  9.798596  3.418906  1\n",
       "16  5.160847  4.822050  1\n",
       "17  8.240483  6.520465  1\n",
       "18  0.986017  9.092304  1\n",
       "19  8.658687  8.192425  1"
      ]
     },
     "execution_count": 3,
     "metadata": {},
     "output_type": "execute_result"
    }
   ],
   "source": [
    "dataset"
   ]
  },
  {
   "cell_type": "code",
   "execution_count": 4,
   "id": "e3c39aba",
   "metadata": {},
   "outputs": [],
   "source": [
    "?np.random.rand"
   ]
  },
  {
   "cell_type": "code",
   "execution_count": 5,
   "id": "49ad5486",
   "metadata": {},
   "outputs": [],
   "source": [
    "?np.vstack"
   ]
  },
  {
   "cell_type": "code",
   "execution_count": 6,
   "id": "f6518e23",
   "metadata": {},
   "outputs": [
    {
     "data": {
      "image/png": "[encoded data removed]",
      "text/plain": [
       "<Figure size 432x288 with 1 Axes>"
      ]
     },
     "metadata": {
      "needs_background": "light"
     },
     "output_type": "display_data"
    }
   ],
   "source": [
    "# Plotting the dataset\n",
    "\n",
    "plt.plot(dataset, label='inline label')\n",
    "plt.legend(['X1', 'X2', 'Y'])\n",
    "plt.show()"
   ]
  },
  {
   "cell_type": "code",
   "execution_count": 7,
   "id": "c0ae9af9",
   "metadata": {},
   "outputs": [
    {
     "data": {
      "text/plain": [
       "array([[1., 0.],\n",
       "       [1., 0.],\n",
       "       [1., 0.],\n",
       "       [1., 0.],\n",
       "       [1., 0.],\n",
       "       [1., 0.],\n",
       "       [1., 0.],\n",
       "       [1., 0.],\n",
       "       [1., 0.],\n",
       "       [1., 0.],\n",
       "       [0., 1.],\n",
       "       [0., 1.],\n",
       "       [0., 1.],\n",
       "       [0., 1.],\n",
       "       [0., 1.],\n",
       "       [0., 1.],\n",
       "       [0., 1.],\n",
       "       [0., 1.],\n",
       "       [0., 1.],\n",
       "       [0., 1.]])"
      ]
     },
     "execution_count": 7,
     "metadata": {},
     "output_type": "execute_result"
    }
   ],
   "source": [
    "Z = np.zeros((20,2))\n",
    "for i in range(20):\n",
    "    Z[i,y[i]] = 1 \n",
    "    \n",
    "\"\"\"\n",
    "ith row and y[i]th column (which is 0 for 1st 10 rows and 1 for other 10),\n",
    "generating a one hot encoded numpy ndarray\n",
    "\"\"\"\n",
    "    \n",
    "Z"
   ]
  },
  {
   "cell_type": "markdown",
   "id": "de0420a3",
   "metadata": {},
   "source": [
    "## Initialising Weights and Biases\n",
    "\n",
    "creating a 2 layer neural network\n",
    "\n",
    "Wi_1 and Bi_1 are weights and bias for the first layer\n",
    "similarly for Wi_2 and Bi_2"
   ]
  },
  {
   "cell_type": "code",
   "execution_count": 8,
   "id": "5b75a318",
   "metadata": {},
   "outputs": [],
   "source": [
    "Wi_1 = np.random.randn(3,2)\n",
    "Bi_1 = np.random.randn(3)\n",
    "Wi_2 = np.random.randn(3,2)\n",
    "Bi_2 = np.random.randn(2)\n",
    "\n",
    "# randn generates samples from a normal distribution.\n",
    "# 3 neurons in 1st layer, 2 neurons in 2nd layer"
   ]
  },
  {
   "cell_type": "code",
   "execution_count": 9,
   "id": "23e1d671",
   "metadata": {},
   "outputs": [
    {
     "data": {
      "text/plain": [
       "array([[-0.20730729, -0.11724702],\n",
       "       [ 1.23068897, -1.76282907],\n",
       "       [ 0.49375701, -0.47291802]])"
      ]
     },
     "execution_count": 9,
     "metadata": {},
     "output_type": "execute_result"
    }
   ],
   "source": [
    "Wi_1"
   ]
  },
  {
   "cell_type": "code",
   "execution_count": 10,
   "id": "4021794e",
   "metadata": {},
   "outputs": [
    {
     "data": {
      "text/plain": [
       "array([-0.76610005, -0.25312466,  0.35083569])"
      ]
     },
     "execution_count": 10,
     "metadata": {},
     "output_type": "execute_result"
    }
   ],
   "source": [
    "Bi_1"
   ]
  },
  {
   "cell_type": "code",
   "execution_count": 11,
   "id": "ac5ec440",
   "metadata": {},
   "outputs": [
    {
     "data": {
      "text/plain": [
       "array([[1.50246228, 0.79567655],\n",
       "       [0.29640604, 0.92144732],\n",
       "       [2.36296423, 0.36563057]])"
      ]
     },
     "execution_count": 11,
     "metadata": {},
     "output_type": "execute_result"
    }
   ],
   "source": [
    "Wi_2"
   ]
  },
  {
   "cell_type": "code",
   "execution_count": 12,
   "id": "40bb72ba",
   "metadata": {},
   "outputs": [
    {
     "data": {
      "text/plain": [
       "array([1.82446731, 0.6907432 ])"
      ]
     },
     "execution_count": 12,
     "metadata": {},
     "output_type": "execute_result"
    }
   ],
   "source": [
    "Bi_2"
   ]
  },
  {
   "cell_type": "code",
   "execution_count": 13,
   "id": "a154ab73",
   "metadata": {},
   "outputs": [
    {
     "data": {
      "text/plain": [
       "array([[4.8909023 , 2.8450833 ],\n",
       "       [2.57156041, 3.42044003],\n",
       "       [0.80423235, 1.1974828 ],\n",
       "       [4.85795936, 0.13477109],\n",
       "       [3.52189487, 4.87345073],\n",
       "       [3.71325686, 1.93914569],\n",
       "       [2.46139399, 0.66124458],\n",
       "       [3.33641365, 4.66768141],\n",
       "       [2.19331097, 2.81613393],\n",
       "       [2.37870953, 3.18662321],\n",
       "       [3.64736006, 9.82147996],\n",
       "       [4.01827645, 6.90862499],\n",
       "       [0.56481845, 9.46898337],\n",
       "       [0.15340465, 9.09230193],\n",
       "       [7.33416552, 5.56556368],\n",
       "       [9.79859612, 3.41890564],\n",
       "       [5.16084717, 4.82204978],\n",
       "       [8.24048272, 6.52046478],\n",
       "       [0.9860175 , 9.09230411],\n",
       "       [8.65868714, 8.19242489]])"
      ]
     },
     "execution_count": 13,
     "metadata": {},
     "output_type": "execute_result"
    }
   ],
   "source": [
    "X"
   ]
  },
  {
   "cell_type": "code",
   "execution_count": 14,
   "id": "d283282f",
   "metadata": {},
   "outputs": [
    {
     "data": {
      "text/plain": [
       "array([[ -1.34749725,   1.00378395,   1.06942611],\n",
       "       [ -0.93413962,  -2.86486009,  -0.34786176],\n",
       "       [ -0.30712452,  -1.1211976 ,  -0.16921584],\n",
       "       [ -1.02289192,   5.74105861,   2.3349158 ],\n",
       "       [ -1.30151206,  -4.25670345,  -0.56578241],\n",
       "       [ -0.99714428,   1.15148186,   0.91638965],\n",
       "       [ -0.58779388,   1.86354927,   0.90261605],\n",
       "       [ -1.23893461,  -4.12223701,  -0.56005304],\n",
       "       [ -0.78487266,  -2.26507914,  -0.24883783],\n",
       "       [ -0.8667459 ,  -2.69002045,  -0.33250705],\n",
       "       [ -1.90766357, -12.8248246 ,  -2.84384529],\n",
       "       [ -1.64303369,  -7.23347647,  -1.28316112],\n",
       "       [ -1.22730104, -15.99708333,  -4.19916982],\n",
       "       [ -1.09784718, -15.83938076,  -4.22416883],\n",
       "       [ -2.17297175,  -0.78506085,   0.98924024],\n",
       "       [ -2.43217693,   6.03207792,   3.2212634 ],\n",
       "       [ -1.63525221,  -2.14905186,   0.2677702 ],\n",
       "       [ -2.47281722,  -1.35299368,   0.98515077],\n",
       "       [ -1.27045416, -14.81469715,  -3.81306143],\n",
       "       [ -2.75554638,  -3.785694  ,   0.40094207]])"
      ]
     },
     "execution_count": 14,
     "metadata": {},
     "output_type": "execute_result"
    }
   ],
   "source": [
    "X.dot(Wi_1.T)\n",
    "# this would be a step in forward propagation function\n",
    "# Bias is also added to this, and finally activation function is applied on it."
   ]
  },
  {
   "cell_type": "markdown",
   "id": "d5f94ff1",
   "metadata": {},
   "source": [
    "# Defining Forward Propagation Function"
   ]
  },
  {
   "cell_type": "code",
   "execution_count": 15,
   "id": "7be01ac1",
   "metadata": {},
   "outputs": [],
   "source": [
    "def forward_prop(X, Wi_1, Bi_1, Wi_2, Bi_2):\n",
    "    # first layer\n",
    "    M = 1/(1+np.exp(-(X.dot(Wi_1.T) + Bi_1))) # sigmoid function applied.\n",
    "    # second layer\n",
    "    A = M.dot(Wi_2) + Bi_2\n",
    "    expA = np.exp(A)\n",
    "    Y = expA/expA.sum(axis = 1, keepdims = True) # Softmax function applied.\n",
    "    return Y, M"
   ]
  },
  {
   "cell_type": "code",
   "execution_count": 16,
   "id": "964d6d08",
   "metadata": {},
   "outputs": [
    {
     "data": {
      "text/plain": [
       "(array([[0.91636173, 0.08363827],\n",
       "        [0.90172534, 0.09827466],\n",
       "        [0.90692918, 0.09307082],\n",
       "        [0.92289389, 0.07710611],\n",
       "        [0.89071182, 0.10928818],\n",
       "        [0.91305173, 0.08694827],\n",
       "        [0.90982885, 0.09017115],\n",
       "        [0.89133123, 0.10866877],\n",
       "        [0.90553564, 0.09446436],\n",
       "        [0.90253991, 0.09746009],\n",
       "        [0.79114386, 0.20885614],\n",
       "        [0.85268563, 0.14731437],\n",
       "        [0.7790521 , 0.2209479 ],\n",
       "        [0.78061988, 0.21938012],\n",
       "        [0.93012996, 0.06987004],\n",
       "        [0.92280518, 0.07719482],\n",
       "        [0.91972554, 0.08027446],\n",
       "        [0.93323475, 0.06676525],\n",
       "        [0.78177348, 0.21822652],\n",
       "        [0.9241775 , 0.0758225 ]]),\n",
       " array([[1.07782243e-01, 6.79322339e-01, 8.05379456e-01],\n",
       "        [1.54433966e-01, 4.23714674e-02, 5.00743482e-01],\n",
       "        [2.54790345e-01, 2.01922417e-01, 5.45280565e-01],\n",
       "        [1.43196356e-01, 9.95880658e-01, 9.36180618e-01],\n",
       "        [1.12284837e-01, 1.08806598e-02, 4.46469265e-01],\n",
       "        [1.46384476e-01, 7.10611791e-01, 7.80267402e-01],\n",
       "        [2.05234491e-01, 8.33470330e-01, 7.77896803e-01],\n",
       "        [1.18675328e-01, 1.24272114e-02, 4.47885620e-01],\n",
       "        [1.74945823e-01, 7.45918381e-02, 5.25477382e-01],\n",
       "        [1.63440868e-01, 5.00614945e-02, 5.04582033e-01],\n",
       "        [6.45393710e-02, 2.09082600e-06, 7.63496885e-02],\n",
       "        [8.24788499e-02, 5.60230910e-04, 2.82453175e-01],\n",
       "        [1.19897508e-01, 8.76242474e-08, 2.08703591e-02],\n",
       "        [1.34243633e-01, 1.02592036e-07, 2.03655821e-02],\n",
       "        [5.02555579e-02, 2.61500252e-01, 7.92502429e-01],\n",
       "        [3.92306146e-02, 9.96917580e-01, 9.72671043e-01],\n",
       "        [8.30696379e-02, 8.30068767e-02, 6.49901415e-01],\n",
       "        [3.77271782e-02, 1.67128228e-01, 7.91829143e-01],\n",
       "        [1.15418071e-01, 2.85843295e-07, 3.04063460e-02],\n",
       "        [2.87025600e-02, 1.73132438e-02, 6.79565942e-01]]))"
      ]
     },
     "execution_count": 16,
     "metadata": {},
     "output_type": "execute_result"
    }
   ],
   "source": [
    "forward_prop(X, Wi_1, Bi_1, Wi_2, Bi_2)"
   ]
  },
  {
   "cell_type": "markdown",
   "id": "0ca815c7",
   "metadata": {},
   "source": [
    "## Backpropagation by Differentiating or Gradient Descent"
   ]
  },
  {
   "cell_type": "code",
   "execution_count": 19,
   "id": "6df613ae",
   "metadata": {},
   "outputs": [],
   "source": [
    "# Returns gradient for Weight_2\n",
    "def diff_Wi_2(H, Z, Y):\n",
    "    return H.T.dot(Z - Y)\n",
    "\n",
    "# H = Hidden Layer\n",
    "# Z = Predicted Values\n",
    "# Y = Actual values"
   ]
  },
  {
   "cell_type": "code",
   "execution_count": 20,
   "id": "9792ecfc",
   "metadata": {},
   "outputs": [],
   "source": [
    "# returns derivative for both bias\n",
    "\n",
    "def diff_Wi_1(X,H,Z,output,Wi_2):\n",
    "    dZ = (Z - output).dot(Wi_2.T)*H*(1-H)\n",
    "    return X.T.dot(dZ)"
   ]
  },
  {
   "cell_type": "code",
   "execution_count": null,
   "id": "f2a55692",
   "metadata": {},
   "outputs": [],
   "source": []
  }
 ],
 "metadata": {
  "kernelspec": {
   "display_name": "Python 3 (ipykernel)",
   "language": "python",
   "name": "python3"
  },
  "language_info": {
   "codemirror_mode": {
    "name": "ipython",
    "version": 3
   },
   "file_extension": ".py",
   "mimetype": "text/x-python",
   "name": "python",
   "nbconvert_exporter": "python",
   "pygments_lexer": "ipython3",
   "version": "3.9.12"
  }
 },
 "nbformat": 4,
 "nbformat_minor": 5
}
