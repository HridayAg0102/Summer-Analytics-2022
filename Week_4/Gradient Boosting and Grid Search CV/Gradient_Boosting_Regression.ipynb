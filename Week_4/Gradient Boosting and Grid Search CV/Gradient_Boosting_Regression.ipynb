{
 "cells": [
  {
   "cell_type": "markdown",
   "id": "e46c5680",
   "metadata": {},
   "source": [
    "# Gradient Boosting Regression\n",
    "\n",
    "<div class='alert alert-success'><p>\n",
    "    Refered from Documentation: <a href = \"https://scikit-learn.org/dev/auto_examples/ensemble/plot_gradient_boosting_regression.html#\">LINK</a></p></div>"
   ]
  },
  {
   "cell_type": "code",
   "execution_count": 1,
   "id": "4c90550a",
   "metadata": {},
   "outputs": [],
   "source": [
    "import matplotlib.pyplot as plt\n",
    "import numpy as np\n",
    "from sklearn import datasets, ensemble\n",
    "from sklearn.inspection import permutation_importance\n",
    "from sklearn.metrics import mean_squared_error\n",
    "from sklearn.model_selection import train_test_split"
   ]
  },
  {
   "cell_type": "code",
   "execution_count": 2,
   "id": "24f18d88",
   "metadata": {},
   "outputs": [],
   "source": [
    "diabetes = datasets.load_diabetes()\n",
    "X,y = diabetes.data, diabetes.target"
   ]
  },
  {
   "cell_type": "code",
   "execution_count": 14,
   "id": "d510020e",
   "metadata": {},
   "outputs": [
    {
     "name": "stdout",
     "output_type": "stream",
     "text": [
      "['DESCR', 'data', 'data_filename', 'data_module', 'feature_names', 'frame', 'target', 'target_filename']\n",
      "['age', 'sex', 'bmi', 'bp', 's1', 's2', 's3', 's4', 's5', 's6']\n"
     ]
    }
   ],
   "source": [
    "print(dir(diabetes))\n",
    "print(diabetes.feature_names)"
   ]
  },
  {
   "cell_type": "markdown",
   "id": "8d72de9b",
   "metadata": {},
   "source": [
    "### Data Preprocessing\n",
    "\n",
    "n_estimators : the number of boosting stages that will be performed. Later, we will plot deviance against boosting iterations.\n",
    "\n",
    "max_depth : limits the number of nodes in the tree. The best value depends on the interaction of the input variables.\n",
    "\n",
    "min_samples_split : the minimum number of samples required to split an internal node.\n",
    "\n",
    "learning_rate : how much the contribution of each tree will shrink.\n",
    "\n",
    "loss : loss function to optimize. The least squares function is used in this case however, there are many other options (see [GradientBoostingRegressor](https://scikit-learn.org/dev/modules/generated/sklearn.ensemble.GradientBoostingRegressor.html#sklearn.ensemble.GradientBoostingRegressor) )."
   ]
  },
  {
   "cell_type": "code",
   "execution_count": 3,
   "id": "4d9f884c",
   "metadata": {},
   "outputs": [],
   "source": [
    "# Data Preprocessing\n",
    "\n",
    "X_train, X_test, y_train, y_test = train_test_split(\n",
    "    X, y, test_size=0.1, random_state=13\n",
    ")\n",
    "\n",
    "params = {\n",
    "    \"n_estimators\": 500,\n",
    "    \"max_depth\": 4,\n",
    "    \"min_samples_split\": 5,\n",
    "    \"learning_rate\": 0.01,\n",
    "    \"loss\": \"squared_error\",\n",
    "}"
   ]
  },
  {
   "cell_type": "code",
   "execution_count": 4,
   "id": "81368699",
   "metadata": {},
   "outputs": [
    {
     "name": "stdout",
     "output_type": "stream",
     "text": [
      "The mean squared error (MSE) on test set:  3023.6078\n"
     ]
    }
   ],
   "source": [
    "# Fit regression model\n",
    "\n",
    "reg = ensemble.GradientBoostingRegressor(**params)\n",
    "reg.fit(X_train, y_train)\n",
    "\n",
    "# '**' is used to unpack all the elements of a dictionary, list etc.\n",
    "\n",
    "mse = mean_squared_error(y_test, reg.predict(X_test))\n",
    "print(f'The mean squared error (MSE) on test set: {mse : .4f}')"
   ]
  },
  {
   "cell_type": "markdown",
   "id": "0eb0e24e",
   "metadata": {},
   "source": [
    "\n",
    "\n",
    "### PLOT TRAINING DEVIANCE"
   ]
  },
  {
   "cell_type": "code",
   "execution_count": 6,
   "id": "9e4c8e01",
   "metadata": {},
   "outputs": [],
   "source": [
    "test_score = np.zeros((params['n_estimators'], ), dtype = np.float64)\n",
    "for i, y_pred in enumerate(reg.staged_predict(X_test)):\n",
    "    test_score[i] = reg.loss_(y_test,  y_pred)"
   ]
  },
  {
   "cell_type": "markdown",
   "id": "56fc82ab",
   "metadata": {},
   "source": [
    "### USE OF `reg.staged_predict()`\n",
    "Predict regression target at each stage for X.\n",
    "\n",
    "This method allows monitoring (i.e. determine error on testing set)\n",
    "after each stage"
   ]
  },
  {
   "cell_type": "code",
   "execution_count": 10,
   "id": "ff32613f",
   "metadata": {},
   "outputs": [
    {
     "data": {
      "image/png": "[encoded data removed]",
      "text/plain": [
       "<Figure size 432x432 with 1 Axes>"
      ]
     },
     "metadata": {
      "needs_background": "light"
     },
     "output_type": "display_data"
    }
   ],
   "source": [
    "fig = plt.figure(figsize=(6,6))\n",
    "plt.subplot(1,1,1)\n",
    "plt.title('Deviance')\n",
    "plt.plot(\n",
    "    np.arange(params['n_estimators']) + 1,\n",
    "    reg.train_score_,\n",
    "    'b-',\n",
    "    label='Training Set Deviance',\n",
    ")\n",
    "\n",
    "plt.plot(\n",
    "    np.arange(params['n_estimators'])+1, test_score, 'r-', label='Test Set Deviance'\n",
    ")\n",
    "\n",
    "plt.legend(loc='upper right')\n",
    "plt.xlabel('Boosting Iterations')\n",
    "plt.ylabel('Deviance')\n",
    "fig.tight_layout()\n",
    "plt.show()\n"
   ]
  },
  {
   "cell_type": "code",
   "execution_count": 11,
   "id": "9f14c975",
   "metadata": {},
   "outputs": [
    {
     "name": "stdout",
     "output_type": "stream",
     "text": [
      "[0.05543991 0.01179631 0.33102437 0.06944062 0.02431097 0.05445577\n",
      " 0.04013464 0.02603908 0.32201165 0.06534669] \n",
      " [1 4 7 6 5 0 9 3 8 2] \n",
      " [0.5 1.5 2.5 3.5 4.5 5.5 6.5 7.5 8.5 9.5]\n"
     ]
    }
   ],
   "source": [
    "feature_importance = reg.feature_importances_\n",
    "sorted_idx = np.argsort(feature_importance)\n",
    "pos = np.arange(sorted_idx.shape[0]) + 0.5\n",
    "\n",
    "print(feature_importance, '\\n', sorted_idx, '\\n', pos)"
   ]
  },
  {
   "cell_type": "markdown",
   "id": "6d9fa7e1",
   "metadata": {},
   "source": [
    "<div class = 'alert alert-danger'><p>\n",
    "    <b>Need to understand the below box again</b>\n",
    "</p></div>"
   ]
  },
  {
   "cell_type": "code",
   "execution_count": 17,
   "id": "3fc84fd0",
   "metadata": {},
   "outputs": [
    {
     "data": {
      "image/png": "[encoded data removed]",
      "text/plain": [
       "<Figure size 864x432 with 2 Axes>"
      ]
     },
     "metadata": {
      "needs_background": "light"
     },
     "output_type": "display_data"
    }
   ],
   "source": [
    "fig = plt.figure(figsize=(12, 6))\n",
    "\n",
    "\n",
    "plt.subplot(1, 2, 1)\n",
    "plt.barh(pos, feature_importance[sorted_idx], align=\"center\")\n",
    "plt.yticks(pos, np.array(diabetes.feature_names)[sorted_idx])\n",
    "plt.title(\"Feature Importance (MDI)\")\n",
    "\n",
    "\n",
    "result = permutation_importance(\n",
    "    reg, X_test, y_test, n_repeats=10, random_state=42, n_jobs=2\n",
    ")\n",
    "\n",
    "plt.subplot(1, 2, 2)\n",
    "plt.boxplot(\n",
    "    result.importances[sorted_idx].T, # Notice the Transpose...\n",
    "    vert=False,\n",
    "    labels=np.array(diabetes.feature_names)[sorted_idx],\n",
    ")\n",
    "plt.title(\"Permutation Importance (test set)\")\n",
    "fig.tight_layout()\n",
    "plt.show()"
   ]
  },
  {
   "cell_type": "code",
   "execution_count": null,
   "id": "d174b83d",
   "metadata": {},
   "outputs": [],
   "source": []
  }
 ],
 "metadata": {
  "kernelspec": {
   "display_name": "Python 3 (ipykernel)",
   "language": "python",
   "name": "python3"
  },
  "language_info": {
   "codemirror_mode": {
    "name": "ipython",
    "version": 3
   },
   "file_extension": ".py",
   "mimetype": "text/x-python",
   "name": "python",
   "nbconvert_exporter": "python",
   "pygments_lexer": "ipython3",
   "version": "3.9.12"
  }
 },
 "nbformat": 4,
 "nbformat_minor": 5
}
