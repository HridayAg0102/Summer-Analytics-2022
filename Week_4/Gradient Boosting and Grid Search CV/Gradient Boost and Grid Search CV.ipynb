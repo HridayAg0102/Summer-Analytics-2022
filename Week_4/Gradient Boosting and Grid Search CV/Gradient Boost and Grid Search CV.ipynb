{
 "cells": [
  {
   "cell_type": "markdown",
   "id": "f6c88722",
   "metadata": {},
   "source": [
    "# Implementation of Gradient Boost Regressor\n",
    "\n",
    "<div class='alert alert-success'>\n",
    "    <p>Referred Article for Gradient Boosting ==> <a href=\"https://www.analyticsvidhya.com/blog/2021/04/how-the-gradient-boosting-algorithm-works/\">LINK TO ARTICLE</a></p>\n",
    "</div>"
   ]
  },
  {
   "cell_type": "code",
   "execution_count": 2,
   "id": "1faa40e3",
   "metadata": {},
   "outputs": [],
   "source": [
    "# importing modules\n",
    "\n",
    "import numpy as np\n",
    "import pandas as pd\n",
    "from sklearn.ensemble import GradientBoostingRegressor\n",
    "from sklearn.preprocessing import LabelEncoder"
   ]
  },
  {
   "cell_type": "code",
   "execution_count": 3,
   "id": "ebc07cf9",
   "metadata": {},
   "outputs": [],
   "source": [
    "# Creation of Dataframe\n",
    "\n",
    "X=pd.DataFrame({'LikesExercising':[False,False,False,True,False,True,True,True,True],\n",
    "                'GotoGym':[True,True,True,True,True,False,True,False,False],\n",
    "                 'DrivesCar':[True,False,False,True,True,False,True,False,True]})\n",
    "Y=pd.Series(name='Age',data=[14,15,16,26,36,50,69,72,74])"
   ]
  },
  {
   "cell_type": "code",
   "execution_count": 4,
   "id": "2b5a6045",
   "metadata": {},
   "outputs": [
    {
     "data": {
      "text/html": [
       "<div>\n",
       "<style scoped>\n",
       "    .dataframe tbody tr th:only-of-type {\n",
       "        vertical-align: middle;\n",
       "    }\n",
       "\n",
       "    .dataframe tbody tr th {\n",
       "        vertical-align: top;\n",
       "    }\n",
       "\n",
       "    .dataframe thead th {\n",
       "        text-align: right;\n",
       "    }\n",
       "</style>\n",
       "<table border=\"1\" class=\"dataframe\">\n",
       "  <thead>\n",
       "    <tr style=\"text-align: right;\">\n",
       "      <th></th>\n",
       "      <th>LikesExercising</th>\n",
       "      <th>GotoGym</th>\n",
       "      <th>DrivesCar</th>\n",
       "    </tr>\n",
       "  </thead>\n",
       "  <tbody>\n",
       "    <tr>\n",
       "      <th>0</th>\n",
       "      <td>False</td>\n",
       "      <td>True</td>\n",
       "      <td>True</td>\n",
       "    </tr>\n",
       "    <tr>\n",
       "      <th>1</th>\n",
       "      <td>False</td>\n",
       "      <td>True</td>\n",
       "      <td>False</td>\n",
       "    </tr>\n",
       "    <tr>\n",
       "      <th>2</th>\n",
       "      <td>False</td>\n",
       "      <td>True</td>\n",
       "      <td>False</td>\n",
       "    </tr>\n",
       "    <tr>\n",
       "      <th>3</th>\n",
       "      <td>True</td>\n",
       "      <td>True</td>\n",
       "      <td>True</td>\n",
       "    </tr>\n",
       "    <tr>\n",
       "      <th>4</th>\n",
       "      <td>False</td>\n",
       "      <td>True</td>\n",
       "      <td>True</td>\n",
       "    </tr>\n",
       "  </tbody>\n",
       "</table>\n",
       "</div>"
      ],
      "text/plain": [
       "   LikesExercising  GotoGym  DrivesCar\n",
       "0            False     True       True\n",
       "1            False     True      False\n",
       "2            False     True      False\n",
       "3             True     True       True\n",
       "4            False     True       True"
      ]
     },
     "execution_count": 4,
     "metadata": {},
     "output_type": "execute_result"
    }
   ],
   "source": [
    "X.head()"
   ]
  },
  {
   "cell_type": "code",
   "execution_count": 6,
   "id": "fc11afdb",
   "metadata": {},
   "outputs": [
    {
     "data": {
      "text/plain": [
       "0    14\n",
       "1    15\n",
       "2    16\n",
       "3    26\n",
       "4    36\n",
       "Name: Age, dtype: int64"
      ]
     },
     "execution_count": 6,
     "metadata": {},
     "output_type": "execute_result"
    }
   ],
   "source": [
    "Y[:5]"
   ]
  },
  {
   "cell_type": "code",
   "execution_count": 8,
   "id": "c926bd25",
   "metadata": {},
   "outputs": [
    {
     "data": {
      "text/html": [
       "<div>\n",
       "<style scoped>\n",
       "    .dataframe tbody tr th:only-of-type {\n",
       "        vertical-align: middle;\n",
       "    }\n",
       "\n",
       "    .dataframe tbody tr th {\n",
       "        vertical-align: top;\n",
       "    }\n",
       "\n",
       "    .dataframe thead th {\n",
       "        text-align: right;\n",
       "    }\n",
       "</style>\n",
       "<table border=\"1\" class=\"dataframe\">\n",
       "  <thead>\n",
       "    <tr style=\"text-align: right;\">\n",
       "      <th></th>\n",
       "      <th>LikesExercising</th>\n",
       "      <th>GotoGym</th>\n",
       "      <th>DrivesCar</th>\n",
       "    </tr>\n",
       "  </thead>\n",
       "  <tbody>\n",
       "    <tr>\n",
       "      <th>0</th>\n",
       "      <td>0</td>\n",
       "      <td>1</td>\n",
       "      <td>1</td>\n",
       "    </tr>\n",
       "    <tr>\n",
       "      <th>1</th>\n",
       "      <td>0</td>\n",
       "      <td>1</td>\n",
       "      <td>0</td>\n",
       "    </tr>\n",
       "    <tr>\n",
       "      <th>2</th>\n",
       "      <td>0</td>\n",
       "      <td>1</td>\n",
       "      <td>0</td>\n",
       "    </tr>\n",
       "    <tr>\n",
       "      <th>3</th>\n",
       "      <td>1</td>\n",
       "      <td>1</td>\n",
       "      <td>1</td>\n",
       "    </tr>\n",
       "    <tr>\n",
       "      <th>4</th>\n",
       "      <td>0</td>\n",
       "      <td>1</td>\n",
       "      <td>1</td>\n",
       "    </tr>\n",
       "  </tbody>\n",
       "</table>\n",
       "</div>"
      ],
      "text/plain": [
       "   LikesExercising  GotoGym  DrivesCar\n",
       "0                0        1          1\n",
       "1                0        1          0\n",
       "2                0        1          0\n",
       "3                1        1          1\n",
       "4                0        1          1"
      ]
     },
     "execution_count": 8,
     "metadata": {},
     "output_type": "execute_result"
    }
   ],
   "source": [
    "# Label Encoding True and False to 1 and 0\n",
    "LE = LabelEncoder()\n",
    "X['LikesExercising'] = LE.fit_transform(X[\"LikesExercising\"])\n",
    "X['GotoGym'] = LE.fit_transform(X[\"GotoGym\"])\n",
    "X['DrivesCar'] = LE.fit_transform(X[\"DrivesCar\"])\n",
    "\n",
    "X.head()"
   ]
  },
  {
   "cell_type": "code",
   "execution_count": 10,
   "id": "5fa74bcf",
   "metadata": {},
   "outputs": [
    {
     "data": {
      "text/plain": [
       "array([38.23 , 36.425, 36.425, 42.505, 38.23 , 45.07 , 42.505, 45.07 ,\n",
       "       47.54 ])"
      ]
     },
     "execution_count": 10,
     "metadata": {},
     "output_type": "execute_result"
    }
   ],
   "source": [
    "# 1) Let us now use  GradientBoostingRegressor with 2 estimators \n",
    "# to train the model and to predict the age for the same inputs. \n",
    "\n",
    "GB = GradientBoostingRegressor(n_estimators = 2)\n",
    "GB.fit(X,Y)\n",
    "Y_pred = GB.predict(X) \n",
    "#ages predicted by model with 2 estimators \n",
    "\n",
    "Y_pred"
   ]
  },
  {
   "cell_type": "code",
   "execution_count": 12,
   "id": "93d5ac87",
   "metadata": {},
   "outputs": [
    {
     "name": "stdout",
     "output_type": "stream",
     "text": [
      "Mean Squared Error for 2 estimators:  432.48205555555546\n"
     ]
    }
   ],
   "source": [
    "# Finding Mean Squared Error of prediction with Gradient Boosting having 2 estimators\n",
    "\n",
    "MSE_2 = (sum((Y-Y_pred)**2))/len(Y)\n",
    "print('Mean Squared Error for 2 estimators: ', MSE_2)"
   ]
  },
  {
   "cell_type": "markdown",
   "id": "75d9b6c2",
   "metadata": {},
   "source": [
    "## Doing same thing for 3 and 50 estimators"
   ]
  },
  {
   "cell_type": "code",
   "execution_count": 13,
   "id": "fc4cbc6f",
   "metadata": {},
   "outputs": [
    {
     "data": {
      "text/plain": [
       "array([36.907 , 34.3325, 34.3325, 43.0045, 36.907 , 46.663 , 43.0045,\n",
       "       46.663 , 50.186 ])"
      ]
     },
     "execution_count": 13,
     "metadata": {},
     "output_type": "execute_result"
    }
   ],
   "source": [
    "# 2) Let us now use GradientBoostingRegressor with 3 estimators \n",
    "#to train the model and to predict the age for the same inputs. \n",
    "\n",
    "GB=GradientBoostingRegressor(n_estimators=3)\n",
    "GB.fit(X,Y)\n",
    "Y_predict=GB.predict(X) #ages predicted by model with 3 estimators\n",
    "Y_predict"
   ]
  },
  {
   "cell_type": "code",
   "execution_count": 14,
   "id": "74fc8246",
   "metadata": {},
   "outputs": [
    {
     "name": "stdout",
     "output_type": "stream",
     "text": [
      "MSE for three estimators : 380.05602055555556\n"
     ]
    }
   ],
   "source": [
    "MSE_3=(sum((Y-Y_predict)**2))/len(Y)\n",
    "print('MSE for three estimators :',MSE_3)"
   ]
  },
  {
   "cell_type": "markdown",
   "id": "75f8f1de",
   "metadata": {},
   "source": [
    "<hr><hr>"
   ]
  },
  {
   "cell_type": "code",
   "execution_count": 15,
   "id": "9b45a21b",
   "metadata": {},
   "outputs": [
    {
     "data": {
      "text/plain": [
       "array([25.08417833, 15.63313919, 15.63313919, 47.46821839, 25.08417833,\n",
       "       60.89864242, 47.46821839, 60.89864242, 73.83164334])"
      ]
     },
     "execution_count": 15,
     "metadata": {},
     "output_type": "execute_result"
    }
   ],
   "source": [
    "# 3) Let us now use GradientBoostingRegressor with 50 estimators \n",
    "#to train the model and to predict the age for the same inputs.\n",
    "\n",
    "GB=GradientBoostingRegressor(n_estimators=50)\n",
    "GB.fit(X,Y)\n",
    "Y_predict=GB.predict(X) #ages predicted by model with 50 estimators\n",
    "Y_predict"
   ]
  },
  {
   "cell_type": "code",
   "execution_count": 16,
   "id": "b7ef621f",
   "metadata": {},
   "outputs": [
    {
     "name": "stdout",
     "output_type": "stream",
     "text": [
      "MSE for fifty estimators : 156.5667260994211\n"
     ]
    }
   ],
   "source": [
    "MSE_50=(sum((Y-Y_predict)**2))/len(Y)\n",
    "print('MSE for fifty estimators :',MSE_50)"
   ]
  },
  {
   "cell_type": "code",
   "execution_count": null,
   "id": "9e744548",
   "metadata": {},
   "outputs": [],
   "source": []
  },
  {
   "cell_type": "markdown",
   "id": "cd366af5",
   "metadata": {},
   "source": [
    "## Observation:\n",
    "As we can see here, MSE reduces as we increase the estimator value. The situation comes where MSE becomes saturated which means even if we increase the estimator value there will be no significant decrease in MSE."
   ]
  },
  {
   "cell_type": "code",
   "execution_count": null,
   "id": "dedc027d",
   "metadata": {},
   "outputs": [],
   "source": []
  },
  {
   "cell_type": "code",
   "execution_count": null,
   "id": "a5f11c07",
   "metadata": {},
   "outputs": [],
   "source": []
  },
  {
   "cell_type": "markdown",
   "id": "928fb276",
   "metadata": {},
   "source": [
    "# <font color=\"purple\">Finding the best estimator with GridSearchCV:</font>\n"
   ]
  },
  {
   "cell_type": "code",
   "execution_count": 17,
   "id": "62a96d09",
   "metadata": {},
   "outputs": [],
   "source": [
    "from sklearn.model_selection import GridSearchCV\n",
    "?GridSearchCV"
   ]
  },
  {
   "cell_type": "code",
   "execution_count": 18,
   "id": "0c82c305",
   "metadata": {},
   "outputs": [
    {
     "name": "stdout",
     "output_type": "stream",
     "text": [
      "The best fit estimator returned by GridSearch CV is: GradientBoostingRegressor(n_estimators=19)\n"
     ]
    }
   ],
   "source": [
    "model = GradientBoostingRegressor()\n",
    "params = {'n_estimators': range(1,200)}\n",
    "grid = GridSearchCV(estimator = model,\n",
    "                   cv=2,\n",
    "                   param_grid = params,\n",
    "                   scoring = 'neg_mean_squared_error')\n",
    "\n",
    "grid.fit(X,Y)\n",
    "print(\"The best fit estimator returned by GridSearch CV is:\", grid.best_estimator_)\n"
   ]
  },
  {
   "cell_type": "code",
   "execution_count": 19,
   "id": "57d91795",
   "metadata": {},
   "outputs": [
    {
     "data": {
      "text/plain": [
       "array([27.20639114, 18.98970027, 18.98970027, 46.66697477, 27.20639114,\n",
       "       58.34332496, 46.66697477, 58.34332496, 69.58721772])"
      ]
     },
     "execution_count": 19,
     "metadata": {},
     "output_type": "execute_result"
    }
   ],
   "source": [
    "GB = grid.best_estimator_\n",
    "GB.fit(X,Y)\n",
    "\n",
    "Y_pred = GB.predict(X)\n",
    "Y_pred"
   ]
  },
  {
   "cell_type": "code",
   "execution_count": 20,
   "id": "c40e07a3",
   "metadata": {},
   "outputs": [
    {
     "name": "stdout",
     "output_type": "stream",
     "text": [
      "MSE for best estimators = 156.5667260994211\n"
     ]
    }
   ],
   "source": [
    "#Following code is used to find out MSE of prediction for \n",
    "#Gradient boosting algorithm with best estimator value given by GridSearchCV\n",
    "\n",
    "\n",
    "MSE_best=(sum((Y-Y_predict)**2))/len(Y)\n",
    "print('MSE for best estimators =', MSE_best)"
   ]
  },
  {
   "cell_type": "markdown",
   "id": "bef9357a",
   "metadata": {},
   "source": [
    "<div class = 'alert alert-info'><p>\n",
    "<strong>Observation:</strong>\n",
    "You may think that MSE for n_estimator=50 is better than MSE for n_estimator=19. Still GridSearchCV returns 19 not 50. Actually, we can observe here is until 19 with each increment in estimator value the reduction in MSE was significant, but after 19 there is no significant decrease in MSE with increment in estimators. So, n_estimator=19 was returned by GridSearchSV.</p></div>"
   ]
  },
  {
   "cell_type": "code",
   "execution_count": null,
   "id": "ebb4fae6",
   "metadata": {},
   "outputs": [],
   "source": []
  }
 ],
 "metadata": {
  "kernelspec": {
   "display_name": "Python 3 (ipykernel)",
   "language": "python",
   "name": "python3"
  },
  "language_info": {
   "codemirror_mode": {
    "name": "ipython",
    "version": 3
   },
   "file_extension": ".py",
   "mimetype": "text/x-python",
   "name": "python",
   "nbconvert_exporter": "python",
   "pygments_lexer": "ipython3",
   "version": "3.10.4"
  }
 },
 "nbformat": 4,
 "nbformat_minor": 5
}
