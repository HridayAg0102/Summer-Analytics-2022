{
 "cells": [
  {
   "cell_type": "code",
   "execution_count": 4,
   "id": "50e4f9ba",
   "metadata": {},
   "outputs": [],
   "source": [
    "import numpy as np\n",
    "import pandas as pd\n",
    "import matplotlib.pyplot as plt\n",
    "import seaborn as sns\n",
    "import warnings\n",
    "warnings.filterwarnings('ignore')"
   ]
  },
  {
   "cell_type": "code",
   "execution_count": 5,
   "id": "c2e3667d",
   "metadata": {},
   "outputs": [],
   "source": [
    "df = pd.read_csv('Train_data.csv')"
   ]
  },
  {
   "cell_type": "code",
   "execution_count": 6,
   "id": "879474c4",
   "metadata": {},
   "outputs": [],
   "source": [
    "from sklearn.compose import ColumnTransformer\n",
    "from sklearn.metrics import confusion_matrix, classification_report\n",
    "from sklearn.model_selection import cross_val_score, GridSearchCV, validation_curve\n",
    "from sklearn.preprocessing import StandardScaler, QuantileTransformer, MinMaxScaler, RobustScaler\n",
    "from sklearn.pipeline import Pipeline\n",
    "from sklearn.ensemble import RandomForestClassifier, AdaBoostClassifier"
   ]
  },
  {
   "cell_type": "code",
   "execution_count": 7,
   "id": "a15b74a3",
   "metadata": {},
   "outputs": [],
   "source": [
    "col_transform = [col for col in df.columns if col not in ['Target']]"
   ]
  },
  {
   "cell_type": "code",
   "execution_count": 13,
   "id": "c7adbe66",
   "metadata": {},
   "outputs": [],
   "source": [
    "X = df[col_transform]\n",
    "y = df['Target']"
   ]
  },
  {
   "cell_type": "code",
   "execution_count": 15,
   "id": "2a1c4ed0",
   "metadata": {},
   "outputs": [],
   "source": [
    "transformer = ColumnTransformer(transformers = [('scaling',RobustScaler(),\n",
    "                                                 col_transform)])"
   ]
  },
  {
   "cell_type": "code",
   "execution_count": 16,
   "id": "96c75f96",
   "metadata": {},
   "outputs": [],
   "source": [
    "from xgboost import XGBClassifier"
   ]
  },
  {
   "cell_type": "code",
   "execution_count": 17,
   "id": "2d1efeaa",
   "metadata": {},
   "outputs": [],
   "source": [
    "xgb = XGBClassifier()"
   ]
  },
  {
   "cell_type": "code",
   "execution_count": 18,
   "id": "8967ff18",
   "metadata": {},
   "outputs": [],
   "source": [
    "pipeline_xgb = Pipeline(steps = [('transformer',transformer),('xgb',XGBClassifier())])"
   ]
  },
  {
   "cell_type": "code",
   "execution_count": 19,
   "id": "8558ac88",
   "metadata": {},
   "outputs": [],
   "source": [
    "cv_score_xgb = cross_val_score(pipeline_xgb,X,y,cv =5)"
   ]
  },
  {
   "cell_type": "code",
   "execution_count": 20,
   "id": "f8e0fcb1",
   "metadata": {},
   "outputs": [
    {
     "data": {
      "text/plain": [
       "0.716635129576306"
      ]
     },
     "execution_count": 20,
     "metadata": {},
     "output_type": "execute_result"
    }
   ],
   "source": [
    "cv_score_xgb.mean()"
   ]
  },
  {
   "cell_type": "code",
   "execution_count": 21,
   "id": "73b551ac",
   "metadata": {},
   "outputs": [],
   "source": [
    "params_xgb = {'xgb__n_estimators':[100, 300, 500, 750, 800, 1200] ,\n",
    "              'xgb__max_depth': [5, 10, 15, 20, 25,30],'xgb__learning_rate':[0.01, 0.1, 1, 0.001, 0.5]}"
   ]
  },
  {
   "cell_type": "code",
   "execution_count": 22,
   "id": "3d9df1a3",
   "metadata": {},
   "outputs": [],
   "source": [
    "grid_xgb = GridSearchCV(pipeline_xgb,param_grid=params_xgb,cv=5,verbose=1,n_jobs=4)"
   ]
  },
  {
   "cell_type": "code",
   "execution_count": 23,
   "id": "aa99298d",
   "metadata": {},
   "outputs": [
    {
     "name": "stdout",
     "output_type": "stream",
     "text": [
      "Fitting 5 folds for each of 180 candidates, totalling 900 fits\n"
     ]
    },
    {
     "data": {
      "text/plain": [
       "GridSearchCV(cv=5,\n",
       "             estimator=Pipeline(steps=[('transformer',\n",
       "                                        ColumnTransformer(transformers=[('scaling',\n",
       "                                                                         RobustScaler(),\n",
       "                                                                         ['GP',\n",
       "                                                                          'MIN',\n",
       "                                                                          'PTS',\n",
       "                                                                          'FGM',\n",
       "                                                                          'FGA',\n",
       "                                                                          'FG%',\n",
       "                                                                          '3P '\n",
       "                                                                          'Made',\n",
       "                                                                          '3PA',\n",
       "                                                                          '3P%',\n",
       "                                                                          'FTM',\n",
       "                                                                          'FTA',\n",
       "                                                                          'FT%',\n",
       "                                                                          'OREB',\n",
       "                                                                          'DREB',\n",
       "                                                                          'REB',\n",
       "                                                                          'AST',\n",
       "                                                                          'STL',\n",
       "                                                                          'BLK',\n",
       "                                                                          'TOV'])])),\n",
       "                                       ('xgb',\n",
       "                                        XGBClassifier(base_score=None,\n",
       "                                                      booster=None,\n",
       "                                                      callbacks=None,\n",
       "                                                      colsample_bylevel=None,\n",
       "                                                      colsample_bynode=No...\n",
       "                                                      max_leaves=None,\n",
       "                                                      min_child_weight=None,\n",
       "                                                      missing=nan,\n",
       "                                                      monotone_constraints=None,\n",
       "                                                      n_estimators=100,\n",
       "                                                      n_jobs=None,\n",
       "                                                      num_parallel_tree=None,\n",
       "                                                      predictor=None,\n",
       "                                                      random_state=None,\n",
       "                                                      reg_alpha=None,\n",
       "                                                      reg_lambda=None, ...))]),\n",
       "             n_jobs=4,\n",
       "             param_grid={'xgb__learning_rate': [0.01, 0.1, 1, 0.001, 0.5],\n",
       "                         'xgb__max_depth': [5, 10, 15, 20, 25, 30],\n",
       "                         'xgb__n_estimators': [100, 300, 500, 750, 800, 1200]},\n",
       "             verbose=1)"
      ]
     },
     "execution_count": 23,
     "metadata": {},
     "output_type": "execute_result"
    }
   ],
   "source": [
    "grid_xgb.fit(X,y)"
   ]
  },
  {
   "cell_type": "code",
   "execution_count": 24,
   "id": "d5e65b29",
   "metadata": {},
   "outputs": [
    {
     "data": {
      "text/plain": [
       "{'xgb__learning_rate': 0.5, 'xgb__max_depth': 10, 'xgb__n_estimators': 800}"
      ]
     },
     "execution_count": 24,
     "metadata": {},
     "output_type": "execute_result"
    }
   ],
   "source": [
    "grid_xgb.best_params_"
   ]
  },
  {
   "cell_type": "code",
   "execution_count": 25,
   "id": "edf9b748",
   "metadata": {},
   "outputs": [],
   "source": [
    "pipeline_xgb_best = Pipeline(steps = [('transformer',transformer),('xgb',XGBClassifier(n_estimators = 800,max_depth = 10, learning_rate = 0.5))])"
   ]
  },
  {
   "cell_type": "code",
   "execution_count": 26,
   "id": "2a6a26cc",
   "metadata": {},
   "outputs": [],
   "source": [
    "cv_score_xgb_best = cross_val_score(pipeline_xgb_best,X,y,cv =5)"
   ]
  },
  {
   "cell_type": "code",
   "execution_count": 27,
   "id": "3662cdfb",
   "metadata": {},
   "outputs": [
    {
     "data": {
      "text/plain": [
       "0.7338667215137804"
      ]
     },
     "execution_count": 27,
     "metadata": {},
     "output_type": "execute_result"
    }
   ],
   "source": [
    "cv_score_xgb_best.mean()"
   ]
  },
  {
   "cell_type": "code",
   "execution_count": 29,
   "id": "f27d5dec",
   "metadata": {},
   "outputs": [],
   "source": [
    "X_train = X\n",
    "y_train = y"
   ]
  },
  {
   "cell_type": "code",
   "execution_count": 30,
   "id": "bf970704",
   "metadata": {},
   "outputs": [
    {
     "data": {
      "text/plain": [
       "Pipeline(steps=[('transformer',\n",
       "                 ColumnTransformer(transformers=[('scaling', RobustScaler(),\n",
       "                                                  ['GP', 'MIN', 'PTS', 'FGM',\n",
       "                                                   'FGA', 'FG%', '3P Made',\n",
       "                                                   '3PA', '3P%', 'FTM', 'FTA',\n",
       "                                                   'FT%', 'OREB', 'DREB', 'REB',\n",
       "                                                   'AST', 'STL', 'BLK',\n",
       "                                                   'TOV'])])),\n",
       "                ('xgb',\n",
       "                 XGBClassifier(base_score=0.5, booster='gbtree', callbacks=None,\n",
       "                               colsample_bylevel=1, colsample_bynode=1,\n",
       "                               colsample_bytree=1, early_stopp...\n",
       "                               gamma=0, gpu_id=-1, grow_policy='depthwise',\n",
       "                               importance_type=None, interaction_constraints='',\n",
       "                               learning_rate=0.5, max_bin=256,\n",
       "                               max_cat_to_onehot=4, max_delta_step=0,\n",
       "                               max_depth=10, max_leaves=0, min_child_weight=1,\n",
       "                               missing=nan, monotone_constraints='()',\n",
       "                               n_estimators=800, n_jobs=0, num_parallel_tree=1,\n",
       "                               predictor='auto', random_state=0, reg_alpha=0,\n",
       "                               reg_lambda=1, ...))])"
      ]
     },
     "execution_count": 30,
     "metadata": {},
     "output_type": "execute_result"
    }
   ],
   "source": [
    "pipeline_xgb_best.fit(X_train,y_train)"
   ]
  },
  {
   "cell_type": "code",
   "execution_count": 32,
   "id": "3b038d0b",
   "metadata": {},
   "outputs": [],
   "source": [
    "X_test = pd.read_csv('Test_data.csv')"
   ]
  },
  {
   "cell_type": "code",
   "execution_count": 33,
   "id": "b79c99b5",
   "metadata": {},
   "outputs": [],
   "source": [
    "predictions_xgb = pipeline_xgb_best.predict(X_test)"
   ]
  },
  {
   "cell_type": "code",
   "execution_count": 34,
   "id": "06c709de",
   "metadata": {},
   "outputs": [],
   "source": [
    "predictions = pd.DataFrame(predictions_xgb, columns = ['prediction'])\n",
    "predictions.to_csv('submission_5.csv')"
   ]
  }
 ],
 "metadata": {
  "kernelspec": {
   "display_name": "Python 3 (ipykernel)",
   "language": "python",
   "name": "python3"
  },
  "language_info": {
   "codemirror_mode": {
    "name": "ipython",
    "version": 3
   },
   "file_extension": ".py",
   "mimetype": "text/x-python",
   "name": "python",
   "nbconvert_exporter": "python",
   "pygments_lexer": "ipython3",
   "version": "3.10.4"
  }
 },
 "nbformat": 4,
 "nbformat_minor": 5
}
