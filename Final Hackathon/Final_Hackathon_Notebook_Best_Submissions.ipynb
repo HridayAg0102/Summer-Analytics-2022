{
 "cells": [
  {
   "cell_type": "markdown",
   "id": "e941bf55",
   "metadata": {},
   "source": [
    "<center><h1 style=\"color:#FF0000; font-size:50px; padding:10px; font-family:'serif'\">\n",
    "    FINAL HACKATHON </h1></center>"
   ]
  },
  {
   "cell_type": "markdown",
   "id": "9c79a5ac",
   "metadata": {},
   "source": [
    "## PROBLEM STATEMENT\n",
    "\n",
    "Artificial Intelligence is an integral part of all major e-commerce companies today. Today's online retail platforms are heavily powered by algorithms and applications that use AI. Machine learning is used in a variety of ways, from inventory control and quality assurance in the warehouse to product recommendations and sales demographics on the website.\n",
    "\n",
    "Let’s say you want to create a promotional campaign for an e-commerce store and offer discounts to customers in the hopes that this might increase your sales.\n",
    "\n",
    "You have been provided descriptions of products on Amazon and Flipkart, including details like product title, ratings, reviews, and actual prices. In this challenge, you will predict discounted prices of the listed products based on their ratings and actual prices.\n",
    "\n",
    "## Data Description\n",
    "\n",
    "- title - Name of the product\n",
    "- Rating- average rating given to a product\n",
    "- maincateg - category that the product is listed under(men/women)\n",
    "- platform - platform on which it is sold on (Eg. Amazon, Flipkart)\n",
    "- price1 - Discounted Price of the listed product\n",
    "- actprice1 - Actual price of the listed product\n",
    "- Offer % - Discount percent\n",
    "- norating1 - number of ratings available for a particular product\n",
    "- noreviews1 - number of reviews available for a particular product\n",
    "- star_5f - number of five star ratings given to a particular product\n",
    "- star_4f - number of four star ratings given to a particular product\n",
    "- star_3f - number of three star ratings given to a particular product\n",
    "- star_2f - number of two star ratings given to a particular product\n",
    "- star_1f - number of one star ratings given to a particular product\n",
    "- fulfilled1- whether it is Amazon fulfilled or not"
   ]
  },
  {
   "cell_type": "code",
   "execution_count": 42,
   "id": "e3cd1a2d",
   "metadata": {},
   "outputs": [],
   "source": [
    "# importing libraries\n",
    "\n",
    "import numpy as np\n",
    "import pandas as pd\n",
    "import matplotlib.pyplot as plt\n",
    "import seaborn as sns\n",
    "\n",
    "# model selection\n",
    "from sklearn.model_selection import train_test_split\n",
    "from sklearn.model_selection import GridSearchCV\n",
    "from sklearn.model_selection import cross_val_score\n",
    "\n",
    "# importing preprocessing tools and Pipeline\n",
    "from sklearn.compose import ColumnTransformer\n",
    "from sklearn.pipeline import Pipeline\n",
    "from sklearn.impute import SimpleImputer\n",
    "from sklearn.preprocessing import OneHotEncoder\n",
    "from sklearn.preprocessing import StandardScaler\n",
    "\n",
    "\n",
    "# importing models\n",
    "from sklearn.ensemble import GradientBoostingRegressor\n",
    "from sklearn.svm import SVR\n",
    "# from sklearn.linear_model import LogisticRegression\n",
    "from sklearn.linear_model import Ridge\n",
    "from xgboost import XGBRegressor\n",
    "from sklearn.ensemble import RandomForestRegressor"
   ]
  },
  {
   "cell_type": "code",
   "execution_count": 2,
   "id": "2713b3d6",
   "metadata": {},
   "outputs": [],
   "source": [
    "# importing datasets\n",
    "\n",
    "df_train = pd.read_csv('./train.csv')\n",
    "df_test = pd.read_csv('./test.csv')"
   ]
  },
  {
   "cell_type": "code",
   "execution_count": 41,
   "id": "5439d835",
   "metadata": {},
   "outputs": [
    {
     "data": {
      "text/plain": [
       "Rating          0\n",
       "maincateg       0\n",
       "platform        0\n",
       "price1          0\n",
       "actprice1       0\n",
       "norating1     678\n",
       "noreviews1    578\n",
       "star_5f       588\n",
       "star_4f       539\n",
       "star_3f       231\n",
       "star_2f         0\n",
       "star_1f         0\n",
       "fulfilled1      0\n",
       "dtype: int64"
      ]
     },
     "execution_count": 41,
     "metadata": {},
     "output_type": "execute_result"
    }
   ],
   "source": [
    "df_train.isna().sum()"
   ]
  },
  {
   "cell_type": "code",
   "execution_count": 4,
   "id": "37b63ef2",
   "metadata": {},
   "outputs": [
    {
     "data": {
      "text/plain": [
       "id              0\n",
       "title           0\n",
       "Rating        203\n",
       "maincateg      67\n",
       "platform        0\n",
       "actprice1       0\n",
       "norating1       0\n",
       "noreviews1      0\n",
       "star_5f        68\n",
       "star_4f         0\n",
       "star_3f         0\n",
       "star_2f         0\n",
       "star_1f       186\n",
       "fulfilled1      0\n",
       "dtype: int64"
      ]
     },
     "execution_count": 4,
     "metadata": {},
     "output_type": "execute_result"
    }
   ],
   "source": [
    "df_test.isna().sum()"
   ]
  },
  {
   "cell_type": "code",
   "execution_count": 5,
   "id": "87aebd82",
   "metadata": {},
   "outputs": [],
   "source": [
    "df_train.drop('Offer %', inplace = True, axis = 1) # this column not present in test dataset"
   ]
  },
  {
   "cell_type": "code",
   "execution_count": 6,
   "id": "bf39ace9",
   "metadata": {},
   "outputs": [
    {
     "name": "stdout",
     "output_type": "stream",
     "text": [
      "id              0\n",
      "title           0\n",
      "Rating          0\n",
      "maincateg       0\n",
      "platform        0\n",
      "price1          0\n",
      "actprice1       0\n",
      "norating1     678\n",
      "noreviews1    578\n",
      "star_5f       588\n",
      "star_4f       539\n",
      "star_3f       231\n",
      "star_2f         0\n",
      "star_1f         0\n",
      "fulfilled1      0\n",
      "dtype: int64\n",
      "id              0\n",
      "title           0\n",
      "Rating        203\n",
      "maincateg       0\n",
      "platform        0\n",
      "actprice1       0\n",
      "norating1       0\n",
      "noreviews1      0\n",
      "star_5f        68\n",
      "star_4f         0\n",
      "star_3f         0\n",
      "star_2f         0\n",
      "star_1f       186\n",
      "fulfilled1      0\n",
      "dtype: int64\n"
     ]
    }
   ],
   "source": [
    "# imputing maincateg column using title names\n",
    "\n",
    "def impute_main_categ(df):\n",
    "    df_maincateg_impute = df.loc[df.maincateg.isna(), :]\n",
    "    for i in df_maincateg_impute.index:\n",
    "        if 'Men' in df_maincateg_impute.loc[i, 'title']:\n",
    "            df.loc[i, 'maincateg'] = 'Men'\n",
    "        else:\n",
    "            df.loc[i, 'maincateg'] = 'Women'\n",
    "            \n",
    "impute_main_categ(df_train)\n",
    "impute_main_categ(df_test)\n",
    "\n",
    "print(df_train.isna().sum())\n",
    "print(df_test.isna().sum())"
   ]
  },
  {
   "cell_type": "code",
   "execution_count": 7,
   "id": "78f38640",
   "metadata": {},
   "outputs": [],
   "source": [
    "df_train.drop(['title', 'id'], inplace = True, axis = 1)\n",
    "\n",
    "id_col = df_test['id'] # saving the id column of test dataset\n",
    "\n",
    "df_test.drop(['title', 'id'], inplace = True, axis = 1)"
   ]
  },
  {
   "cell_type": "code",
   "execution_count": 8,
   "id": "af60be0a",
   "metadata": {},
   "outputs": [],
   "source": [
    "X = df_train.loc[:, [col for col in df_train if col != 'price1']]\n",
    "y = df_train.loc[:, 'price1']"
   ]
  },
  {
   "cell_type": "code",
   "execution_count": 9,
   "id": "42f16ab7",
   "metadata": {},
   "outputs": [],
   "source": [
    "median_imputer = SimpleImputer(strategy= 'median')\n",
    "ohe = OneHotEncoder()\n",
    "mean_imputer = SimpleImputer(strategy = 'mean')\n",
    "\n",
    "transformer = ColumnTransformer(transformers = [\n",
    "    ('ohe_encoder', ohe, ['maincateg', 'platform']),\n",
    "    ('imputer', median_imputer, ['star_5f', 'star_4f', 'star_3f', 'star_2f', 'star_1f']),\n",
    "    ('imputer_mean', mean_imputer, ['Rating', 'norating1', 'noreviews1'])\n",
    "], remainder = 'passthrough')"
   ]
  },
  {
   "cell_type": "code",
   "execution_count": 10,
   "id": "25c57ce7",
   "metadata": {},
   "outputs": [],
   "source": [
    "random_f = RandomForestRegressor(random_state = 0)\n",
    "pipe = Pipeline(steps = [\n",
    "    ('imputing and encoding', transformer),\n",
    "    ('model', random_f)\n",
    "])"
   ]
  },
  {
   "cell_type": "code",
   "execution_count": 11,
   "id": "6b0398d2",
   "metadata": {},
   "outputs": [],
   "source": [
    "score = cross_val_score(pipe, X, y, cv = 5)"
   ]
  },
  {
   "cell_type": "code",
   "execution_count": 12,
   "id": "6c55f74c",
   "metadata": {},
   "outputs": [
    {
     "data": {
      "text/plain": [
       "array([0.91229786, 0.89746921, 0.91378218, 0.89785711, 0.89854571])"
      ]
     },
     "execution_count": 12,
     "metadata": {},
     "output_type": "execute_result"
    }
   ],
   "source": [
    "score"
   ]
  },
  {
   "cell_type": "code",
   "execution_count": 13,
   "id": "943adbdc",
   "metadata": {},
   "outputs": [
    {
     "data": {
      "text/plain": [
       "dict_keys(['memory', 'steps', 'verbose', 'imputing and encoding', 'model', 'imputing and encoding__n_jobs', 'imputing and encoding__remainder', 'imputing and encoding__sparse_threshold', 'imputing and encoding__transformer_weights', 'imputing and encoding__transformers', 'imputing and encoding__verbose', 'imputing and encoding__verbose_feature_names_out', 'imputing and encoding__ohe_encoder', 'imputing and encoding__imputer', 'imputing and encoding__imputer_mean', 'imputing and encoding__ohe_encoder__categories', 'imputing and encoding__ohe_encoder__drop', 'imputing and encoding__ohe_encoder__dtype', 'imputing and encoding__ohe_encoder__handle_unknown', 'imputing and encoding__ohe_encoder__sparse', 'imputing and encoding__imputer__add_indicator', 'imputing and encoding__imputer__copy', 'imputing and encoding__imputer__fill_value', 'imputing and encoding__imputer__missing_values', 'imputing and encoding__imputer__strategy', 'imputing and encoding__imputer__verbose', 'imputing and encoding__imputer_mean__add_indicator', 'imputing and encoding__imputer_mean__copy', 'imputing and encoding__imputer_mean__fill_value', 'imputing and encoding__imputer_mean__missing_values', 'imputing and encoding__imputer_mean__strategy', 'imputing and encoding__imputer_mean__verbose', 'model__bootstrap', 'model__ccp_alpha', 'model__criterion', 'model__max_depth', 'model__max_features', 'model__max_leaf_nodes', 'model__max_samples', 'model__min_impurity_decrease', 'model__min_samples_leaf', 'model__min_samples_split', 'model__min_weight_fraction_leaf', 'model__n_estimators', 'model__n_jobs', 'model__oob_score', 'model__random_state', 'model__verbose', 'model__warm_start'])"
      ]
     },
     "execution_count": 13,
     "metadata": {},
     "output_type": "execute_result"
    }
   ],
   "source": [
    "pipe.get_params().keys()"
   ]
  },
  {
   "cell_type": "code",
   "execution_count": 14,
   "id": "f43fc377",
   "metadata": {},
   "outputs": [],
   "source": [
    "# params = {\n",
    "#     'model__n_estimators':[1000, 5000, 10000],\n",
    "#     'model__max_depth': [10, 15]\n",
    "# }\n",
    "\n",
    "# gs = GridSearchCV(\n",
    "#     pipe, param_grid = params, scoring = 'neg_root_mean_squared_error', cv = 3, n_jobs = 3, verbose = 5\n",
    "# )"
   ]
  },
  {
   "cell_type": "code",
   "execution_count": 15,
   "id": "9ffe5206",
   "metadata": {},
   "outputs": [],
   "source": [
    "# gs.fit(X,y)"
   ]
  },
  {
   "cell_type": "code",
   "execution_count": 16,
   "id": "7acfbd6b",
   "metadata": {},
   "outputs": [],
   "source": [
    "# gs.best_params_"
   ]
  },
  {
   "cell_type": "code",
   "execution_count": 17,
   "id": "9e526b7a",
   "metadata": {},
   "outputs": [],
   "source": [
    "random_f_final = RandomForestRegressor(n_estimators = 10000, random_state = 0)\n",
    "\n",
    "pipe = Pipeline(steps = [\n",
    "    ('imputing and encoding', transformer),\n",
    "    ('model', random_f)\n",
    "])"
   ]
  },
  {
   "cell_type": "code",
   "execution_count": 18,
   "id": "abe09412",
   "metadata": {},
   "outputs": [
    {
     "data": {
      "text/plain": [
       "Pipeline(steps=[('imputing and encoding',\n",
       "                 ColumnTransformer(remainder='passthrough',\n",
       "                                   transformers=[('ohe_encoder',\n",
       "                                                  OneHotEncoder(),\n",
       "                                                  ['maincateg', 'platform']),\n",
       "                                                 ('imputer',\n",
       "                                                  SimpleImputer(strategy='median'),\n",
       "                                                  ['star_5f', 'star_4f',\n",
       "                                                   'star_3f', 'star_2f',\n",
       "                                                   'star_1f']),\n",
       "                                                 ('imputer_mean',\n",
       "                                                  SimpleImputer(),\n",
       "                                                  ['Rating', 'norating1',\n",
       "                                                   'noreviews1'])])),\n",
       "                ('model', RandomForestRegressor(random_state=0))])"
      ]
     },
     "execution_count": 18,
     "metadata": {},
     "output_type": "execute_result"
    }
   ],
   "source": [
    "pipe.fit(X,y)"
   ]
  },
  {
   "cell_type": "code",
   "execution_count": 19,
   "id": "aa880546",
   "metadata": {},
   "outputs": [],
   "source": [
    "preds = pd.DataFrame(pipe.predict(df_test), columns = ['price1'])"
   ]
  },
  {
   "cell_type": "code",
   "execution_count": 20,
   "id": "c59cf270",
   "metadata": {},
   "outputs": [
    {
     "data": {
      "text/html": [
       "<div>\n",
       "<style scoped>\n",
       "    .dataframe tbody tr th:only-of-type {\n",
       "        vertical-align: middle;\n",
       "    }\n",
       "\n",
       "    .dataframe tbody tr th {\n",
       "        vertical-align: top;\n",
       "    }\n",
       "\n",
       "    .dataframe thead th {\n",
       "        text-align: right;\n",
       "    }\n",
       "</style>\n",
       "<table border=\"1\" class=\"dataframe\">\n",
       "  <thead>\n",
       "    <tr style=\"text-align: right;\">\n",
       "      <th></th>\n",
       "      <th>price1</th>\n",
       "    </tr>\n",
       "  </thead>\n",
       "  <tbody>\n",
       "    <tr>\n",
       "      <th>0</th>\n",
       "      <td>428.047714</td>\n",
       "    </tr>\n",
       "    <tr>\n",
       "      <th>1</th>\n",
       "      <td>282.440000</td>\n",
       "    </tr>\n",
       "    <tr>\n",
       "      <th>2</th>\n",
       "      <td>466.024000</td>\n",
       "    </tr>\n",
       "    <tr>\n",
       "      <th>3</th>\n",
       "      <td>918.410000</td>\n",
       "    </tr>\n",
       "    <tr>\n",
       "      <th>4</th>\n",
       "      <td>399.765714</td>\n",
       "    </tr>\n",
       "    <tr>\n",
       "      <th>...</th>\n",
       "      <td>...</td>\n",
       "    </tr>\n",
       "    <tr>\n",
       "      <th>5239</th>\n",
       "      <td>425.030000</td>\n",
       "    </tr>\n",
       "    <tr>\n",
       "      <th>5240</th>\n",
       "      <td>744.209000</td>\n",
       "    </tr>\n",
       "    <tr>\n",
       "      <th>5241</th>\n",
       "      <td>388.701430</td>\n",
       "    </tr>\n",
       "    <tr>\n",
       "      <th>5242</th>\n",
       "      <td>188.580000</td>\n",
       "    </tr>\n",
       "    <tr>\n",
       "      <th>5243</th>\n",
       "      <td>734.660000</td>\n",
       "    </tr>\n",
       "  </tbody>\n",
       "</table>\n",
       "<p>5244 rows × 1 columns</p>\n",
       "</div>"
      ],
      "text/plain": [
       "          price1\n",
       "0     428.047714\n",
       "1     282.440000\n",
       "2     466.024000\n",
       "3     918.410000\n",
       "4     399.765714\n",
       "...          ...\n",
       "5239  425.030000\n",
       "5240  744.209000\n",
       "5241  388.701430\n",
       "5242  188.580000\n",
       "5243  734.660000\n",
       "\n",
       "[5244 rows x 1 columns]"
      ]
     },
     "execution_count": 20,
     "metadata": {},
     "output_type": "execute_result"
    }
   ],
   "source": [
    "preds"
   ]
  },
  {
   "cell_type": "code",
   "execution_count": 21,
   "id": "f6ca8f83",
   "metadata": {},
   "outputs": [
    {
     "data": {
      "text/html": [
       "<div>\n",
       "<style scoped>\n",
       "    .dataframe tbody tr th:only-of-type {\n",
       "        vertical-align: middle;\n",
       "    }\n",
       "\n",
       "    .dataframe tbody tr th {\n",
       "        vertical-align: top;\n",
       "    }\n",
       "\n",
       "    .dataframe thead th {\n",
       "        text-align: right;\n",
       "    }\n",
       "</style>\n",
       "<table border=\"1\" class=\"dataframe\">\n",
       "  <thead>\n",
       "    <tr style=\"text-align: right;\">\n",
       "      <th></th>\n",
       "      <th>id</th>\n",
       "    </tr>\n",
       "  </thead>\n",
       "  <tbody>\n",
       "    <tr>\n",
       "      <th>0</th>\n",
       "      <td>2242</td>\n",
       "    </tr>\n",
       "    <tr>\n",
       "      <th>1</th>\n",
       "      <td>20532</td>\n",
       "    </tr>\n",
       "    <tr>\n",
       "      <th>2</th>\n",
       "      <td>10648</td>\n",
       "    </tr>\n",
       "    <tr>\n",
       "      <th>3</th>\n",
       "      <td>20677</td>\n",
       "    </tr>\n",
       "    <tr>\n",
       "      <th>4</th>\n",
       "      <td>12593</td>\n",
       "    </tr>\n",
       "    <tr>\n",
       "      <th>...</th>\n",
       "      <td>...</td>\n",
       "    </tr>\n",
       "    <tr>\n",
       "      <th>5239</th>\n",
       "      <td>14033</td>\n",
       "    </tr>\n",
       "    <tr>\n",
       "      <th>5240</th>\n",
       "      <td>297</td>\n",
       "    </tr>\n",
       "    <tr>\n",
       "      <th>5241</th>\n",
       "      <td>18733</td>\n",
       "    </tr>\n",
       "    <tr>\n",
       "      <th>5242</th>\n",
       "      <td>6162</td>\n",
       "    </tr>\n",
       "    <tr>\n",
       "      <th>5243</th>\n",
       "      <td>13574</td>\n",
       "    </tr>\n",
       "  </tbody>\n",
       "</table>\n",
       "<p>5244 rows × 1 columns</p>\n",
       "</div>"
      ],
      "text/plain": [
       "         id\n",
       "0      2242\n",
       "1     20532\n",
       "2     10648\n",
       "3     20677\n",
       "4     12593\n",
       "...     ...\n",
       "5239  14033\n",
       "5240    297\n",
       "5241  18733\n",
       "5242   6162\n",
       "5243  13574\n",
       "\n",
       "[5244 rows x 1 columns]"
      ]
     },
     "execution_count": 21,
     "metadata": {},
     "output_type": "execute_result"
    }
   ],
   "source": [
    "id_col = pd.DataFrame(id_col, columns = ['id'])\n",
    "id_col"
   ]
  },
  {
   "cell_type": "code",
   "execution_count": 22,
   "id": "3ec956a5",
   "metadata": {},
   "outputs": [
    {
     "data": {
      "text/html": [
       "<div>\n",
       "<style scoped>\n",
       "    .dataframe tbody tr th:only-of-type {\n",
       "        vertical-align: middle;\n",
       "    }\n",
       "\n",
       "    .dataframe tbody tr th {\n",
       "        vertical-align: top;\n",
       "    }\n",
       "\n",
       "    .dataframe thead th {\n",
       "        text-align: right;\n",
       "    }\n",
       "</style>\n",
       "<table border=\"1\" class=\"dataframe\">\n",
       "  <thead>\n",
       "    <tr style=\"text-align: right;\">\n",
       "      <th></th>\n",
       "      <th>id</th>\n",
       "      <th>price1</th>\n",
       "    </tr>\n",
       "  </thead>\n",
       "  <tbody>\n",
       "    <tr>\n",
       "      <th>0</th>\n",
       "      <td>2242</td>\n",
       "      <td>428.047714</td>\n",
       "    </tr>\n",
       "    <tr>\n",
       "      <th>1</th>\n",
       "      <td>20532</td>\n",
       "      <td>282.440000</td>\n",
       "    </tr>\n",
       "    <tr>\n",
       "      <th>2</th>\n",
       "      <td>10648</td>\n",
       "      <td>466.024000</td>\n",
       "    </tr>\n",
       "    <tr>\n",
       "      <th>3</th>\n",
       "      <td>20677</td>\n",
       "      <td>918.410000</td>\n",
       "    </tr>\n",
       "    <tr>\n",
       "      <th>4</th>\n",
       "      <td>12593</td>\n",
       "      <td>399.765714</td>\n",
       "    </tr>\n",
       "    <tr>\n",
       "      <th>...</th>\n",
       "      <td>...</td>\n",
       "      <td>...</td>\n",
       "    </tr>\n",
       "    <tr>\n",
       "      <th>5239</th>\n",
       "      <td>14033</td>\n",
       "      <td>425.030000</td>\n",
       "    </tr>\n",
       "    <tr>\n",
       "      <th>5240</th>\n",
       "      <td>297</td>\n",
       "      <td>744.209000</td>\n",
       "    </tr>\n",
       "    <tr>\n",
       "      <th>5241</th>\n",
       "      <td>18733</td>\n",
       "      <td>388.701430</td>\n",
       "    </tr>\n",
       "    <tr>\n",
       "      <th>5242</th>\n",
       "      <td>6162</td>\n",
       "      <td>188.580000</td>\n",
       "    </tr>\n",
       "    <tr>\n",
       "      <th>5243</th>\n",
       "      <td>13574</td>\n",
       "      <td>734.660000</td>\n",
       "    </tr>\n",
       "  </tbody>\n",
       "</table>\n",
       "<p>5244 rows × 2 columns</p>\n",
       "</div>"
      ],
      "text/plain": [
       "         id      price1\n",
       "0      2242  428.047714\n",
       "1     20532  282.440000\n",
       "2     10648  466.024000\n",
       "3     20677  918.410000\n",
       "4     12593  399.765714\n",
       "...     ...         ...\n",
       "5239  14033  425.030000\n",
       "5240    297  744.209000\n",
       "5241  18733  388.701430\n",
       "5242   6162  188.580000\n",
       "5243  13574  734.660000\n",
       "\n",
       "[5244 rows x 2 columns]"
      ]
     },
     "execution_count": 22,
     "metadata": {},
     "output_type": "execute_result"
    }
   ],
   "source": [
    "submission = pd.concat([id_col, preds], axis = 1)\n",
    "submission"
   ]
  },
  {
   "cell_type": "code",
   "execution_count": 23,
   "id": "365ff903",
   "metadata": {},
   "outputs": [],
   "source": [
    "submission.to_csv('submission_simple_model.csv', index = False)"
   ]
  },
  {
   "cell_type": "markdown",
   "id": "db0669ca",
   "metadata": {},
   "source": [
    "# Trying XGBRegressor"
   ]
  },
  {
   "cell_type": "code",
   "execution_count": 24,
   "id": "2d119c1a",
   "metadata": {},
   "outputs": [],
   "source": [
    "xgb = XGBRegressor()\n",
    "\n",
    "pipe_xgb = Pipeline(steps = [\n",
    "    ('imputing and encoding', transformer),\n",
    "    ('model_xgb', xgb)\n",
    "])"
   ]
  },
  {
   "cell_type": "code",
   "execution_count": 25,
   "id": "a908773e",
   "metadata": {},
   "outputs": [],
   "source": [
    "score = cross_val_score(pipe, X, y, cv = 5)"
   ]
  },
  {
   "cell_type": "code",
   "execution_count": 26,
   "id": "b0bfbf17",
   "metadata": {},
   "outputs": [
    {
     "data": {
      "text/plain": [
       "array([0.91229786, 0.89746921, 0.91378218, 0.89785711, 0.89854571])"
      ]
     },
     "execution_count": 26,
     "metadata": {},
     "output_type": "execute_result"
    }
   ],
   "source": [
    "score"
   ]
  },
  {
   "cell_type": "code",
   "execution_count": 27,
   "id": "99b798fc",
   "metadata": {},
   "outputs": [],
   "source": [
    "params = {\n",
    "    'model_xgb__n_estimators':[1000, 5000],\n",
    "    'model_xgb__max_depth': [1, 3, 5, 10, 15]\n",
    "}\n",
    "\n",
    "gs = GridSearchCV(\n",
    "    pipe_xgb, param_grid = params, scoring = 'neg_root_mean_squared_error', cv = 3, n_jobs = 3, verbose = 5\n",
    ")"
   ]
  },
  {
   "cell_type": "code",
   "execution_count": 28,
   "id": "018d9340",
   "metadata": {},
   "outputs": [
    {
     "name": "stdout",
     "output_type": "stream",
     "text": [
      "Fitting 3 folds for each of 10 candidates, totalling 30 fits\n"
     ]
    },
    {
     "data": {
      "text/plain": [
       "GridSearchCV(cv=3,\n",
       "             estimator=Pipeline(steps=[('imputing and encoding',\n",
       "                                        ColumnTransformer(remainder='passthrough',\n",
       "                                                          transformers=[('ohe_encoder',\n",
       "                                                                         OneHotEncoder(),\n",
       "                                                                         ['maincateg',\n",
       "                                                                          'platform']),\n",
       "                                                                        ('imputer',\n",
       "                                                                         SimpleImputer(strategy='median'),\n",
       "                                                                         ['star_5f',\n",
       "                                                                          'star_4f',\n",
       "                                                                          'star_3f',\n",
       "                                                                          'star_2f',\n",
       "                                                                          'star_1f']),\n",
       "                                                                        ('imputer_mean',\n",
       "                                                                         SimpleImputer(),\n",
       "                                                                         ['Rating',\n",
       "                                                                          'norating1',\n",
       "                                                                          'noreviews1'])])),\n",
       "                                       (...\n",
       "                                                     max_depth=None,\n",
       "                                                     max_leaves=None,\n",
       "                                                     min_child_weight=None,\n",
       "                                                     missing=nan,\n",
       "                                                     monotone_constraints=None,\n",
       "                                                     n_estimators=100,\n",
       "                                                     n_jobs=None,\n",
       "                                                     num_parallel_tree=None,\n",
       "                                                     predictor=None,\n",
       "                                                     random_state=None,\n",
       "                                                     reg_alpha=None,\n",
       "                                                     reg_lambda=None, ...))]),\n",
       "             n_jobs=3,\n",
       "             param_grid={'model_xgb__max_depth': [1, 3, 5, 10, 15],\n",
       "                         'model_xgb__n_estimators': [1000, 5000]},\n",
       "             scoring='neg_root_mean_squared_error', verbose=5)"
      ]
     },
     "execution_count": 28,
     "metadata": {},
     "output_type": "execute_result"
    }
   ],
   "source": [
    "gs.fit(X,y)"
   ]
  },
  {
   "cell_type": "code",
   "execution_count": 29,
   "id": "0fbede86",
   "metadata": {},
   "outputs": [
    {
     "data": {
      "text/plain": [
       "{'model_xgb__max_depth': 10, 'model_xgb__n_estimators': 1000}"
      ]
     },
     "execution_count": 29,
     "metadata": {},
     "output_type": "execute_result"
    }
   ],
   "source": [
    "gs.best_params_"
   ]
  },
  {
   "cell_type": "code",
   "execution_count": 30,
   "id": "b3bf2d49",
   "metadata": {},
   "outputs": [
    {
     "data": {
      "text/plain": [
       "Pipeline(steps=[('imputing and encoding',\n",
       "                 ColumnTransformer(remainder='passthrough',\n",
       "                                   transformers=[('ohe_encoder',\n",
       "                                                  OneHotEncoder(),\n",
       "                                                  ['maincateg', 'platform']),\n",
       "                                                 ('imputer',\n",
       "                                                  SimpleImputer(strategy='median'),\n",
       "                                                  ['star_5f', 'star_4f',\n",
       "                                                   'star_3f', 'star_2f',\n",
       "                                                   'star_1f']),\n",
       "                                                 ('imputer_mean',\n",
       "                                                  SimpleImputer(),\n",
       "                                                  ['Rating', 'norating1',\n",
       "                                                   'noreviews1'])])),\n",
       "                ('model_xgb',\n",
       "                 XGBRegressor(bas...\n",
       "                              gamma=0, gpu_id=-1, grow_policy='depthwise',\n",
       "                              importance_type=None, interaction_constraints='',\n",
       "                              learning_rate=0.300000012, max_bin=256,\n",
       "                              max_cat_to_onehot=4, max_delta_step=0,\n",
       "                              max_depth=5, max_leaves=0, min_child_weight=1,\n",
       "                              missing=nan, monotone_constraints='()',\n",
       "                              n_estimators=1000, n_jobs=0, num_parallel_tree=1,\n",
       "                              predictor='auto', random_state=0, reg_alpha=0,\n",
       "                              reg_lambda=1, ...))])"
      ]
     },
     "execution_count": 30,
     "metadata": {},
     "output_type": "execute_result"
    }
   ],
   "source": [
    "xgb = XGBRegressor(max_depth = 5, n_estimators = 1000)\n",
    "\n",
    "pipe_xgb_final = Pipeline(steps = [\n",
    "    ('imputing and encoding', transformer),\n",
    "    ('model_xgb', xgb)\n",
    "])\n",
    "\n",
    "pipe_xgb_final.fit(X,y)"
   ]
  },
  {
   "cell_type": "code",
   "execution_count": 31,
   "id": "9ca36454",
   "metadata": {},
   "outputs": [
    {
     "data": {
      "text/html": [
       "<div>\n",
       "<style scoped>\n",
       "    .dataframe tbody tr th:only-of-type {\n",
       "        vertical-align: middle;\n",
       "    }\n",
       "\n",
       "    .dataframe tbody tr th {\n",
       "        vertical-align: top;\n",
       "    }\n",
       "\n",
       "    .dataframe thead th {\n",
       "        text-align: right;\n",
       "    }\n",
       "</style>\n",
       "<table border=\"1\" class=\"dataframe\">\n",
       "  <thead>\n",
       "    <tr style=\"text-align: right;\">\n",
       "      <th></th>\n",
       "      <th>price1</th>\n",
       "    </tr>\n",
       "  </thead>\n",
       "  <tbody>\n",
       "    <tr>\n",
       "      <th>0</th>\n",
       "      <td>418.289337</td>\n",
       "    </tr>\n",
       "    <tr>\n",
       "      <th>1</th>\n",
       "      <td>271.637878</td>\n",
       "    </tr>\n",
       "    <tr>\n",
       "      <th>2</th>\n",
       "      <td>408.082672</td>\n",
       "    </tr>\n",
       "    <tr>\n",
       "      <th>3</th>\n",
       "      <td>878.644409</td>\n",
       "    </tr>\n",
       "    <tr>\n",
       "      <th>4</th>\n",
       "      <td>398.354218</td>\n",
       "    </tr>\n",
       "    <tr>\n",
       "      <th>...</th>\n",
       "      <td>...</td>\n",
       "    </tr>\n",
       "    <tr>\n",
       "      <th>5239</th>\n",
       "      <td>332.200409</td>\n",
       "    </tr>\n",
       "    <tr>\n",
       "      <th>5240</th>\n",
       "      <td>857.268311</td>\n",
       "    </tr>\n",
       "    <tr>\n",
       "      <th>5241</th>\n",
       "      <td>387.738861</td>\n",
       "    </tr>\n",
       "    <tr>\n",
       "      <th>5242</th>\n",
       "      <td>203.177795</td>\n",
       "    </tr>\n",
       "    <tr>\n",
       "      <th>5243</th>\n",
       "      <td>722.723022</td>\n",
       "    </tr>\n",
       "  </tbody>\n",
       "</table>\n",
       "<p>5244 rows × 1 columns</p>\n",
       "</div>"
      ],
      "text/plain": [
       "          price1\n",
       "0     418.289337\n",
       "1     271.637878\n",
       "2     408.082672\n",
       "3     878.644409\n",
       "4     398.354218\n",
       "...          ...\n",
       "5239  332.200409\n",
       "5240  857.268311\n",
       "5241  387.738861\n",
       "5242  203.177795\n",
       "5243  722.723022\n",
       "\n",
       "[5244 rows x 1 columns]"
      ]
     },
     "execution_count": 31,
     "metadata": {},
     "output_type": "execute_result"
    }
   ],
   "source": [
    "preds_xgb = pd.DataFrame(pipe_xgb_final.predict(df_test), columns = ['price1'])\n",
    "preds_xgb"
   ]
  },
  {
   "cell_type": "code",
   "execution_count": 32,
   "id": "3b6d07ef",
   "metadata": {},
   "outputs": [
    {
     "data": {
      "text/html": [
       "<div>\n",
       "<style scoped>\n",
       "    .dataframe tbody tr th:only-of-type {\n",
       "        vertical-align: middle;\n",
       "    }\n",
       "\n",
       "    .dataframe tbody tr th {\n",
       "        vertical-align: top;\n",
       "    }\n",
       "\n",
       "    .dataframe thead th {\n",
       "        text-align: right;\n",
       "    }\n",
       "</style>\n",
       "<table border=\"1\" class=\"dataframe\">\n",
       "  <thead>\n",
       "    <tr style=\"text-align: right;\">\n",
       "      <th></th>\n",
       "      <th>id</th>\n",
       "      <th>price1</th>\n",
       "    </tr>\n",
       "  </thead>\n",
       "  <tbody>\n",
       "    <tr>\n",
       "      <th>0</th>\n",
       "      <td>2242</td>\n",
       "      <td>418.289337</td>\n",
       "    </tr>\n",
       "    <tr>\n",
       "      <th>1</th>\n",
       "      <td>20532</td>\n",
       "      <td>271.637878</td>\n",
       "    </tr>\n",
       "    <tr>\n",
       "      <th>2</th>\n",
       "      <td>10648</td>\n",
       "      <td>408.082672</td>\n",
       "    </tr>\n",
       "    <tr>\n",
       "      <th>3</th>\n",
       "      <td>20677</td>\n",
       "      <td>878.644409</td>\n",
       "    </tr>\n",
       "    <tr>\n",
       "      <th>4</th>\n",
       "      <td>12593</td>\n",
       "      <td>398.354218</td>\n",
       "    </tr>\n",
       "    <tr>\n",
       "      <th>...</th>\n",
       "      <td>...</td>\n",
       "      <td>...</td>\n",
       "    </tr>\n",
       "    <tr>\n",
       "      <th>5239</th>\n",
       "      <td>14033</td>\n",
       "      <td>332.200409</td>\n",
       "    </tr>\n",
       "    <tr>\n",
       "      <th>5240</th>\n",
       "      <td>297</td>\n",
       "      <td>857.268311</td>\n",
       "    </tr>\n",
       "    <tr>\n",
       "      <th>5241</th>\n",
       "      <td>18733</td>\n",
       "      <td>387.738861</td>\n",
       "    </tr>\n",
       "    <tr>\n",
       "      <th>5242</th>\n",
       "      <td>6162</td>\n",
       "      <td>203.177795</td>\n",
       "    </tr>\n",
       "    <tr>\n",
       "      <th>5243</th>\n",
       "      <td>13574</td>\n",
       "      <td>722.723022</td>\n",
       "    </tr>\n",
       "  </tbody>\n",
       "</table>\n",
       "<p>5244 rows × 2 columns</p>\n",
       "</div>"
      ],
      "text/plain": [
       "         id      price1\n",
       "0      2242  418.289337\n",
       "1     20532  271.637878\n",
       "2     10648  408.082672\n",
       "3     20677  878.644409\n",
       "4     12593  398.354218\n",
       "...     ...         ...\n",
       "5239  14033  332.200409\n",
       "5240    297  857.268311\n",
       "5241  18733  387.738861\n",
       "5242   6162  203.177795\n",
       "5243  13574  722.723022\n",
       "\n",
       "[5244 rows x 2 columns]"
      ]
     },
     "execution_count": 32,
     "metadata": {},
     "output_type": "execute_result"
    }
   ],
   "source": [
    "submission_xgb_simple = pd.concat([id_col, preds_xgb], axis = 1)\n",
    "submission_xgb_simple"
   ]
  },
  {
   "cell_type": "code",
   "execution_count": 33,
   "id": "a8223aef",
   "metadata": {},
   "outputs": [],
   "source": [
    "submission_xgb_simple.to_csv('submission_xgb_simple.csv', index = False)"
   ]
  },
  {
   "cell_type": "markdown",
   "id": "9bbf7e79",
   "metadata": {},
   "source": [
    "## Trying Ridge Regression\n",
    "\n",
    "<div class = 'alert alert-danger'> Very poor result of this approach </div>"
   ]
  },
  {
   "cell_type": "code",
   "execution_count": 34,
   "id": "ead45920",
   "metadata": {},
   "outputs": [],
   "source": [
    "rg = Ridge(alpha = 0.001)\n",
    "\n",
    "pipe_rg = Pipeline(steps = [\n",
    "    ('imputing and encoding', transformer),\n",
    "    ('model_rg', rg)\n",
    "])\n"
   ]
  },
  {
   "cell_type": "code",
   "execution_count": 35,
   "id": "7a0ef35b",
   "metadata": {},
   "outputs": [
    {
     "data": {
      "text/plain": [
       "Pipeline(steps=[('imputing and encoding',\n",
       "                 ColumnTransformer(remainder='passthrough',\n",
       "                                   transformers=[('ohe_encoder',\n",
       "                                                  OneHotEncoder(),\n",
       "                                                  ['maincateg', 'platform']),\n",
       "                                                 ('imputer',\n",
       "                                                  SimpleImputer(strategy='median'),\n",
       "                                                  ['star_5f', 'star_4f',\n",
       "                                                   'star_3f', 'star_2f',\n",
       "                                                   'star_1f']),\n",
       "                                                 ('imputer_mean',\n",
       "                                                  SimpleImputer(),\n",
       "                                                  ['Rating', 'norating1',\n",
       "                                                   'noreviews1'])])),\n",
       "                ('model_rg', Ridge(alpha=0.001))])"
      ]
     },
     "execution_count": 35,
     "metadata": {},
     "output_type": "execute_result"
    }
   ],
   "source": [
    "pipe_rg.fit(X,y)"
   ]
  },
  {
   "cell_type": "code",
   "execution_count": 36,
   "id": "52ea0d83",
   "metadata": {},
   "outputs": [
    {
     "data": {
      "text/html": [
       "<div>\n",
       "<style scoped>\n",
       "    .dataframe tbody tr th:only-of-type {\n",
       "        vertical-align: middle;\n",
       "    }\n",
       "\n",
       "    .dataframe tbody tr th {\n",
       "        vertical-align: top;\n",
       "    }\n",
       "\n",
       "    .dataframe thead th {\n",
       "        text-align: right;\n",
       "    }\n",
       "</style>\n",
       "<table border=\"1\" class=\"dataframe\">\n",
       "  <thead>\n",
       "    <tr style=\"text-align: right;\">\n",
       "      <th></th>\n",
       "      <th>price1</th>\n",
       "    </tr>\n",
       "  </thead>\n",
       "  <tbody>\n",
       "    <tr>\n",
       "      <th>0</th>\n",
       "      <td>447.121399</td>\n",
       "    </tr>\n",
       "    <tr>\n",
       "      <th>1</th>\n",
       "      <td>292.138971</td>\n",
       "    </tr>\n",
       "    <tr>\n",
       "      <th>2</th>\n",
       "      <td>519.509797</td>\n",
       "    </tr>\n",
       "    <tr>\n",
       "      <th>3</th>\n",
       "      <td>1433.362971</td>\n",
       "    </tr>\n",
       "    <tr>\n",
       "      <th>4</th>\n",
       "      <td>465.337908</td>\n",
       "    </tr>\n",
       "    <tr>\n",
       "      <th>...</th>\n",
       "      <td>...</td>\n",
       "    </tr>\n",
       "    <tr>\n",
       "      <th>5239</th>\n",
       "      <td>398.794553</td>\n",
       "    </tr>\n",
       "    <tr>\n",
       "      <th>5240</th>\n",
       "      <td>917.241446</td>\n",
       "    </tr>\n",
       "    <tr>\n",
       "      <th>5241</th>\n",
       "      <td>437.408141</td>\n",
       "    </tr>\n",
       "    <tr>\n",
       "      <th>5242</th>\n",
       "      <td>216.756559</td>\n",
       "    </tr>\n",
       "    <tr>\n",
       "      <th>5243</th>\n",
       "      <td>665.557038</td>\n",
       "    </tr>\n",
       "  </tbody>\n",
       "</table>\n",
       "<p>5244 rows × 1 columns</p>\n",
       "</div>"
      ],
      "text/plain": [
       "           price1\n",
       "0      447.121399\n",
       "1      292.138971\n",
       "2      519.509797\n",
       "3     1433.362971\n",
       "4      465.337908\n",
       "...           ...\n",
       "5239   398.794553\n",
       "5240   917.241446\n",
       "5241   437.408141\n",
       "5242   216.756559\n",
       "5243   665.557038\n",
       "\n",
       "[5244 rows x 1 columns]"
      ]
     },
     "execution_count": 36,
     "metadata": {},
     "output_type": "execute_result"
    }
   ],
   "source": [
    "preds_rg = pd.DataFrame(pipe_rg.predict(df_test), columns = ['price1'])\n",
    "preds_rg"
   ]
  },
  {
   "cell_type": "code",
   "execution_count": 37,
   "id": "6be1a8f0",
   "metadata": {},
   "outputs": [
    {
     "data": {
      "text/html": [
       "<div>\n",
       "<style scoped>\n",
       "    .dataframe tbody tr th:only-of-type {\n",
       "        vertical-align: middle;\n",
       "    }\n",
       "\n",
       "    .dataframe tbody tr th {\n",
       "        vertical-align: top;\n",
       "    }\n",
       "\n",
       "    .dataframe thead th {\n",
       "        text-align: right;\n",
       "    }\n",
       "</style>\n",
       "<table border=\"1\" class=\"dataframe\">\n",
       "  <thead>\n",
       "    <tr style=\"text-align: right;\">\n",
       "      <th></th>\n",
       "      <th>id</th>\n",
       "      <th>price1</th>\n",
       "    </tr>\n",
       "  </thead>\n",
       "  <tbody>\n",
       "    <tr>\n",
       "      <th>0</th>\n",
       "      <td>2242</td>\n",
       "      <td>447.121399</td>\n",
       "    </tr>\n",
       "    <tr>\n",
       "      <th>1</th>\n",
       "      <td>20532</td>\n",
       "      <td>292.138971</td>\n",
       "    </tr>\n",
       "    <tr>\n",
       "      <th>2</th>\n",
       "      <td>10648</td>\n",
       "      <td>519.509797</td>\n",
       "    </tr>\n",
       "    <tr>\n",
       "      <th>3</th>\n",
       "      <td>20677</td>\n",
       "      <td>1433.362971</td>\n",
       "    </tr>\n",
       "    <tr>\n",
       "      <th>4</th>\n",
       "      <td>12593</td>\n",
       "      <td>465.337908</td>\n",
       "    </tr>\n",
       "    <tr>\n",
       "      <th>...</th>\n",
       "      <td>...</td>\n",
       "      <td>...</td>\n",
       "    </tr>\n",
       "    <tr>\n",
       "      <th>5239</th>\n",
       "      <td>14033</td>\n",
       "      <td>398.794553</td>\n",
       "    </tr>\n",
       "    <tr>\n",
       "      <th>5240</th>\n",
       "      <td>297</td>\n",
       "      <td>917.241446</td>\n",
       "    </tr>\n",
       "    <tr>\n",
       "      <th>5241</th>\n",
       "      <td>18733</td>\n",
       "      <td>437.408141</td>\n",
       "    </tr>\n",
       "    <tr>\n",
       "      <th>5242</th>\n",
       "      <td>6162</td>\n",
       "      <td>216.756559</td>\n",
       "    </tr>\n",
       "    <tr>\n",
       "      <th>5243</th>\n",
       "      <td>13574</td>\n",
       "      <td>665.557038</td>\n",
       "    </tr>\n",
       "  </tbody>\n",
       "</table>\n",
       "<p>5244 rows × 2 columns</p>\n",
       "</div>"
      ],
      "text/plain": [
       "         id       price1\n",
       "0      2242   447.121399\n",
       "1     20532   292.138971\n",
       "2     10648   519.509797\n",
       "3     20677  1433.362971\n",
       "4     12593   465.337908\n",
       "...     ...          ...\n",
       "5239  14033   398.794553\n",
       "5240    297   917.241446\n",
       "5241  18733   437.408141\n",
       "5242   6162   216.756559\n",
       "5243  13574   665.557038\n",
       "\n",
       "[5244 rows x 2 columns]"
      ]
     },
     "execution_count": 37,
     "metadata": {},
     "output_type": "execute_result"
    }
   ],
   "source": [
    "submission_rg_simple = pd.concat([id_col, preds_rg], axis = 1)\n",
    "submission_rg_simple"
   ]
  },
  {
   "cell_type": "code",
   "execution_count": 38,
   "id": "29e720e8",
   "metadata": {},
   "outputs": [],
   "source": [
    "submission_rg_simple.to_csv('ridge_reg_sub.csv', index = False)"
   ]
  },
  {
   "cell_type": "markdown",
   "id": "d816eb43",
   "metadata": {},
   "source": [
    "## Trying SVR"
   ]
  },
  {
   "cell_type": "code",
   "execution_count": null,
   "id": "835ed47d",
   "metadata": {},
   "outputs": [],
   "source": []
  },
  {
   "cell_type": "code",
   "execution_count": 48,
   "id": "d1debc45",
   "metadata": {},
   "outputs": [],
   "source": [
    "gb = GradientBoostingRegressor(loss = 'squared_error')\n",
    "\n",
    "pipe_gb = Pipeline(steps = [\n",
    "    ('imputing and encoding', transformer),\n",
    "    ('model_gb', gb)\n",
    "])"
   ]
  },
  {
   "cell_type": "code",
   "execution_count": 49,
   "id": "c8a17c23",
   "metadata": {},
   "outputs": [
    {
     "data": {
      "text/plain": [
       "dict_keys(['memory', 'steps', 'verbose', 'imputing and encoding', 'model_gb', 'imputing and encoding__n_jobs', 'imputing and encoding__remainder', 'imputing and encoding__sparse_threshold', 'imputing and encoding__transformer_weights', 'imputing and encoding__transformers', 'imputing and encoding__verbose', 'imputing and encoding__verbose_feature_names_out', 'imputing and encoding__ohe_encoder', 'imputing and encoding__imputer', 'imputing and encoding__imputer_mean', 'imputing and encoding__ohe_encoder__categories', 'imputing and encoding__ohe_encoder__drop', 'imputing and encoding__ohe_encoder__dtype', 'imputing and encoding__ohe_encoder__handle_unknown', 'imputing and encoding__ohe_encoder__sparse', 'imputing and encoding__imputer__add_indicator', 'imputing and encoding__imputer__copy', 'imputing and encoding__imputer__fill_value', 'imputing and encoding__imputer__missing_values', 'imputing and encoding__imputer__strategy', 'imputing and encoding__imputer__verbose', 'imputing and encoding__imputer_mean__add_indicator', 'imputing and encoding__imputer_mean__copy', 'imputing and encoding__imputer_mean__fill_value', 'imputing and encoding__imputer_mean__missing_values', 'imputing and encoding__imputer_mean__strategy', 'imputing and encoding__imputer_mean__verbose', 'model_gb__alpha', 'model_gb__ccp_alpha', 'model_gb__criterion', 'model_gb__init', 'model_gb__learning_rate', 'model_gb__loss', 'model_gb__max_depth', 'model_gb__max_features', 'model_gb__max_leaf_nodes', 'model_gb__min_impurity_decrease', 'model_gb__min_samples_leaf', 'model_gb__min_samples_split', 'model_gb__min_weight_fraction_leaf', 'model_gb__n_estimators', 'model_gb__n_iter_no_change', 'model_gb__random_state', 'model_gb__subsample', 'model_gb__tol', 'model_gb__validation_fraction', 'model_gb__verbose', 'model_gb__warm_start'])"
      ]
     },
     "execution_count": 49,
     "metadata": {},
     "output_type": "execute_result"
    }
   ],
   "source": [
    "pipe_gb.get_params().keys()"
   ]
  },
  {
   "cell_type": "code",
   "execution_count": 40,
   "id": "bd8bb082",
   "metadata": {},
   "outputs": [
    {
     "name": "stdout",
     "output_type": "stream",
     "text": [
      "[CV 2/3] END model_xgb__max_depth=1, model_xgb__n_estimators=1000;, score=-276.745 total time=   7.7s\n",
      "[CV 1/3] END model_xgb__max_depth=1, model_xgb__n_estimators=5000;, score=-264.710 total time=  37.8s\n",
      "[CV 3/3] END model_xgb__max_depth=3, model_xgb__n_estimators=1000;, score=-226.149 total time=   8.8s\n",
      "[CV 2/3] END model_xgb__max_depth=3, model_xgb__n_estimators=5000;, score=-230.727 total time= 1.0min\n",
      "[CV 2/3] END model_xgb__max_depth=5, model_xgb__n_estimators=1000;, score=-214.302 total time=  18.8s\n",
      "[CV 2/3] END model_xgb__max_depth=5, model_xgb__n_estimators=5000;, score=-214.344 total time= 1.4min\n",
      "[CV 1/3] END model_xgb__max_depth=10, model_xgb__n_estimators=1000;, score=-204.332 total time=  34.7s\n",
      "[CV 1/3] END model_xgb__max_depth=10, model_xgb__n_estimators=5000;, score=-204.332 total time=  56.0s\n",
      "[CV 1/3] END model_xgb__max_depth=15, model_xgb__n_estimators=1000;, score=-207.445 total time=  23.2s\n",
      "[CV 1/3] END model_xgb__max_depth=15, model_xgb__n_estimators=5000;, score=-207.445 total time=  34.5s\n",
      "[CV 3/3] END model_xgb__max_depth=1, model_xgb__n_estimators=1000;, score=-271.254 total time=   7.8s\n",
      "[CV 2/3] END model_xgb__max_depth=1, model_xgb__n_estimators=5000;, score=-270.731 total time=  27.4s\n",
      "[CV 1/3] END model_xgb__max_depth=3, model_xgb__n_estimators=1000;, score=-215.051 total time=   9.2s\n",
      "[CV 2/3] END model_xgb__max_depth=3, model_xgb__n_estimators=1000;, score=-229.237 total time=  13.4s\n",
      "[CV 3/3] END model_xgb__max_depth=3, model_xgb__n_estimators=5000;, score=-225.082 total time= 1.0min\n",
      "[CV 3/3] END model_xgb__max_depth=5, model_xgb__n_estimators=1000;, score=-221.313 total time=  22.0s\n",
      "[CV 3/3] END model_xgb__max_depth=5, model_xgb__n_estimators=5000;, score=-222.169 total time= 1.5min\n",
      "[CV 3/3] END model_xgb__max_depth=10, model_xgb__n_estimators=1000;, score=-214.301 total time=  27.7s\n",
      "[CV 3/3] END model_xgb__max_depth=10, model_xgb__n_estimators=5000;, score=-214.301 total time= 1.0min\n",
      "[CV 3/3] END model_xgb__max_depth=15, model_xgb__n_estimators=1000;, score=-215.078 total time=  15.0s\n",
      "[CV 2/3] END model_xgb__max_depth=15, model_xgb__n_estimators=5000;, score=-223.433 total time=  45.3s\n",
      "[CV 1/3] END model_xgb__max_depth=1, model_xgb__n_estimators=1000;, score=-268.469 total time=   8.5s\n",
      "[CV 3/3] END model_xgb__max_depth=1, model_xgb__n_estimators=5000;, score=-265.829 total time=  39.3s\n",
      "[CV 1/3] END model_xgb__max_depth=3, model_xgb__n_estimators=5000;, score=-212.534 total time= 1.1min\n",
      "[CV 1/3] END model_xgb__max_depth=5, model_xgb__n_estimators=1000;, score=-207.197 total time=  20.1s\n",
      "[CV 1/3] END model_xgb__max_depth=5, model_xgb__n_estimators=5000;, score=-207.371 total time= 1.6min\n",
      "[CV 2/3] END model_xgb__max_depth=10, model_xgb__n_estimators=1000;, score=-218.507 total time=  32.5s\n",
      "[CV 2/3] END model_xgb__max_depth=10, model_xgb__n_estimators=5000;, score=-218.507 total time=  55.2s\n",
      "[CV 2/3] END model_xgb__max_depth=15, model_xgb__n_estimators=1000;, score=-223.433 total time=  23.3s\n",
      "[CV 3/3] END model_xgb__max_depth=15, model_xgb__n_estimators=5000;, score=-215.078 total time=  45.0s\n"
     ]
    }
   ],
   "source": [
    "gs_lg = GridSearchCV(\n",
    "    pipe_lg,\n",
    "    param_grid = {'model_gb__learning_rate': [0.001, 0.1, 0.5, 1, 2],\n",
    "                 'model_gb__n_estimators': [50, 100, 500, 1000]},\n",
    "    cv = 5,\n",
    "    verbose = 5\n",
    ")\n",
    "\n",
    "gs_lg.fit(X,y)"
   ]
  },
  {
   "cell_type": "code",
   "execution_count": null,
   "id": "1da0fcc0",
   "metadata": {},
   "outputs": [],
   "source": []
  }
 ],
 "metadata": {
  "kernelspec": {
   "display_name": "Python 3 (ipykernel)",
   "language": "python",
   "name": "python3"
  },
  "language_info": {
   "codemirror_mode": {
    "name": "ipython",
    "version": 3
   },
   "file_extension": ".py",
   "mimetype": "text/x-python",
   "name": "python",
   "nbconvert_exporter": "python",
   "pygments_lexer": "ipython3",
   "version": "3.9.12"
  }
 },
 "nbformat": 4,
 "nbformat_minor": 5
}
