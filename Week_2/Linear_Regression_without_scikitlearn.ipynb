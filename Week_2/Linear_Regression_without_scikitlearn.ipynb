{
 "cells": [
  {
   "cell_type": "markdown",
   "id": "09d6c436",
   "metadata": {},
   "source": [
    "# Linear Regression Model example "
   ]
  },
  {
   "cell_type": "markdown",
   "id": "f3dc3f48",
   "metadata": {},
   "source": [
    "<div class = 'alert alert-box alert-success'>\n",
    "This Notebook is application of\n",
    "LINEAR REGRESSION using Scikit-learn library\n",
    "    \n",
    "<a href='https://inria.github.io/scikit-learn-mooc/python_scripts/linear_regression_in_sklearn.html'> Reference Notebook Link </a>\n",
    "</div>"
   ]
  },
  {
   "cell_type": "code",
   "execution_count": 3,
   "id": "32603348",
   "metadata": {},
   "outputs": [
    {
     "data": {
      "text/html": [
       "<div>\n",
       "<style scoped>\n",
       "    .dataframe tbody tr th:only-of-type {\n",
       "        vertical-align: middle;\n",
       "    }\n",
       "\n",
       "    .dataframe tbody tr th {\n",
       "        vertical-align: top;\n",
       "    }\n",
       "\n",
       "    .dataframe thead th {\n",
       "        text-align: right;\n",
       "    }\n",
       "</style>\n",
       "<table border=\"1\" class=\"dataframe\">\n",
       "  <thead>\n",
       "    <tr style=\"text-align: right;\">\n",
       "      <th></th>\n",
       "      <th>Flipper Length (mm)</th>\n",
       "      <th>Body Mass (g)</th>\n",
       "    </tr>\n",
       "  </thead>\n",
       "  <tbody>\n",
       "    <tr>\n",
       "      <th>0</th>\n",
       "      <td>181.0</td>\n",
       "      <td>3750.0</td>\n",
       "    </tr>\n",
       "    <tr>\n",
       "      <th>1</th>\n",
       "      <td>186.0</td>\n",
       "      <td>3800.0</td>\n",
       "    </tr>\n",
       "    <tr>\n",
       "      <th>2</th>\n",
       "      <td>195.0</td>\n",
       "      <td>3250.0</td>\n",
       "    </tr>\n",
       "    <tr>\n",
       "      <th>3</th>\n",
       "      <td>193.0</td>\n",
       "      <td>3450.0</td>\n",
       "    </tr>\n",
       "    <tr>\n",
       "      <th>4</th>\n",
       "      <td>190.0</td>\n",
       "      <td>3650.0</td>\n",
       "    </tr>\n",
       "  </tbody>\n",
       "</table>\n",
       "</div>"
      ],
      "text/plain": [
       "   Flipper Length (mm)  Body Mass (g)\n",
       "0                181.0         3750.0\n",
       "1                186.0         3800.0\n",
       "2                195.0         3250.0\n",
       "3                193.0         3450.0\n",
       "4                190.0         3650.0"
      ]
     },
     "execution_count": 3,
     "metadata": {},
     "output_type": "execute_result"
    }
   ],
   "source": [
    "import pandas as pd\n",
    "\n",
    "penguins = pd.read_csv('./penguins_regression.csv')\n",
    "penguins.head()\n"
   ]
  },
  {
   "cell_type": "code",
   "execution_count": 13,
   "id": "955d0ac1",
   "metadata": {},
   "outputs": [],
   "source": [
    "import seaborn as sns\n",
    "\n",
    "feature_name = 'Flipper Length (mm)'\n",
    "target_name = 'Body Mass (g)'\n",
    "data, target = penguins[[feature_name]],penguins[target_name]\n"
   ]
  },
  {
   "cell_type": "code",
   "execution_count": 21,
   "id": "eb5033a8",
   "metadata": {},
   "outputs": [
    {
     "data": {
      "text/plain": [
       "LinearRegression()"
      ]
     },
     "execution_count": 21,
     "metadata": {},
     "output_type": "execute_result"
    }
   ],
   "source": [
    "from sklearn.linear_model import LinearRegression\n",
    "\n",
    "linear_regression = LinearRegression()\n",
    "linear_regression.fit(data, target)"
   ]
  },
  {
   "cell_type": "code",
   "execution_count": 28,
   "id": "e46aef90",
   "metadata": {},
   "outputs": [
    {
     "data": {
      "text/plain": [
       "49.68556640610011"
      ]
     },
     "execution_count": 28,
     "metadata": {},
     "output_type": "execute_result"
    }
   ],
   "source": [
    "weight_flipper_length = linear_regression.coef_[0]\n",
    "weight_flipper_length"
   ]
  },
  {
   "cell_type": "code",
   "execution_count": 29,
   "id": "7f4a18a0",
   "metadata": {},
   "outputs": [
    {
     "data": {
      "text/plain": [
       "-5780.831358077066"
      ]
     },
     "execution_count": 29,
     "metadata": {},
     "output_type": "execute_result"
    }
   ],
   "source": [
    "intercept_body_mass = linear_regression.intercept_\n",
    "intercept_body_mass"
   ]
  },
  {
   "cell_type": "code",
   "execution_count": 31,
   "id": "8563450e",
   "metadata": {},
   "outputs": [],
   "source": [
    "# We will use the weight and intercept to\n",
    "# plot the model found using the scikit-learn.\n",
    "\n",
    "import numpy as np\n",
    "\n",
    "flipper_length_range = np.linspace(data.min(), data.max(), num = 300)\n",
    "predicted_body_mass = (\n",
    "    weight_flipper_length * flipper_length_range + intercept_body_mass)"
   ]
  },
  {
   "cell_type": "code",
   "execution_count": 33,
   "id": "b2fe72ab",
   "metadata": {},
   "outputs": [
    {
     "data": {
      "text/plain": [
       "Text(0.5, 1.0, 'Model using LinearRegression from scikit-learn')"
      ]
     },
     "execution_count": 33,
     "metadata": {},
     "output_type": "execute_result"
    },
    {
     "data": {
      "image/png": "[encoded data removed]",
      "text/plain": [
       "<Figure size 432x288 with 1 Axes>"
      ]
     },
     "metadata": {
      "needs_background": "light"
     },
     "output_type": "display_data"
    }
   ],
   "source": [
    "import matplotlib.pyplot as plt\n",
    "import seaborn as sns\n",
    "\n",
    "p = sns.scatterplot(x = data[feature_name], y = target, color=\"green\",\n",
    "                    alpha=0.5)\n",
    "plt.plot(flipper_length_range, predicted_body_mass)\n",
    "plt.title('Model using LinearRegression from scikit-learn')"
   ]
  },
  {
   "cell_type": "markdown",
   "id": "51c65fd5",
   "metadata": {},
   "source": [
    "<div class = 'alert alert-info'>\n",
    "The first line using <code>sns</code> was used to plot the scatter plot of all the Flipper lengths with respect to the body Masses.\n",
    "The matplotlib's <code>plt</code> was used to plot the linear regression line.\n",
    "</div>"
   ]
  },
  {
   "cell_type": "code",
   "execution_count": null,
   "id": "fd1fe523",
   "metadata": {},
   "outputs": [],
   "source": []
  },
  {
   "cell_type": "markdown",
   "id": "c6f11ade",
   "metadata": {},
   "source": [
    "## Error Calculation"
   ]
  },
  {
   "cell_type": "code",
   "execution_count": 34,
   "id": "6400ce5d",
   "metadata": {},
   "outputs": [
    {
     "name": "stdout",
     "output_type": "stream",
     "text": [
      "The mean squared error of the optimal model is 154546.19\n"
     ]
    }
   ],
   "source": [
    "from sklearn.metrics import mean_squared_error\n",
    "\n",
    "inferred_body_mass = linear_regression.predict(data)\n",
    "model_error = mean_squared_error(target, inferred_body_mass)\n",
    "print(f\"The mean squared error of the optimal model is {model_error:.2f}\")"
   ]
  },
  {
   "cell_type": "markdown",
   "id": "e2eea534",
   "metadata": {},
   "source": [
    "<font color = 'purple'>\n",
    "A linear regression model minimizes the mean squared error on the training set. This means that the parameters obtained after the fit (i.e. <code>coef_</code> and <code>intercept_</code>) are the optimal parameters that minimizes the mean squared error. In other words, any other choice of parameters will yield a model with a higher mean squared error on the training set.\n",
    "</font>    "
   ]
  },
  {
   "cell_type": "code",
   "execution_count": 35,
   "id": "7394dc9a",
   "metadata": {},
   "outputs": [
    {
     "name": "stdout",
     "output_type": "stream",
     "text": [
      "The mean absolute error of the optimal model is 313.00 g\n"
     ]
    }
   ],
   "source": [
    "from sklearn.metrics import mean_absolute_error\n",
    "\n",
    "model_error = mean_absolute_error(target, inferred_body_mass)\n",
    "print(f\"The mean absolute error of the optimal model is {model_error:.2f} g\")"
   ]
  },
  {
   "cell_type": "markdown",
   "id": "29e102aa",
   "metadata": {},
   "source": [
    "<font color = 'red'>\n",
    "A mean absolute error of 313 means that in average, our model make an error of +/- 313 grams when predicting the body mass of a penguin given its flipper length.\n",
    "</font>"
   ]
  },
  {
   "cell_type": "code",
   "execution_count": null,
   "id": "265ef53e",
   "metadata": {},
   "outputs": [],
   "source": []
  }
 ],
 "metadata": {
  "kernelspec": {
   "display_name": "Python 3 (ipykernel)",
   "language": "python",
   "name": "python3"
  },
  "language_info": {
   "codemirror_mode": {
    "name": "ipython",
    "version": 3
   },
   "file_extension": ".py",
   "mimetype": "text/x-python",
   "name": "python",
   "nbconvert_exporter": "python",
   "pygments_lexer": "ipython3",
   "version": "3.9.12"
  }
 },
 "nbformat": 4,
 "nbformat_minor": 5
}
