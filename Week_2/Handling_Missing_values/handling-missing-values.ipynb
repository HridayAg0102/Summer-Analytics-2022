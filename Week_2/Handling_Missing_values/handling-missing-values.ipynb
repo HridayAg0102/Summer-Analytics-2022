{
 "cells": [
  {
   "cell_type": "markdown",
   "id": "opening-device",
   "metadata": {
    "papermill": {
     "duration": 0.026897,
     "end_time": "2021-05-23T16:33:21.050847",
     "exception": false,
     "start_time": "2021-05-23T16:33:21.023950",
     "status": "completed"
    },
    "tags": []
   },
   "source": [
    "<br>\n",
    "<h1 style = \"font-size:60px; font-family:Garamond ; font-weight : normal; background-color: #f6f5f5 ; color : #fe346e; text-align: center; border-radius: 100px 100px;\"> Handling Missing Values</h1>\n",
    "<br>\n",
    "\n",
    "![](https://fintechprofessor.com/wp-content/uploads/2019/12/close-up-texture-of-a-white-jigsaw-puzzle-in-assembled-state-with-missing-elements-forming-a-blue-pad_t20_WxKR61.jpg)"
   ]
  },
  {
   "cell_type": "markdown",
   "id": "scientific-musician",
   "metadata": {
    "papermill": {
     "duration": 0.025198,
     "end_time": "2021-05-23T16:33:21.101623",
     "exception": false,
     "start_time": "2021-05-23T16:33:21.076425",
     "status": "completed"
    },
    "tags": []
   },
   "source": [
    "<div class = 'alert alert-info' style = 'color:blue'> 💡 This notebook is part of the <a href=\"http://iitg.ac.in/sa/caciitg/course\" style=\"color: #002d5e\">Summer Analytics 2021</a> course curated by <a href=\"https://www.linkedin.com/company/caciitg/mycompany/\" style=\"color: black\">Consulting & Analytics Club, IIT Guwahati</a>. This notebook intends to introduce the readers to various different Imputaion techniques and How to deal with missing values in general with the help of <i>pandas</i> and <i>sklearn</i></div>"
   ]
  },
  {
   "cell_type": "markdown",
   "id": "paperback-effect",
   "metadata": {
    "papermill": {
     "duration": 0.025764,
     "end_time": "2021-05-23T16:33:21.155598",
     "exception": false,
     "start_time": "2021-05-23T16:33:21.129834",
     "status": "completed"
    },
    "tags": []
   },
   "source": [
    "<h1 style = \"font-family: garamond; font-size: 40px; font-style: normal; letter-spcaing: 3px; background-color: #f6f5f5; color :#fe346e; border-radius: 100px 100px; text-align:center \" >Table of Contents</h1>\n",
    "\n",
    "\n",
    "* [1. Introduction](#1)\n",
    "    * [1.1 Import Required Libraries](#1.1)\n",
    "    * [1.2 Exploring the Data](#1.2)\n",
    "    * [1.3 Helper Function](#1.3)\n",
    "* [2. Dropping Rows and Columns](#2)\n",
    "    * [2.1 Dropping Rows with Missing Values](#2.1)\n",
    "    * [2.2 Dropping Columns with Missing Values](#2.2)\n",
    "* [3. Univariate vs Multivariate Imputation](#3)\n",
    "    * [3.1 Univariate Imputation](#3.1)\n",
    "        * [3.1.1 Simple Imputer](#3.1.1)\n",
    "    * [3.2 Multivariate Imputation](#3.2)\n",
    "        * [3.2.1 KNN Imputer](#3.2.1)\n",
    "        * [3.2.2 Iterative Imputer](#3.2.2)\n",
    "* [4. Missing Indicator](#4)\n",
    "* [5. Missing Indicator + Iterative Imputer](#5)\n",
    "* [6. Further Readings](#6)"
   ]
  },
  {
   "cell_type": "markdown",
   "id": "stainless-standard",
   "metadata": {
    "papermill": {
     "duration": 0.02566,
     "end_time": "2021-05-23T16:33:21.206565",
     "exception": false,
     "start_time": "2021-05-23T16:33:21.180905",
     "status": "completed"
    },
    "tags": []
   },
   "source": [
    "<a id = '1'></a>\n",
    "<h2 style = \"font-family:garamond; font-size:50px; background-color: #f6f6f6; color : #fe346e; border-radius: 100px 100px; text-align:center\"> 1. Introduction </h2>"
   ]
  },
  {
   "cell_type": "markdown",
   "id": "standard-swedish",
   "metadata": {
    "papermill": {
     "duration": 0.025894,
     "end_time": "2021-05-23T16:33:21.257438",
     "exception": false,
     "start_time": "2021-05-23T16:33:21.231544",
     "status": "completed"
    },
    "tags": []
   },
   "source": [
    "<a id = '1.1'></a>\n",
    "\n",
    "<h2 style = \"background-color: #f6f5f5; color : #fe346e; font-size: 35px; font-family:garamond; font-weight: normal; border-radius: 100px 100px; text-align: center\">1.1 Import Required Libraries</h2>"
   ]
  },
  {
   "cell_type": "code",
   "execution_count": 1,
   "id": "missing-cursor",
   "metadata": {
    "execution": {
     "iopub.execute_input": "2021-05-23T16:33:21.318740Z",
     "iopub.status.busy": "2021-05-23T16:33:21.318239Z",
     "iopub.status.idle": "2021-05-23T16:33:22.410768Z",
     "shell.execute_reply": "2021-05-23T16:33:22.411261Z",
     "shell.execute_reply.started": "2021-05-23T15:51:25.332557Z"
    },
    "papermill": {
     "duration": 1.128389,
     "end_time": "2021-05-23T16:33:22.411524",
     "exception": false,
     "start_time": "2021-05-23T16:33:21.283135",
     "status": "completed"
    },
    "tags": []
   },
   "outputs": [],
   "source": [
    "import numpy as np\n",
    "import pandas as pd\n",
    "import matplotlib.pyplot as plt\n",
    "import seaborn as sns\n",
    "\n",
    "from sklearn.preprocessing import LabelEncoder\n",
    "from sklearn.impute import SimpleImputer\n",
    "\n",
    "from sklearn.impute import KNNImputer\n",
    "\n",
    "from sklearn.experimental import enable_iterative_imputer\n",
    "from sklearn.impute import IterativeImputer\n",
    "\n",
    "# displays all the columns\n",
    "pd.set_option('display.max_columns', None)\n",
    "plt.rcParams[\"figure.figsize\"] = (18, 8);"
   ]
  },
  {
   "cell_type": "markdown",
   "id": "consistent-willow",
   "metadata": {
    "papermill": {
     "duration": 0.024852,
     "end_time": "2021-05-23T16:33:22.461775",
     "exception": false,
     "start_time": "2021-05-23T16:33:22.436923",
     "status": "completed"
    },
    "tags": []
   },
   "source": [
    "<a id = '1.2'></a>\n",
    "\n",
    "<h2 style = \"background-color: #f6f5f5; color : #fe346e; font-size: 35px; font-family:garamond; font-weight:normal; border-radius: 100px 100px; text-align: center\">1.2 Exploring the Data </h2>"
   ]
  },
  {
   "cell_type": "code",
   "execution_count": 2,
   "id": "adequate-kitchen",
   "metadata": {
    "execution": {
     "iopub.execute_input": "2021-05-23T16:33:22.514154Z",
     "iopub.status.busy": "2021-05-23T16:33:22.513631Z",
     "iopub.status.idle": "2021-05-23T16:33:22.606051Z",
     "shell.execute_reply": "2021-05-23T16:33:22.605624Z",
     "shell.execute_reply.started": "2021-05-23T15:26:22.168733Z"
    },
    "papermill": {
     "duration": 0.119542,
     "end_time": "2021-05-23T16:33:22.606175",
     "exception": false,
     "start_time": "2021-05-23T16:33:22.486633",
     "status": "completed"
    },
    "tags": []
   },
   "outputs": [
    {
     "data": {
      "text/html": [
       "<div>\n",
       "<style scoped>\n",
       "    .dataframe tbody tr th:only-of-type {\n",
       "        vertical-align: middle;\n",
       "    }\n",
       "\n",
       "    .dataframe tbody tr th {\n",
       "        vertical-align: top;\n",
       "    }\n",
       "\n",
       "    .dataframe thead th {\n",
       "        text-align: right;\n",
       "    }\n",
       "</style>\n",
       "<table border=\"1\" class=\"dataframe\">\n",
       "  <thead>\n",
       "    <tr style=\"text-align: right;\">\n",
       "      <th></th>\n",
       "      <th>Id</th>\n",
       "      <th>MSSubClass</th>\n",
       "      <th>MSZoning</th>\n",
       "      <th>LotFrontage</th>\n",
       "      <th>LotArea</th>\n",
       "      <th>Street</th>\n",
       "      <th>Alley</th>\n",
       "      <th>LotShape</th>\n",
       "      <th>LandContour</th>\n",
       "      <th>Utilities</th>\n",
       "      <th>LotConfig</th>\n",
       "      <th>LandSlope</th>\n",
       "      <th>Neighborhood</th>\n",
       "      <th>Condition1</th>\n",
       "      <th>Condition2</th>\n",
       "      <th>BldgType</th>\n",
       "      <th>HouseStyle</th>\n",
       "      <th>OverallQual</th>\n",
       "      <th>OverallCond</th>\n",
       "      <th>YearBuilt</th>\n",
       "      <th>YearRemodAdd</th>\n",
       "      <th>RoofStyle</th>\n",
       "      <th>RoofMatl</th>\n",
       "      <th>Exterior1st</th>\n",
       "      <th>Exterior2nd</th>\n",
       "      <th>MasVnrType</th>\n",
       "      <th>MasVnrArea</th>\n",
       "      <th>ExterQual</th>\n",
       "      <th>ExterCond</th>\n",
       "      <th>Foundation</th>\n",
       "      <th>BsmtQual</th>\n",
       "      <th>BsmtCond</th>\n",
       "      <th>BsmtExposure</th>\n",
       "      <th>BsmtFinType1</th>\n",
       "      <th>BsmtFinSF1</th>\n",
       "      <th>BsmtFinType2</th>\n",
       "      <th>BsmtFinSF2</th>\n",
       "      <th>BsmtUnfSF</th>\n",
       "      <th>TotalBsmtSF</th>\n",
       "      <th>Heating</th>\n",
       "      <th>HeatingQC</th>\n",
       "      <th>CentralAir</th>\n",
       "      <th>Electrical</th>\n",
       "      <th>1stFlrSF</th>\n",
       "      <th>2ndFlrSF</th>\n",
       "      <th>LowQualFinSF</th>\n",
       "      <th>GrLivArea</th>\n",
       "      <th>BsmtFullBath</th>\n",
       "      <th>BsmtHalfBath</th>\n",
       "      <th>FullBath</th>\n",
       "      <th>HalfBath</th>\n",
       "      <th>BedroomAbvGr</th>\n",
       "      <th>KitchenAbvGr</th>\n",
       "      <th>KitchenQual</th>\n",
       "      <th>TotRmsAbvGrd</th>\n",
       "      <th>Functional</th>\n",
       "      <th>Fireplaces</th>\n",
       "      <th>FireplaceQu</th>\n",
       "      <th>GarageType</th>\n",
       "      <th>GarageYrBlt</th>\n",
       "      <th>GarageFinish</th>\n",
       "      <th>GarageCars</th>\n",
       "      <th>GarageArea</th>\n",
       "      <th>GarageQual</th>\n",
       "      <th>GarageCond</th>\n",
       "      <th>PavedDrive</th>\n",
       "      <th>WoodDeckSF</th>\n",
       "      <th>OpenPorchSF</th>\n",
       "      <th>EnclosedPorch</th>\n",
       "      <th>3SsnPorch</th>\n",
       "      <th>ScreenPorch</th>\n",
       "      <th>PoolArea</th>\n",
       "      <th>PoolQC</th>\n",
       "      <th>Fence</th>\n",
       "      <th>MiscFeature</th>\n",
       "      <th>MiscVal</th>\n",
       "      <th>MoSold</th>\n",
       "      <th>YrSold</th>\n",
       "      <th>SaleType</th>\n",
       "      <th>SaleCondition</th>\n",
       "      <th>SalePrice</th>\n",
       "    </tr>\n",
       "  </thead>\n",
       "  <tbody>\n",
       "    <tr>\n",
       "      <th>0</th>\n",
       "      <td>1</td>\n",
       "      <td>60</td>\n",
       "      <td>RL</td>\n",
       "      <td>65.0</td>\n",
       "      <td>8450</td>\n",
       "      <td>Pave</td>\n",
       "      <td>NaN</td>\n",
       "      <td>Reg</td>\n",
       "      <td>Lvl</td>\n",
       "      <td>AllPub</td>\n",
       "      <td>Inside</td>\n",
       "      <td>Gtl</td>\n",
       "      <td>CollgCr</td>\n",
       "      <td>Norm</td>\n",
       "      <td>Norm</td>\n",
       "      <td>1Fam</td>\n",
       "      <td>2Story</td>\n",
       "      <td>7</td>\n",
       "      <td>5</td>\n",
       "      <td>2003</td>\n",
       "      <td>2003</td>\n",
       "      <td>Gable</td>\n",
       "      <td>CompShg</td>\n",
       "      <td>VinylSd</td>\n",
       "      <td>VinylSd</td>\n",
       "      <td>BrkFace</td>\n",
       "      <td>196.0</td>\n",
       "      <td>Gd</td>\n",
       "      <td>TA</td>\n",
       "      <td>PConc</td>\n",
       "      <td>Gd</td>\n",
       "      <td>TA</td>\n",
       "      <td>No</td>\n",
       "      <td>GLQ</td>\n",
       "      <td>706</td>\n",
       "      <td>Unf</td>\n",
       "      <td>0</td>\n",
       "      <td>150</td>\n",
       "      <td>856</td>\n",
       "      <td>GasA</td>\n",
       "      <td>Ex</td>\n",
       "      <td>Y</td>\n",
       "      <td>SBrkr</td>\n",
       "      <td>856</td>\n",
       "      <td>854</td>\n",
       "      <td>0</td>\n",
       "      <td>1710</td>\n",
       "      <td>1</td>\n",
       "      <td>0</td>\n",
       "      <td>2</td>\n",
       "      <td>1</td>\n",
       "      <td>3</td>\n",
       "      <td>1</td>\n",
       "      <td>Gd</td>\n",
       "      <td>8</td>\n",
       "      <td>Typ</td>\n",
       "      <td>0</td>\n",
       "      <td>NaN</td>\n",
       "      <td>Attchd</td>\n",
       "      <td>2003.0</td>\n",
       "      <td>RFn</td>\n",
       "      <td>2</td>\n",
       "      <td>548</td>\n",
       "      <td>TA</td>\n",
       "      <td>TA</td>\n",
       "      <td>Y</td>\n",
       "      <td>0</td>\n",
       "      <td>61</td>\n",
       "      <td>0</td>\n",
       "      <td>0</td>\n",
       "      <td>0</td>\n",
       "      <td>0</td>\n",
       "      <td>NaN</td>\n",
       "      <td>NaN</td>\n",
       "      <td>NaN</td>\n",
       "      <td>0</td>\n",
       "      <td>2</td>\n",
       "      <td>2008</td>\n",
       "      <td>WD</td>\n",
       "      <td>Normal</td>\n",
       "      <td>208500</td>\n",
       "    </tr>\n",
       "    <tr>\n",
       "      <th>1</th>\n",
       "      <td>2</td>\n",
       "      <td>20</td>\n",
       "      <td>RL</td>\n",
       "      <td>80.0</td>\n",
       "      <td>9600</td>\n",
       "      <td>Pave</td>\n",
       "      <td>NaN</td>\n",
       "      <td>Reg</td>\n",
       "      <td>Lvl</td>\n",
       "      <td>AllPub</td>\n",
       "      <td>FR2</td>\n",
       "      <td>Gtl</td>\n",
       "      <td>Veenker</td>\n",
       "      <td>Feedr</td>\n",
       "      <td>Norm</td>\n",
       "      <td>1Fam</td>\n",
       "      <td>1Story</td>\n",
       "      <td>6</td>\n",
       "      <td>8</td>\n",
       "      <td>1976</td>\n",
       "      <td>1976</td>\n",
       "      <td>Gable</td>\n",
       "      <td>CompShg</td>\n",
       "      <td>MetalSd</td>\n",
       "      <td>MetalSd</td>\n",
       "      <td>None</td>\n",
       "      <td>0.0</td>\n",
       "      <td>TA</td>\n",
       "      <td>TA</td>\n",
       "      <td>CBlock</td>\n",
       "      <td>Gd</td>\n",
       "      <td>TA</td>\n",
       "      <td>Gd</td>\n",
       "      <td>ALQ</td>\n",
       "      <td>978</td>\n",
       "      <td>Unf</td>\n",
       "      <td>0</td>\n",
       "      <td>284</td>\n",
       "      <td>1262</td>\n",
       "      <td>GasA</td>\n",
       "      <td>Ex</td>\n",
       "      <td>Y</td>\n",
       "      <td>SBrkr</td>\n",
       "      <td>1262</td>\n",
       "      <td>0</td>\n",
       "      <td>0</td>\n",
       "      <td>1262</td>\n",
       "      <td>0</td>\n",
       "      <td>1</td>\n",
       "      <td>2</td>\n",
       "      <td>0</td>\n",
       "      <td>3</td>\n",
       "      <td>1</td>\n",
       "      <td>TA</td>\n",
       "      <td>6</td>\n",
       "      <td>Typ</td>\n",
       "      <td>1</td>\n",
       "      <td>TA</td>\n",
       "      <td>Attchd</td>\n",
       "      <td>1976.0</td>\n",
       "      <td>RFn</td>\n",
       "      <td>2</td>\n",
       "      <td>460</td>\n",
       "      <td>TA</td>\n",
       "      <td>TA</td>\n",
       "      <td>Y</td>\n",
       "      <td>298</td>\n",
       "      <td>0</td>\n",
       "      <td>0</td>\n",
       "      <td>0</td>\n",
       "      <td>0</td>\n",
       "      <td>0</td>\n",
       "      <td>NaN</td>\n",
       "      <td>NaN</td>\n",
       "      <td>NaN</td>\n",
       "      <td>0</td>\n",
       "      <td>5</td>\n",
       "      <td>2007</td>\n",
       "      <td>WD</td>\n",
       "      <td>Normal</td>\n",
       "      <td>181500</td>\n",
       "    </tr>\n",
       "    <tr>\n",
       "      <th>2</th>\n",
       "      <td>3</td>\n",
       "      <td>60</td>\n",
       "      <td>RL</td>\n",
       "      <td>68.0</td>\n",
       "      <td>11250</td>\n",
       "      <td>Pave</td>\n",
       "      <td>NaN</td>\n",
       "      <td>IR1</td>\n",
       "      <td>Lvl</td>\n",
       "      <td>AllPub</td>\n",
       "      <td>Inside</td>\n",
       "      <td>Gtl</td>\n",
       "      <td>CollgCr</td>\n",
       "      <td>Norm</td>\n",
       "      <td>Norm</td>\n",
       "      <td>1Fam</td>\n",
       "      <td>2Story</td>\n",
       "      <td>7</td>\n",
       "      <td>5</td>\n",
       "      <td>2001</td>\n",
       "      <td>2002</td>\n",
       "      <td>Gable</td>\n",
       "      <td>CompShg</td>\n",
       "      <td>VinylSd</td>\n",
       "      <td>VinylSd</td>\n",
       "      <td>BrkFace</td>\n",
       "      <td>162.0</td>\n",
       "      <td>Gd</td>\n",
       "      <td>TA</td>\n",
       "      <td>PConc</td>\n",
       "      <td>Gd</td>\n",
       "      <td>TA</td>\n",
       "      <td>Mn</td>\n",
       "      <td>GLQ</td>\n",
       "      <td>486</td>\n",
       "      <td>Unf</td>\n",
       "      <td>0</td>\n",
       "      <td>434</td>\n",
       "      <td>920</td>\n",
       "      <td>GasA</td>\n",
       "      <td>Ex</td>\n",
       "      <td>Y</td>\n",
       "      <td>SBrkr</td>\n",
       "      <td>920</td>\n",
       "      <td>866</td>\n",
       "      <td>0</td>\n",
       "      <td>1786</td>\n",
       "      <td>1</td>\n",
       "      <td>0</td>\n",
       "      <td>2</td>\n",
       "      <td>1</td>\n",
       "      <td>3</td>\n",
       "      <td>1</td>\n",
       "      <td>Gd</td>\n",
       "      <td>6</td>\n",
       "      <td>Typ</td>\n",
       "      <td>1</td>\n",
       "      <td>TA</td>\n",
       "      <td>Attchd</td>\n",
       "      <td>2001.0</td>\n",
       "      <td>RFn</td>\n",
       "      <td>2</td>\n",
       "      <td>608</td>\n",
       "      <td>TA</td>\n",
       "      <td>TA</td>\n",
       "      <td>Y</td>\n",
       "      <td>0</td>\n",
       "      <td>42</td>\n",
       "      <td>0</td>\n",
       "      <td>0</td>\n",
       "      <td>0</td>\n",
       "      <td>0</td>\n",
       "      <td>NaN</td>\n",
       "      <td>NaN</td>\n",
       "      <td>NaN</td>\n",
       "      <td>0</td>\n",
       "      <td>9</td>\n",
       "      <td>2008</td>\n",
       "      <td>WD</td>\n",
       "      <td>Normal</td>\n",
       "      <td>223500</td>\n",
       "    </tr>\n",
       "    <tr>\n",
       "      <th>3</th>\n",
       "      <td>4</td>\n",
       "      <td>70</td>\n",
       "      <td>RL</td>\n",
       "      <td>60.0</td>\n",
       "      <td>9550</td>\n",
       "      <td>Pave</td>\n",
       "      <td>NaN</td>\n",
       "      <td>IR1</td>\n",
       "      <td>Lvl</td>\n",
       "      <td>AllPub</td>\n",
       "      <td>Corner</td>\n",
       "      <td>Gtl</td>\n",
       "      <td>Crawfor</td>\n",
       "      <td>Norm</td>\n",
       "      <td>Norm</td>\n",
       "      <td>1Fam</td>\n",
       "      <td>2Story</td>\n",
       "      <td>7</td>\n",
       "      <td>5</td>\n",
       "      <td>1915</td>\n",
       "      <td>1970</td>\n",
       "      <td>Gable</td>\n",
       "      <td>CompShg</td>\n",
       "      <td>Wd Sdng</td>\n",
       "      <td>Wd Shng</td>\n",
       "      <td>None</td>\n",
       "      <td>0.0</td>\n",
       "      <td>TA</td>\n",
       "      <td>TA</td>\n",
       "      <td>BrkTil</td>\n",
       "      <td>TA</td>\n",
       "      <td>Gd</td>\n",
       "      <td>No</td>\n",
       "      <td>ALQ</td>\n",
       "      <td>216</td>\n",
       "      <td>Unf</td>\n",
       "      <td>0</td>\n",
       "      <td>540</td>\n",
       "      <td>756</td>\n",
       "      <td>GasA</td>\n",
       "      <td>Gd</td>\n",
       "      <td>Y</td>\n",
       "      <td>SBrkr</td>\n",
       "      <td>961</td>\n",
       "      <td>756</td>\n",
       "      <td>0</td>\n",
       "      <td>1717</td>\n",
       "      <td>1</td>\n",
       "      <td>0</td>\n",
       "      <td>1</td>\n",
       "      <td>0</td>\n",
       "      <td>3</td>\n",
       "      <td>1</td>\n",
       "      <td>Gd</td>\n",
       "      <td>7</td>\n",
       "      <td>Typ</td>\n",
       "      <td>1</td>\n",
       "      <td>Gd</td>\n",
       "      <td>Detchd</td>\n",
       "      <td>1998.0</td>\n",
       "      <td>Unf</td>\n",
       "      <td>3</td>\n",
       "      <td>642</td>\n",
       "      <td>TA</td>\n",
       "      <td>TA</td>\n",
       "      <td>Y</td>\n",
       "      <td>0</td>\n",
       "      <td>35</td>\n",
       "      <td>272</td>\n",
       "      <td>0</td>\n",
       "      <td>0</td>\n",
       "      <td>0</td>\n",
       "      <td>NaN</td>\n",
       "      <td>NaN</td>\n",
       "      <td>NaN</td>\n",
       "      <td>0</td>\n",
       "      <td>2</td>\n",
       "      <td>2006</td>\n",
       "      <td>WD</td>\n",
       "      <td>Abnorml</td>\n",
       "      <td>140000</td>\n",
       "    </tr>\n",
       "    <tr>\n",
       "      <th>4</th>\n",
       "      <td>5</td>\n",
       "      <td>60</td>\n",
       "      <td>RL</td>\n",
       "      <td>84.0</td>\n",
       "      <td>14260</td>\n",
       "      <td>Pave</td>\n",
       "      <td>NaN</td>\n",
       "      <td>IR1</td>\n",
       "      <td>Lvl</td>\n",
       "      <td>AllPub</td>\n",
       "      <td>FR2</td>\n",
       "      <td>Gtl</td>\n",
       "      <td>NoRidge</td>\n",
       "      <td>Norm</td>\n",
       "      <td>Norm</td>\n",
       "      <td>1Fam</td>\n",
       "      <td>2Story</td>\n",
       "      <td>8</td>\n",
       "      <td>5</td>\n",
       "      <td>2000</td>\n",
       "      <td>2000</td>\n",
       "      <td>Gable</td>\n",
       "      <td>CompShg</td>\n",
       "      <td>VinylSd</td>\n",
       "      <td>VinylSd</td>\n",
       "      <td>BrkFace</td>\n",
       "      <td>350.0</td>\n",
       "      <td>Gd</td>\n",
       "      <td>TA</td>\n",
       "      <td>PConc</td>\n",
       "      <td>Gd</td>\n",
       "      <td>TA</td>\n",
       "      <td>Av</td>\n",
       "      <td>GLQ</td>\n",
       "      <td>655</td>\n",
       "      <td>Unf</td>\n",
       "      <td>0</td>\n",
       "      <td>490</td>\n",
       "      <td>1145</td>\n",
       "      <td>GasA</td>\n",
       "      <td>Ex</td>\n",
       "      <td>Y</td>\n",
       "      <td>SBrkr</td>\n",
       "      <td>1145</td>\n",
       "      <td>1053</td>\n",
       "      <td>0</td>\n",
       "      <td>2198</td>\n",
       "      <td>1</td>\n",
       "      <td>0</td>\n",
       "      <td>2</td>\n",
       "      <td>1</td>\n",
       "      <td>4</td>\n",
       "      <td>1</td>\n",
       "      <td>Gd</td>\n",
       "      <td>9</td>\n",
       "      <td>Typ</td>\n",
       "      <td>1</td>\n",
       "      <td>TA</td>\n",
       "      <td>Attchd</td>\n",
       "      <td>2000.0</td>\n",
       "      <td>RFn</td>\n",
       "      <td>3</td>\n",
       "      <td>836</td>\n",
       "      <td>TA</td>\n",
       "      <td>TA</td>\n",
       "      <td>Y</td>\n",
       "      <td>192</td>\n",
       "      <td>84</td>\n",
       "      <td>0</td>\n",
       "      <td>0</td>\n",
       "      <td>0</td>\n",
       "      <td>0</td>\n",
       "      <td>NaN</td>\n",
       "      <td>NaN</td>\n",
       "      <td>NaN</td>\n",
       "      <td>0</td>\n",
       "      <td>12</td>\n",
       "      <td>2008</td>\n",
       "      <td>WD</td>\n",
       "      <td>Normal</td>\n",
       "      <td>250000</td>\n",
       "    </tr>\n",
       "  </tbody>\n",
       "</table>\n",
       "</div>"
      ],
      "text/plain": [
       "   Id  MSSubClass MSZoning  LotFrontage  LotArea Street Alley LotShape  \\\n",
       "0   1          60       RL         65.0     8450   Pave   NaN      Reg   \n",
       "1   2          20       RL         80.0     9600   Pave   NaN      Reg   \n",
       "2   3          60       RL         68.0    11250   Pave   NaN      IR1   \n",
       "3   4          70       RL         60.0     9550   Pave   NaN      IR1   \n",
       "4   5          60       RL         84.0    14260   Pave   NaN      IR1   \n",
       "\n",
       "  LandContour Utilities LotConfig LandSlope Neighborhood Condition1  \\\n",
       "0         Lvl    AllPub    Inside       Gtl      CollgCr       Norm   \n",
       "1         Lvl    AllPub       FR2       Gtl      Veenker      Feedr   \n",
       "2         Lvl    AllPub    Inside       Gtl      CollgCr       Norm   \n",
       "3         Lvl    AllPub    Corner       Gtl      Crawfor       Norm   \n",
       "4         Lvl    AllPub       FR2       Gtl      NoRidge       Norm   \n",
       "\n",
       "  Condition2 BldgType HouseStyle  OverallQual  OverallCond  YearBuilt  \\\n",
       "0       Norm     1Fam     2Story            7            5       2003   \n",
       "1       Norm     1Fam     1Story            6            8       1976   \n",
       "2       Norm     1Fam     2Story            7            5       2001   \n",
       "3       Norm     1Fam     2Story            7            5       1915   \n",
       "4       Norm     1Fam     2Story            8            5       2000   \n",
       "\n",
       "   YearRemodAdd RoofStyle RoofMatl Exterior1st Exterior2nd MasVnrType  \\\n",
       "0          2003     Gable  CompShg     VinylSd     VinylSd    BrkFace   \n",
       "1          1976     Gable  CompShg     MetalSd     MetalSd       None   \n",
       "2          2002     Gable  CompShg     VinylSd     VinylSd    BrkFace   \n",
       "3          1970     Gable  CompShg     Wd Sdng     Wd Shng       None   \n",
       "4          2000     Gable  CompShg     VinylSd     VinylSd    BrkFace   \n",
       "\n",
       "   MasVnrArea ExterQual ExterCond Foundation BsmtQual BsmtCond BsmtExposure  \\\n",
       "0       196.0        Gd        TA      PConc       Gd       TA           No   \n",
       "1         0.0        TA        TA     CBlock       Gd       TA           Gd   \n",
       "2       162.0        Gd        TA      PConc       Gd       TA           Mn   \n",
       "3         0.0        TA        TA     BrkTil       TA       Gd           No   \n",
       "4       350.0        Gd        TA      PConc       Gd       TA           Av   \n",
       "\n",
       "  BsmtFinType1  BsmtFinSF1 BsmtFinType2  BsmtFinSF2  BsmtUnfSF  TotalBsmtSF  \\\n",
       "0          GLQ         706          Unf           0        150          856   \n",
       "1          ALQ         978          Unf           0        284         1262   \n",
       "2          GLQ         486          Unf           0        434          920   \n",
       "3          ALQ         216          Unf           0        540          756   \n",
       "4          GLQ         655          Unf           0        490         1145   \n",
       "\n",
       "  Heating HeatingQC CentralAir Electrical  1stFlrSF  2ndFlrSF  LowQualFinSF  \\\n",
       "0    GasA        Ex          Y      SBrkr       856       854             0   \n",
       "1    GasA        Ex          Y      SBrkr      1262         0             0   \n",
       "2    GasA        Ex          Y      SBrkr       920       866             0   \n",
       "3    GasA        Gd          Y      SBrkr       961       756             0   \n",
       "4    GasA        Ex          Y      SBrkr      1145      1053             0   \n",
       "\n",
       "   GrLivArea  BsmtFullBath  BsmtHalfBath  FullBath  HalfBath  BedroomAbvGr  \\\n",
       "0       1710             1             0         2         1             3   \n",
       "1       1262             0             1         2         0             3   \n",
       "2       1786             1             0         2         1             3   \n",
       "3       1717             1             0         1         0             3   \n",
       "4       2198             1             0         2         1             4   \n",
       "\n",
       "   KitchenAbvGr KitchenQual  TotRmsAbvGrd Functional  Fireplaces FireplaceQu  \\\n",
       "0             1          Gd             8        Typ           0         NaN   \n",
       "1             1          TA             6        Typ           1          TA   \n",
       "2             1          Gd             6        Typ           1          TA   \n",
       "3             1          Gd             7        Typ           1          Gd   \n",
       "4             1          Gd             9        Typ           1          TA   \n",
       "\n",
       "  GarageType  GarageYrBlt GarageFinish  GarageCars  GarageArea GarageQual  \\\n",
       "0     Attchd       2003.0          RFn           2         548         TA   \n",
       "1     Attchd       1976.0          RFn           2         460         TA   \n",
       "2     Attchd       2001.0          RFn           2         608         TA   \n",
       "3     Detchd       1998.0          Unf           3         642         TA   \n",
       "4     Attchd       2000.0          RFn           3         836         TA   \n",
       "\n",
       "  GarageCond PavedDrive  WoodDeckSF  OpenPorchSF  EnclosedPorch  3SsnPorch  \\\n",
       "0         TA          Y           0           61              0          0   \n",
       "1         TA          Y         298            0              0          0   \n",
       "2         TA          Y           0           42              0          0   \n",
       "3         TA          Y           0           35            272          0   \n",
       "4         TA          Y         192           84              0          0   \n",
       "\n",
       "   ScreenPorch  PoolArea PoolQC Fence MiscFeature  MiscVal  MoSold  YrSold  \\\n",
       "0            0         0    NaN   NaN         NaN        0       2    2008   \n",
       "1            0         0    NaN   NaN         NaN        0       5    2007   \n",
       "2            0         0    NaN   NaN         NaN        0       9    2008   \n",
       "3            0         0    NaN   NaN         NaN        0       2    2006   \n",
       "4            0         0    NaN   NaN         NaN        0      12    2008   \n",
       "\n",
       "  SaleType SaleCondition  SalePrice  \n",
       "0       WD        Normal     208500  \n",
       "1       WD        Normal     181500  \n",
       "2       WD        Normal     223500  \n",
       "3       WD       Abnorml     140000  \n",
       "4       WD        Normal     250000  "
      ]
     },
     "execution_count": 2,
     "metadata": {},
     "output_type": "execute_result"
    }
   ],
   "source": [
    "df = pd.read_csv('../input/house-prices-advanced-regression-techniques/train.csv')\n",
    "df.head()"
   ]
  },
  {
   "cell_type": "code",
   "execution_count": 3,
   "id": "nasty-poland",
   "metadata": {
    "execution": {
     "iopub.execute_input": "2021-05-23T16:33:22.660848Z",
     "iopub.status.busy": "2021-05-23T16:33:22.660351Z",
     "iopub.status.idle": "2021-05-23T16:33:22.664911Z",
     "shell.execute_reply": "2021-05-23T16:33:22.665275Z",
     "shell.execute_reply.started": "2021-05-23T15:26:22.691778Z"
    },
    "papermill": {
     "duration": 0.032848,
     "end_time": "2021-05-23T16:33:22.665412",
     "exception": false,
     "start_time": "2021-05-23T16:33:22.632564",
     "status": "completed"
    },
    "tags": []
   },
   "outputs": [
    {
     "data": {
      "text/plain": [
       "(1460, 81)"
      ]
     },
     "execution_count": 3,
     "metadata": {},
     "output_type": "execute_result"
    }
   ],
   "source": [
    "df.shape"
   ]
  },
  {
   "cell_type": "code",
   "execution_count": 4,
   "id": "trained-venture",
   "metadata": {
    "_kg_hide-output": true,
    "execution": {
     "iopub.execute_input": "2021-05-23T16:33:22.724499Z",
     "iopub.status.busy": "2021-05-23T16:33:22.723954Z",
     "iopub.status.idle": "2021-05-23T16:33:22.742570Z",
     "shell.execute_reply": "2021-05-23T16:33:22.742934Z",
     "shell.execute_reply.started": "2021-05-23T15:26:23.364091Z"
    },
    "papermill": {
     "duration": 0.051996,
     "end_time": "2021-05-23T16:33:22.743081",
     "exception": false,
     "start_time": "2021-05-23T16:33:22.691085",
     "status": "completed"
    },
    "tags": []
   },
   "outputs": [
    {
     "name": "stdout",
     "output_type": "stream",
     "text": [
      "<class 'pandas.core.frame.DataFrame'>\n",
      "RangeIndex: 1460 entries, 0 to 1459\n",
      "Data columns (total 81 columns):\n",
      " #   Column         Non-Null Count  Dtype  \n",
      "---  ------         --------------  -----  \n",
      " 0   Id             1460 non-null   int64  \n",
      " 1   MSSubClass     1460 non-null   int64  \n",
      " 2   MSZoning       1460 non-null   object \n",
      " 3   LotFrontage    1201 non-null   float64\n",
      " 4   LotArea        1460 non-null   int64  \n",
      " 5   Street         1460 non-null   object \n",
      " 6   Alley          91 non-null     object \n",
      " 7   LotShape       1460 non-null   object \n",
      " 8   LandContour    1460 non-null   object \n",
      " 9   Utilities      1460 non-null   object \n",
      " 10  LotConfig      1460 non-null   object \n",
      " 11  LandSlope      1460 non-null   object \n",
      " 12  Neighborhood   1460 non-null   object \n",
      " 13  Condition1     1460 non-null   object \n",
      " 14  Condition2     1460 non-null   object \n",
      " 15  BldgType       1460 non-null   object \n",
      " 16  HouseStyle     1460 non-null   object \n",
      " 17  OverallQual    1460 non-null   int64  \n",
      " 18  OverallCond    1460 non-null   int64  \n",
      " 19  YearBuilt      1460 non-null   int64  \n",
      " 20  YearRemodAdd   1460 non-null   int64  \n",
      " 21  RoofStyle      1460 non-null   object \n",
      " 22  RoofMatl       1460 non-null   object \n",
      " 23  Exterior1st    1460 non-null   object \n",
      " 24  Exterior2nd    1460 non-null   object \n",
      " 25  MasVnrType     1452 non-null   object \n",
      " 26  MasVnrArea     1452 non-null   float64\n",
      " 27  ExterQual      1460 non-null   object \n",
      " 28  ExterCond      1460 non-null   object \n",
      " 29  Foundation     1460 non-null   object \n",
      " 30  BsmtQual       1423 non-null   object \n",
      " 31  BsmtCond       1423 non-null   object \n",
      " 32  BsmtExposure   1422 non-null   object \n",
      " 33  BsmtFinType1   1423 non-null   object \n",
      " 34  BsmtFinSF1     1460 non-null   int64  \n",
      " 35  BsmtFinType2   1422 non-null   object \n",
      " 36  BsmtFinSF2     1460 non-null   int64  \n",
      " 37  BsmtUnfSF      1460 non-null   int64  \n",
      " 38  TotalBsmtSF    1460 non-null   int64  \n",
      " 39  Heating        1460 non-null   object \n",
      " 40  HeatingQC      1460 non-null   object \n",
      " 41  CentralAir     1460 non-null   object \n",
      " 42  Electrical     1459 non-null   object \n",
      " 43  1stFlrSF       1460 non-null   int64  \n",
      " 44  2ndFlrSF       1460 non-null   int64  \n",
      " 45  LowQualFinSF   1460 non-null   int64  \n",
      " 46  GrLivArea      1460 non-null   int64  \n",
      " 47  BsmtFullBath   1460 non-null   int64  \n",
      " 48  BsmtHalfBath   1460 non-null   int64  \n",
      " 49  FullBath       1460 non-null   int64  \n",
      " 50  HalfBath       1460 non-null   int64  \n",
      " 51  BedroomAbvGr   1460 non-null   int64  \n",
      " 52  KitchenAbvGr   1460 non-null   int64  \n",
      " 53  KitchenQual    1460 non-null   object \n",
      " 54  TotRmsAbvGrd   1460 non-null   int64  \n",
      " 55  Functional     1460 non-null   object \n",
      " 56  Fireplaces     1460 non-null   int64  \n",
      " 57  FireplaceQu    770 non-null    object \n",
      " 58  GarageType     1379 non-null   object \n",
      " 59  GarageYrBlt    1379 non-null   float64\n",
      " 60  GarageFinish   1379 non-null   object \n",
      " 61  GarageCars     1460 non-null   int64  \n",
      " 62  GarageArea     1460 non-null   int64  \n",
      " 63  GarageQual     1379 non-null   object \n",
      " 64  GarageCond     1379 non-null   object \n",
      " 65  PavedDrive     1460 non-null   object \n",
      " 66  WoodDeckSF     1460 non-null   int64  \n",
      " 67  OpenPorchSF    1460 non-null   int64  \n",
      " 68  EnclosedPorch  1460 non-null   int64  \n",
      " 69  3SsnPorch      1460 non-null   int64  \n",
      " 70  ScreenPorch    1460 non-null   int64  \n",
      " 71  PoolArea       1460 non-null   int64  \n",
      " 72  PoolQC         7 non-null      object \n",
      " 73  Fence          281 non-null    object \n",
      " 74  MiscFeature    54 non-null     object \n",
      " 75  MiscVal        1460 non-null   int64  \n",
      " 76  MoSold         1460 non-null   int64  \n",
      " 77  YrSold         1460 non-null   int64  \n",
      " 78  SaleType       1460 non-null   object \n",
      " 79  SaleCondition  1460 non-null   object \n",
      " 80  SalePrice      1460 non-null   int64  \n",
      "dtypes: float64(3), int64(35), object(43)\n",
      "memory usage: 924.0+ KB\n"
     ]
    }
   ],
   "source": [
    "df.info()"
   ]
  },
  {
   "cell_type": "markdown",
   "id": "chronic-seventh",
   "metadata": {
    "papermill": {
     "duration": 0.026084,
     "end_time": "2021-05-23T16:33:22.795771",
     "exception": false,
     "start_time": "2021-05-23T16:33:22.769687",
     "status": "completed"
    },
    "tags": []
   },
   "source": [
    "<span style=\"color: #000508; font-family: Segoe UI; font-size: 1.5em; font-weight: 300;\">We have 81 columns in total, 80 of them are feature columns and <code>SalePrice</code> is the target column</span>"
   ]
  },
  {
   "cell_type": "code",
   "execution_count": 5,
   "id": "atlantic-globe",
   "metadata": {
    "execution": {
     "iopub.execute_input": "2021-05-23T16:33:22.853544Z",
     "iopub.status.busy": "2021-05-23T16:33:22.853036Z",
     "iopub.status.idle": "2021-05-23T16:33:22.855463Z",
     "shell.execute_reply": "2021-05-23T16:33:22.854961Z",
     "shell.execute_reply.started": "2021-05-23T15:26:24.81421Z"
    },
    "papermill": {
     "duration": 0.033484,
     "end_time": "2021-05-23T16:33:22.855570",
     "exception": false,
     "start_time": "2021-05-23T16:33:22.822086",
     "status": "completed"
    },
    "tags": []
   },
   "outputs": [],
   "source": [
    "feature_cols = [col for col in df.columns if col not in ['SalePrice']]\n",
    "target_cols = ['SalePrice']\n",
    "\n",
    "cat_cols = [col for col in feature_cols if df[col].dtype == 'O']\n",
    "cont_cols = [col for col in feature_cols if col not in cat_cols]"
   ]
  },
  {
   "cell_type": "code",
   "execution_count": 6,
   "id": "domestic-baltimore",
   "metadata": {
    "execution": {
     "iopub.execute_input": "2021-05-23T16:33:22.917535Z",
     "iopub.status.busy": "2021-05-23T16:33:22.916937Z",
     "iopub.status.idle": "2021-05-23T16:33:24.230751Z",
     "shell.execute_reply": "2021-05-23T16:33:24.230207Z",
     "shell.execute_reply.started": "2021-05-23T15:51:28.559766Z"
    },
    "papermill": {
     "duration": 1.348331,
     "end_time": "2021-05-23T16:33:24.230873",
     "exception": false,
     "start_time": "2021-05-23T16:33:22.882542",
     "status": "completed"
    },
    "tags": []
   },
   "outputs": [
    {
     "data": {
      "image/png": "[encoded data removed]",
      "text/plain": [
       "<Figure size 1296x576 with 1 Axes>"
      ]
     },
     "metadata": {
      "needs_background": "light"
     },
     "output_type": "display_data"
    }
   ],
   "source": [
    "sns.heatmap(df.isnull(), cmap='Blues', cbar=False, yticklabels=False, xticklabels=df.columns);"
   ]
  },
  {
   "cell_type": "markdown",
   "id": "adjustable-trick",
   "metadata": {
    "papermill": {
     "duration": 0.028093,
     "end_time": "2021-05-23T16:33:24.288317",
     "exception": false,
     "start_time": "2021-05-23T16:33:24.260224",
     "status": "completed"
    },
    "tags": []
   },
   "source": [
    "<a id = '1.3'></a>\n",
    "\n",
    "<h2 style = \"background-color: #f6f5f5; color : #fe346e; font-size: 35px; font-family:garamond; font-weight: normal; border-radius: 100px 100px; text-align: center\">1.3 Helper Function</h2>"
   ]
  },
  {
   "cell_type": "code",
   "execution_count": 7,
   "id": "optical-judge",
   "metadata": {
    "execution": {
     "iopub.execute_input": "2021-05-23T16:33:24.350081Z",
     "iopub.status.busy": "2021-05-23T16:33:24.349538Z",
     "iopub.status.idle": "2021-05-23T16:33:24.352329Z",
     "shell.execute_reply": "2021-05-23T16:33:24.351759Z"
    },
    "papermill": {
     "duration": 0.035688,
     "end_time": "2021-05-23T16:33:24.352450",
     "exception": false,
     "start_time": "2021-05-23T16:33:24.316762",
     "status": "completed"
    },
    "tags": []
   },
   "outputs": [],
   "source": [
    "def encode_missing_columns(df, col):\n",
    "    le = LabelEncoder()\n",
    "    \n",
    "    # gets unique values w/o NaN\n",
    "    unique_without_nan = pd.Series([i for i in df[col].unique() if type(i) == str])\n",
    "    le.fit(unique_without_nan) # Fit on unique values\n",
    "    \n",
    "    # Set transformed col leaving np.NaN as they are\n",
    "    df[col] = df[col].apply(lambda x: le.transform([x])[0] if type(x) == str else x)"
   ]
  },
  {
   "cell_type": "markdown",
   "id": "eight-equivalent",
   "metadata": {
    "papermill": {
     "duration": 0.027423,
     "end_time": "2021-05-23T16:33:24.407978",
     "exception": false,
     "start_time": "2021-05-23T16:33:24.380555",
     "status": "completed"
    },
    "tags": []
   },
   "source": [
    "Let's take an example to understand what this function is doing <br>\n",
    "Suppose we have a column `['apple', 'mango', 'banana', 'apple', 'banana', NaN]`"
   ]
  },
  {
   "cell_type": "code",
   "execution_count": 8,
   "id": "parliamentary-bones",
   "metadata": {
    "execution": {
     "iopub.execute_input": "2021-05-23T16:33:24.469675Z",
     "iopub.status.busy": "2021-05-23T16:33:24.469007Z",
     "iopub.status.idle": "2021-05-23T16:33:24.472551Z",
     "shell.execute_reply": "2021-05-23T16:33:24.473115Z"
    },
    "papermill": {
     "duration": 0.037481,
     "end_time": "2021-05-23T16:33:24.473314",
     "exception": false,
     "start_time": "2021-05-23T16:33:24.435833",
     "status": "completed"
    },
    "tags": []
   },
   "outputs": [
    {
     "name": "stdout",
     "output_type": "stream",
     "text": [
      "Unique Values in the Column: ['apple' 'mango' 'banana' nan]\n",
      "Unique Values of type string: ['apple', 'mango', 'banana']\n"
     ]
    }
   ],
   "source": [
    "demo_col = pd.Series(['apple', 'mango', 'banana', 'apple', 'banana', np.NaN])\n",
    "print(f'Unique Values in the Column: {demo_col.unique()}')\n",
    "print(f'Unique Values of type string: {[i for i in demo_col.unique() if type(i) == str]}')"
   ]
  },
  {
   "cell_type": "code",
   "execution_count": 9,
   "id": "variable-salon",
   "metadata": {
    "execution": {
     "iopub.execute_input": "2021-05-23T16:33:24.538906Z",
     "iopub.status.busy": "2021-05-23T16:33:24.538158Z",
     "iopub.status.idle": "2021-05-23T16:33:24.541615Z",
     "shell.execute_reply": "2021-05-23T16:33:24.542032Z"
    },
    "papermill": {
     "duration": 0.039605,
     "end_time": "2021-05-23T16:33:24.542180",
     "exception": false,
     "start_time": "2021-05-23T16:33:24.502575",
     "status": "completed"
    },
    "tags": []
   },
   "outputs": [
    {
     "data": {
      "text/plain": [
       "0    0.0\n",
       "1    2.0\n",
       "2    1.0\n",
       "3    0.0\n",
       "4    1.0\n",
       "5    NaN\n",
       "dtype: float64"
      ]
     },
     "execution_count": 9,
     "metadata": {},
     "output_type": "execute_result"
    }
   ],
   "source": [
    "le = LabelEncoder()\n",
    "unique_without_nan = pd.Series([i for i in demo_col.unique() if type(i) == str])\n",
    "le.fit(unique_without_nan)\n",
    "demo_col.apply(lambda x: le.transform([x])[0] if type(x) == str else x)"
   ]
  },
  {
   "cell_type": "markdown",
   "id": "romance-venice",
   "metadata": {
    "papermill": {
     "duration": 0.029357,
     "end_time": "2021-05-23T16:33:24.600319",
     "exception": false,
     "start_time": "2021-05-23T16:33:24.570962",
     "status": "completed"
    },
    "tags": []
   },
   "source": [
    "<a id = '2'></a>\n",
    "<h2 style = \"font-family:garamond; font-size:50px; background-color: #f6f6f6; color : #fe346e; border-radius: 100px 100px; text-align:center\"> 2. Dropping Rows and Columns </h2>"
   ]
  },
  {
   "cell_type": "markdown",
   "id": "formal-reminder",
   "metadata": {
    "papermill": {
     "duration": 0.028704,
     "end_time": "2021-05-23T16:33:24.657715",
     "exception": false,
     "start_time": "2021-05-23T16:33:24.629011",
     "status": "completed"
    },
    "tags": []
   },
   "source": [
    "<span style=\"color: #000508; font-family: Segoe UI; font-size: 1.5em; font-weight: 300;\">This isn't an imputation technique, but this might be the first thing that comes in mind to deal with missing values</span>"
   ]
  },
  {
   "cell_type": "markdown",
   "id": "front-marine",
   "metadata": {
    "papermill": {
     "duration": 0.028954,
     "end_time": "2021-05-23T16:33:24.716230",
     "exception": false,
     "start_time": "2021-05-23T16:33:24.687276",
     "status": "completed"
    },
    "tags": []
   },
   "source": [
    "<a id = '2.1'></a>\n",
    "\n",
    "<h2 style = \"background-color: #f6f5f5; color : #fe346e; font-size: 35px; font-family:garamond; font-weight: normal; border-radius: 100px 100px; text-align: center\">2.1 Dropping Rows with Missing Values</h2>"
   ]
  },
  {
   "cell_type": "code",
   "execution_count": 10,
   "id": "australian-corruption",
   "metadata": {
    "execution": {
     "iopub.execute_input": "2021-05-23T16:33:24.781860Z",
     "iopub.status.busy": "2021-05-23T16:33:24.781330Z",
     "iopub.status.idle": "2021-05-23T16:33:24.890779Z",
     "shell.execute_reply": "2021-05-23T16:33:24.890305Z"
    },
    "papermill": {
     "duration": 0.145381,
     "end_time": "2021-05-23T16:33:24.890895",
     "exception": false,
     "start_time": "2021-05-23T16:33:24.745514",
     "status": "completed"
    },
    "tags": []
   },
   "outputs": [
    {
     "data": {
      "text/plain": [
       "1460"
      ]
     },
     "execution_count": 10,
     "metadata": {},
     "output_type": "execute_result"
    }
   ],
   "source": [
    "sum(df.isna().sum(axis=1) > 0)"
   ]
  },
  {
   "cell_type": "markdown",
   "id": "toxic-constraint",
   "metadata": {
    "papermill": {
     "duration": 0.029067,
     "end_time": "2021-05-23T16:33:24.949760",
     "exception": false,
     "start_time": "2021-05-23T16:33:24.920693",
     "status": "completed"
    },
    "tags": []
   },
   "source": [
    "<span style=\"color: #000508; font-family: Segoe UI; font-size: 1.5em; font-weight: 300;\">If we drop all the rows with any missing value we aren't left with any row</span>"
   ]
  },
  {
   "cell_type": "markdown",
   "id": "sharing-jones",
   "metadata": {
    "papermill": {
     "duration": 0.029086,
     "end_time": "2021-05-23T16:33:25.007858",
     "exception": false,
     "start_time": "2021-05-23T16:33:24.978772",
     "status": "completed"
    },
    "tags": []
   },
   "source": [
    "<a id = '2.2'></a>\n",
    "\n",
    "<h2 style = \"background-color: #f6f5f5; color : #fe346e; font-size: 35px; font-family:garamond; font-weight: normal; border-radius: 100px 100px; text-align: center\">2.2 Dropping Columns with Missing Values</h2>"
   ]
  },
  {
   "cell_type": "code",
   "execution_count": 11,
   "id": "differential-begin",
   "metadata": {
    "execution": {
     "iopub.execute_input": "2021-05-23T16:33:25.069576Z",
     "iopub.status.busy": "2021-05-23T16:33:25.069014Z",
     "iopub.status.idle": "2021-05-23T16:33:25.077967Z",
     "shell.execute_reply": "2021-05-23T16:33:25.077541Z"
    },
    "papermill": {
     "duration": 0.041066,
     "end_time": "2021-05-23T16:33:25.078080",
     "exception": false,
     "start_time": "2021-05-23T16:33:25.037014",
     "status": "completed"
    },
    "tags": []
   },
   "outputs": [
    {
     "data": {
      "text/plain": [
       "19"
      ]
     },
     "execution_count": 11,
     "metadata": {},
     "output_type": "execute_result"
    }
   ],
   "source": [
    "sum(df.isna().sum(axis=0) > 0)"
   ]
  },
  {
   "cell_type": "markdown",
   "id": "approved-annotation",
   "metadata": {
    "papermill": {
     "duration": 0.029672,
     "end_time": "2021-05-23T16:33:25.137457",
     "exception": false,
     "start_time": "2021-05-23T16:33:25.107785",
     "status": "completed"
    },
    "tags": []
   },
   "source": [
    "<span style=\"color: #000508; font-family: Segoe UI; font-size: 1.5em; font-weight: 300;\">If we drop all columns with missing values we lose 19 columns</span>"
   ]
  },
  {
   "cell_type": "markdown",
   "id": "black-messenger",
   "metadata": {
    "papermill": {
     "duration": 0.029111,
     "end_time": "2021-05-23T16:33:25.196100",
     "exception": false,
     "start_time": "2021-05-23T16:33:25.166989",
     "status": "completed"
    },
    "tags": []
   },
   "source": [
    "<a id = '3'></a>\n",
    "<h2 style = \"font-family:garamond; font-size:50px; background-color: #f6f6f6; color : #fe346e; border-radius: 100px 100px; text-align:center\"> 3. Univariate vs Multivariate Imputation </h2>"
   ]
  },
  {
   "cell_type": "markdown",
   "id": "cleared-shape",
   "metadata": {
    "papermill": {
     "duration": 0.029196,
     "end_time": "2021-05-23T16:33:25.254793",
     "exception": false,
     "start_time": "2021-05-23T16:33:25.225597",
     "status": "completed"
    },
    "tags": []
   },
   "source": [
    "<span style=\"color: #000508; font-family: Segoe UI; font-size: 1.5em; font-weight: 300;\">One type of imputation algorithm is univariate, which imputes values in the i-th feature dimension using only non-missing values in that feature dimension (e.g. <code>SimpleImputer</code>). By contrast, multivariate imputation algorithms use the entire set of available feature dimensions to estimate the missing values (e.g. <code>IterativeImputer</code>).</span>"
   ]
  },
  {
   "cell_type": "markdown",
   "id": "changing-hands",
   "metadata": {
    "papermill": {
     "duration": 0.028934,
     "end_time": "2021-05-23T16:33:25.313081",
     "exception": false,
     "start_time": "2021-05-23T16:33:25.284147",
     "status": "completed"
    },
    "tags": []
   },
   "source": [
    "<a id = '3.1'></a>\n",
    "\n",
    "<h2 style = \"background-color: #f6f5f5; color : #fe346e; font-size: 35px; font-family:garamond; font-weight: normal; border-radius: 100px 100px; text-align: center\">3.1 Univariate Imputation</h2>"
   ]
  },
  {
   "cell_type": "markdown",
   "id": "lucky-dimension",
   "metadata": {
    "papermill": {
     "duration": 0.028867,
     "end_time": "2021-05-23T16:33:25.371160",
     "exception": false,
     "start_time": "2021-05-23T16:33:25.342293",
     "status": "completed"
    },
    "tags": []
   },
   "source": [
    "<span style=\"color: #000508; font-family: Segoe UI; font-size: 1.5em; font-weight: 300;\">We can impute missing values with a provided constant value, or using the statistics (mean, median or most frequent) of each column.</span>"
   ]
  },
  {
   "cell_type": "markdown",
   "id": "logical-equipment",
   "metadata": {
    "papermill": {
     "duration": 0.028932,
     "end_time": "2021-05-23T16:33:25.429736",
     "exception": false,
     "start_time": "2021-05-23T16:33:25.400804",
     "status": "completed"
    },
    "tags": []
   },
   "source": [
    "<a id = '3.1.1'></a>\n",
    "\n",
    "<h2 style = \"background-color: #f6f5f5; color : #fe346e; font-size: 28px; font-family:garamond; font-weight: normal; border-radius: 100px 100px; text-align: center\">3.1.1 Simple Imputer</h2>"
   ]
  },
  {
   "cell_type": "markdown",
   "id": "superb-universal",
   "metadata": {
    "papermill": {
     "duration": 0.02968,
     "end_time": "2021-05-23T16:33:25.488635",
     "exception": false,
     "start_time": "2021-05-23T16:33:25.458955",
     "status": "completed"
    },
    "tags": []
   },
   "source": [
    "<span style=\"color: #000508; font-family: Segoe UI; font-size: 1.5em; font-weight: 300;\">Imputing Continuous Variables</span>"
   ]
  },
  {
   "cell_type": "code",
   "execution_count": 12,
   "id": "internal-remark",
   "metadata": {
    "execution": {
     "iopub.execute_input": "2021-05-23T16:33:25.551401Z",
     "iopub.status.busy": "2021-05-23T16:33:25.550788Z",
     "iopub.status.idle": "2021-05-23T16:33:25.553729Z",
     "shell.execute_reply": "2021-05-23T16:33:25.554168Z"
    },
    "papermill": {
     "duration": 0.036201,
     "end_time": "2021-05-23T16:33:25.554332",
     "exception": false,
     "start_time": "2021-05-23T16:33:25.518131",
     "status": "completed"
    },
    "tags": []
   },
   "outputs": [],
   "source": [
    "df_simple_imputer = df.copy()"
   ]
  },
  {
   "cell_type": "code",
   "execution_count": 13,
   "id": "flush-casino",
   "metadata": {
    "execution": {
     "iopub.execute_input": "2021-05-23T16:33:25.621304Z",
     "iopub.status.busy": "2021-05-23T16:33:25.620443Z",
     "iopub.status.idle": "2021-05-23T16:33:25.643383Z",
     "shell.execute_reply": "2021-05-23T16:33:25.642736Z"
    },
    "papermill": {
     "duration": 0.059372,
     "end_time": "2021-05-23T16:33:25.643504",
     "exception": false,
     "start_time": "2021-05-23T16:33:25.584132",
     "status": "completed"
    },
    "tags": []
   },
   "outputs": [],
   "source": [
    "imputer = SimpleImputer(strategy='mean')\n",
    "\n",
    "df_simple_imputer[cont_cols] = imputer.fit_transform(df_simple_imputer[cont_cols])"
   ]
  },
  {
   "cell_type": "markdown",
   "id": "capital-connectivity",
   "metadata": {
    "papermill": {
     "duration": 0.029599,
     "end_time": "2021-05-23T16:33:25.703431",
     "exception": false,
     "start_time": "2021-05-23T16:33:25.673832",
     "status": "completed"
    },
    "tags": []
   },
   "source": [
    "<span style=\"color: #000508; font-family: Segoe UI; font-size: 1.5em; font-weight: 300;\">Imputing Categorical Variables</span>"
   ]
  },
  {
   "cell_type": "code",
   "execution_count": 14,
   "id": "metallic-narrow",
   "metadata": {
    "execution": {
     "iopub.execute_input": "2021-05-23T16:33:25.768307Z",
     "iopub.status.busy": "2021-05-23T16:33:25.767432Z",
     "iopub.status.idle": "2021-05-23T16:33:25.789752Z",
     "shell.execute_reply": "2021-05-23T16:33:25.789335Z"
    },
    "papermill": {
     "duration": 0.056752,
     "end_time": "2021-05-23T16:33:25.789873",
     "exception": false,
     "start_time": "2021-05-23T16:33:25.733121",
     "status": "completed"
    },
    "tags": []
   },
   "outputs": [],
   "source": [
    "imputer = SimpleImputer(strategy='most_frequent')\n",
    "\n",
    "df_simple_imputer[cat_cols] = imputer.fit_transform(df_simple_imputer[cat_cols])"
   ]
  },
  {
   "cell_type": "code",
   "execution_count": 15,
   "id": "tender-selling",
   "metadata": {
    "execution": {
     "iopub.execute_input": "2021-05-23T16:33:25.856054Z",
     "iopub.status.busy": "2021-05-23T16:33:25.855552Z",
     "iopub.status.idle": "2021-05-23T16:33:27.113135Z",
     "shell.execute_reply": "2021-05-23T16:33:27.112707Z"
    },
    "papermill": {
     "duration": 1.293631,
     "end_time": "2021-05-23T16:33:27.113266",
     "exception": false,
     "start_time": "2021-05-23T16:33:25.819635",
     "status": "completed"
    },
    "tags": []
   },
   "outputs": [
    {
     "data": {
      "image/png": "[encoded data removed]",
      "text/plain": [
       "<Figure size 1296x576 with 1 Axes>"
      ]
     },
     "metadata": {
      "needs_background": "light"
     },
     "output_type": "display_data"
    }
   ],
   "source": [
    "sns.heatmap(df_simple_imputer.isnull(), cmap='Blues', cbar=False, yticklabels=False, xticklabels=df.columns);"
   ]
  },
  {
   "cell_type": "markdown",
   "id": "received-century",
   "metadata": {
    "papermill": {
     "duration": 0.034511,
     "end_time": "2021-05-23T16:33:27.180303",
     "exception": false,
     "start_time": "2021-05-23T16:33:27.145792",
     "status": "completed"
    },
    "tags": []
   },
   "source": [
    "<a id = '3.2'></a>\n",
    "\n",
    "<h2 style = \"background-color: #f6f5f5; color : #fe346e; font-size: 35px; font-family:garamond; font-weight: normal; border-radius: 100px 100px; text-align: center\">3.2 Multivariate Imputation</h2>"
   ]
  },
  {
   "cell_type": "markdown",
   "id": "original-given",
   "metadata": {
    "papermill": {
     "duration": 0.0319,
     "end_time": "2021-05-23T16:33:27.243995",
     "exception": false,
     "start_time": "2021-05-23T16:33:27.212095",
     "status": "completed"
    },
    "tags": []
   },
   "source": [
    "<span style=\"color: #000508; font-family: Segoe UI; font-size: 1.5em; font-weight: 300;\">A strategy for imputing missing values by modeling each feature with missing values as a function of other features</span>"
   ]
  },
  {
   "cell_type": "markdown",
   "id": "exposed-excuse",
   "metadata": {
    "papermill": {
     "duration": 0.031431,
     "end_time": "2021-05-23T16:33:27.307043",
     "exception": false,
     "start_time": "2021-05-23T16:33:27.275612",
     "status": "completed"
    },
    "tags": []
   },
   "source": [
    "<a id = '3.2.1'></a>\n",
    "\n",
    "<h2 style = \"background-color: #f6f5f5; color : #fe346e; font-size: 28px; font-family:garamond; font-weight: normal; border-radius: 100px 100px; text-align: center\">3.2.1 KNN Imputer</h2>"
   ]
  },
  {
   "cell_type": "markdown",
   "id": "blessed-mitchell",
   "metadata": {
    "papermill": {
     "duration": 0.031216,
     "end_time": "2021-05-23T16:33:27.369810",
     "exception": false,
     "start_time": "2021-05-23T16:33:27.338594",
     "status": "completed"
    },
    "tags": []
   },
   "source": [
    "<span style=\"color: #000508; font-family: Segoe UI; font-size: 1.5em; font-weight: 300;\">KNNImputer doesn't work on strings so we need to encode the strings into float or int keeping the <code>NaN</code> values</span> <br>\n",
    "<span style=\"color: #000508; font-family: Segoe UI; font-size: 1.5em; font-weight: 300;\">This is where we will use the helper function we defined earlier</span>"
   ]
  },
  {
   "cell_type": "code",
   "execution_count": 16,
   "id": "subjective-apollo",
   "metadata": {
    "execution": {
     "iopub.execute_input": "2021-05-23T16:33:27.437262Z",
     "iopub.status.busy": "2021-05-23T16:33:27.436742Z",
     "iopub.status.idle": "2021-05-23T16:33:27.440068Z",
     "shell.execute_reply": "2021-05-23T16:33:27.439689Z"
    },
    "papermill": {
     "duration": 0.038717,
     "end_time": "2021-05-23T16:33:27.440223",
     "exception": false,
     "start_time": "2021-05-23T16:33:27.401506",
     "status": "completed"
    },
    "tags": []
   },
   "outputs": [],
   "source": [
    "df_knn_imputer = df.copy()"
   ]
  },
  {
   "cell_type": "code",
   "execution_count": 17,
   "id": "rough-anthropology",
   "metadata": {
    "execution": {
     "iopub.execute_input": "2021-05-23T16:33:27.525491Z",
     "iopub.status.busy": "2021-05-23T16:33:27.520398Z",
     "iopub.status.idle": "2021-05-23T16:33:28.773092Z",
     "shell.execute_reply": "2021-05-23T16:33:28.772635Z"
    },
    "papermill": {
     "duration": 1.29986,
     "end_time": "2021-05-23T16:33:28.773252",
     "exception": false,
     "start_time": "2021-05-23T16:33:27.473392",
     "status": "completed"
    },
    "tags": []
   },
   "outputs": [],
   "source": [
    "for col in cat_cols:\n",
    "    encode_missing_columns(df_knn_imputer, col)"
   ]
  },
  {
   "cell_type": "code",
   "execution_count": 18,
   "id": "handmade-fields",
   "metadata": {
    "execution": {
     "iopub.execute_input": "2021-05-23T16:33:28.842178Z",
     "iopub.status.busy": "2021-05-23T16:33:28.841632Z",
     "iopub.status.idle": "2021-05-23T16:33:29.336075Z",
     "shell.execute_reply": "2021-05-23T16:33:29.335580Z"
    },
    "papermill": {
     "duration": 0.530741,
     "end_time": "2021-05-23T16:33:29.336237",
     "exception": false,
     "start_time": "2021-05-23T16:33:28.805496",
     "status": "completed"
    },
    "tags": []
   },
   "outputs": [],
   "source": [
    "knn_imputer = KNNImputer(n_neighbors=5)\n",
    "\n",
    "df_knn_imputer[feature_cols] = knn_imputer.fit_transform(df_knn_imputer[feature_cols])"
   ]
  },
  {
   "cell_type": "code",
   "execution_count": 19,
   "id": "chubby-constant",
   "metadata": {
    "execution": {
     "iopub.execute_input": "2021-05-23T16:33:29.418778Z",
     "iopub.status.busy": "2021-05-23T16:33:29.415123Z",
     "iopub.status.idle": "2021-05-23T16:33:30.801246Z",
     "shell.execute_reply": "2021-05-23T16:33:30.801631Z"
    },
    "papermill": {
     "duration": 1.42938,
     "end_time": "2021-05-23T16:33:30.801797",
     "exception": false,
     "start_time": "2021-05-23T16:33:29.372417",
     "status": "completed"
    },
    "tags": []
   },
   "outputs": [
    {
     "data": {
      "image/png": "[encoded data removed]",
      "text/plain": [
       "<Figure size 1296x576 with 1 Axes>"
      ]
     },
     "metadata": {
      "needs_background": "light"
     },
     "output_type": "display_data"
    }
   ],
   "source": [
    "sns.heatmap(df_knn_imputer.isnull(), cmap='Blues', cbar=False, yticklabels=False, xticklabels=df.columns);"
   ]
  },
  {
   "cell_type": "markdown",
   "id": "first-effect",
   "metadata": {
    "papermill": {
     "duration": 0.039384,
     "end_time": "2021-05-23T16:33:30.876546",
     "exception": false,
     "start_time": "2021-05-23T16:33:30.837162",
     "status": "completed"
    },
    "tags": []
   },
   "source": [
    "<a id = '3.2.2'></a>\n",
    "\n",
    "<h2 style = \"background-color: #f6f5f5; color : #fe346e; font-size: 28px; font-family:garamond; font-weight: normal; border-radius: 100px 100px; text-align: center\">3.2.2 Iterative Imputer</h2>"
   ]
  },
  {
   "cell_type": "markdown",
   "id": "dimensional-growth",
   "metadata": {
    "papermill": {
     "duration": 0.035949,
     "end_time": "2021-05-23T16:33:30.952604",
     "exception": false,
     "start_time": "2021-05-23T16:33:30.916655",
     "status": "completed"
    },
    "tags": []
   },
   "source": [
    "<span style=\"color: #000508; font-family: Segoe UI; font-size: 1.5em; font-weight: 300;\">Like KNNImputer, Iterative Imputer also doesn't work on strings</span>"
   ]
  },
  {
   "cell_type": "code",
   "execution_count": 20,
   "id": "promotional-commercial",
   "metadata": {
    "execution": {
     "iopub.execute_input": "2021-05-23T16:33:31.042317Z",
     "iopub.status.busy": "2021-05-23T16:33:31.041333Z",
     "iopub.status.idle": "2021-05-23T16:33:31.045177Z",
     "shell.execute_reply": "2021-05-23T16:33:31.045600Z"
    },
    "papermill": {
     "duration": 0.051459,
     "end_time": "2021-05-23T16:33:31.045785",
     "exception": false,
     "start_time": "2021-05-23T16:33:30.994326",
     "status": "completed"
    },
    "tags": []
   },
   "outputs": [],
   "source": [
    "df_iterative_imputer = df.copy()"
   ]
  },
  {
   "cell_type": "code",
   "execution_count": 21,
   "id": "mighty-soldier",
   "metadata": {
    "execution": {
     "iopub.execute_input": "2021-05-23T16:33:31.162398Z",
     "iopub.status.busy": "2021-05-23T16:33:31.160273Z",
     "iopub.status.idle": "2021-05-23T16:33:32.516360Z",
     "shell.execute_reply": "2021-05-23T16:33:32.516876Z"
    },
    "papermill": {
     "duration": 1.432347,
     "end_time": "2021-05-23T16:33:32.517065",
     "exception": false,
     "start_time": "2021-05-23T16:33:31.084718",
     "status": "completed"
    },
    "tags": []
   },
   "outputs": [],
   "source": [
    "for col in cat_cols:\n",
    "    encode_missing_columns(df_iterative_imputer, col)"
   ]
  },
  {
   "cell_type": "code",
   "execution_count": 22,
   "id": "utility-boundary",
   "metadata": {
    "execution": {
     "iopub.execute_input": "2021-05-23T16:33:32.600138Z",
     "iopub.status.busy": "2021-05-23T16:33:32.599337Z",
     "iopub.status.idle": "2021-05-23T16:33:35.489477Z",
     "shell.execute_reply": "2021-05-23T16:33:35.489871Z"
    },
    "papermill": {
     "duration": 2.931517,
     "end_time": "2021-05-23T16:33:35.490178",
     "exception": false,
     "start_time": "2021-05-23T16:33:32.558661",
     "status": "completed"
    },
    "tags": []
   },
   "outputs": [],
   "source": [
    "itr_imputer = IterativeImputer()\n",
    "\n",
    "df_iterative_imputer[feature_cols] = itr_imputer.fit_transform(df_iterative_imputer[feature_cols])"
   ]
  },
  {
   "cell_type": "code",
   "execution_count": 23,
   "id": "collective-guard",
   "metadata": {
    "execution": {
     "iopub.execute_input": "2021-05-23T16:33:35.562221Z",
     "iopub.status.busy": "2021-05-23T16:33:35.561406Z",
     "iopub.status.idle": "2021-05-23T16:33:36.820343Z",
     "shell.execute_reply": "2021-05-23T16:33:36.820706Z"
    },
    "papermill": {
     "duration": 1.295762,
     "end_time": "2021-05-23T16:33:36.820855",
     "exception": false,
     "start_time": "2021-05-23T16:33:35.525093",
     "status": "completed"
    },
    "tags": []
   },
   "outputs": [
    {
     "data": {
      "image/png": "[encoded data removed]",
      "text/plain": [
       "<Figure size 1296x576 with 1 Axes>"
      ]
     },
     "metadata": {
      "needs_background": "light"
     },
     "output_type": "display_data"
    }
   ],
   "source": [
    "sns.heatmap(df_iterative_imputer.isnull(), cmap='Blues', cbar=False, yticklabels=False, xticklabels=df.columns);"
   ]
  },
  {
   "cell_type": "markdown",
   "id": "operational-money",
   "metadata": {
    "papermill": {
     "duration": 0.036077,
     "end_time": "2021-05-23T16:33:36.892857",
     "exception": false,
     "start_time": "2021-05-23T16:33:36.856780",
     "status": "completed"
    },
    "tags": []
   },
   "source": [
    "<a id = '4'></a>\n",
    "<h2 style = \"font-family:garamond; font-size:50px; background-color: #f6f6f6; color : #fe346e; border-radius: 100px 100px; text-align:center\"> 4. Missing Indicator </h2>"
   ]
  },
  {
   "cell_type": "markdown",
   "id": "royal-customer",
   "metadata": {
    "papermill": {
     "duration": 0.038462,
     "end_time": "2021-05-23T16:33:36.968155",
     "exception": false,
     "start_time": "2021-05-23T16:33:36.929693",
     "status": "completed"
    },
    "tags": []
   },
   "source": [
    "<span style=\"color: #000508; font-family: Segoe UI; font-size: 1.5em; font-weight: 300;\">Most of the times the missing values are not randomly distributed across observations but are distributed within one or more sub-samples. Therefore, missingness itself might be a good indicator to classify the labels</span>"
   ]
  },
  {
   "cell_type": "code",
   "execution_count": 24,
   "id": "international-ceiling",
   "metadata": {
    "execution": {
     "iopub.execute_input": "2021-05-23T16:33:37.044336Z",
     "iopub.status.busy": "2021-05-23T16:33:37.043526Z",
     "iopub.status.idle": "2021-05-23T16:33:37.046934Z",
     "shell.execute_reply": "2021-05-23T16:33:37.047378Z"
    },
    "papermill": {
     "duration": 0.04247,
     "end_time": "2021-05-23T16:33:37.047519",
     "exception": false,
     "start_time": "2021-05-23T16:33:37.005049",
     "status": "completed"
    },
    "tags": []
   },
   "outputs": [],
   "source": [
    "from sklearn.impute import MissingIndicator"
   ]
  },
  {
   "cell_type": "code",
   "execution_count": 25,
   "id": "brief-destination",
   "metadata": {
    "execution": {
     "iopub.execute_input": "2021-05-23T16:33:37.122560Z",
     "iopub.status.busy": "2021-05-23T16:33:37.121709Z",
     "iopub.status.idle": "2021-05-23T16:33:37.125950Z",
     "shell.execute_reply": "2021-05-23T16:33:37.126357Z"
    },
    "papermill": {
     "duration": 0.043022,
     "end_time": "2021-05-23T16:33:37.126494",
     "exception": false,
     "start_time": "2021-05-23T16:33:37.083472",
     "status": "completed"
    },
    "tags": []
   },
   "outputs": [],
   "source": [
    "df_miss = df.copy()"
   ]
  },
  {
   "cell_type": "code",
   "execution_count": 26,
   "id": "bound-grain",
   "metadata": {
    "execution": {
     "iopub.execute_input": "2021-05-23T16:33:37.206163Z",
     "iopub.status.busy": "2021-05-23T16:33:37.203679Z",
     "iopub.status.idle": "2021-05-23T16:33:37.214386Z",
     "shell.execute_reply": "2021-05-23T16:33:37.213912Z"
    },
    "papermill": {
     "duration": 0.051335,
     "end_time": "2021-05-23T16:33:37.214503",
     "exception": false,
     "start_time": "2021-05-23T16:33:37.163168",
     "status": "completed"
    },
    "tags": []
   },
   "outputs": [],
   "source": [
    "miss_indicator = MissingIndicator()\n",
    "\n",
    "X_miss = miss_indicator.fit_transform(df_miss[feature_cols])"
   ]
  },
  {
   "cell_type": "code",
   "execution_count": 27,
   "id": "alternative-rental",
   "metadata": {
    "execution": {
     "iopub.execute_input": "2021-05-23T16:33:37.290956Z",
     "iopub.status.busy": "2021-05-23T16:33:37.290476Z",
     "iopub.status.idle": "2021-05-23T16:33:37.293064Z",
     "shell.execute_reply": "2021-05-23T16:33:37.293515Z"
    },
    "papermill": {
     "duration": 0.042519,
     "end_time": "2021-05-23T16:33:37.293648",
     "exception": false,
     "start_time": "2021-05-23T16:33:37.251129",
     "status": "completed"
    },
    "tags": []
   },
   "outputs": [
    {
     "data": {
      "text/plain": [
       "(1460, 19)"
      ]
     },
     "execution_count": 27,
     "metadata": {},
     "output_type": "execute_result"
    }
   ],
   "source": [
    "X_miss.shape"
   ]
  },
  {
   "cell_type": "markdown",
   "id": "extraordinary-convenience",
   "metadata": {
    "papermill": {
     "duration": 0.036141,
     "end_time": "2021-05-23T16:33:37.365957",
     "exception": false,
     "start_time": "2021-05-23T16:33:37.329816",
     "status": "completed"
    },
    "tags": []
   },
   "source": [
    "<span style=\"color: #000508; font-family: Segoe UI; font-size: 1.5em; font-weight: 300;\">Recall that in <a href=\"#2.2\">Section 2.2</a> we had seen that if we drop all columns with missing values we lose 19 columns</span>"
   ]
  },
  {
   "cell_type": "markdown",
   "id": "canadian-billy",
   "metadata": {
    "papermill": {
     "duration": 0.036004,
     "end_time": "2021-05-23T16:33:37.438071",
     "exception": false,
     "start_time": "2021-05-23T16:33:37.402067",
     "status": "completed"
    },
    "tags": []
   },
   "source": [
    "<a id = '5'></a>\n",
    "<h2 style = \"font-family:garamond; font-size:50px; background-color: #f6f6f6; color : #fe346e; border-radius: 100px 100px; text-align:center\"> 5. Missing Indicator + Iterative Imputer </h2>"
   ]
  },
  {
   "cell_type": "code",
   "execution_count": 28,
   "id": "fabulous-norwegian",
   "metadata": {
    "execution": {
     "iopub.execute_input": "2021-05-23T16:33:37.514898Z",
     "iopub.status.busy": "2021-05-23T16:33:37.514394Z",
     "iopub.status.idle": "2021-05-23T16:33:37.517894Z",
     "shell.execute_reply": "2021-05-23T16:33:37.518296Z"
    },
    "papermill": {
     "duration": 0.04329,
     "end_time": "2021-05-23T16:33:37.518435",
     "exception": false,
     "start_time": "2021-05-23T16:33:37.475145",
     "status": "completed"
    },
    "tags": []
   },
   "outputs": [],
   "source": [
    "df_miss_itr = df.copy()"
   ]
  },
  {
   "cell_type": "code",
   "execution_count": 29,
   "id": "voluntary-williams",
   "metadata": {
    "execution": {
     "iopub.execute_input": "2021-05-23T16:33:37.611434Z",
     "iopub.status.busy": "2021-05-23T16:33:37.606023Z",
     "iopub.status.idle": "2021-05-23T16:33:38.860920Z",
     "shell.execute_reply": "2021-05-23T16:33:38.860421Z"
    },
    "papermill": {
     "duration": 1.306092,
     "end_time": "2021-05-23T16:33:38.861048",
     "exception": false,
     "start_time": "2021-05-23T16:33:37.554956",
     "status": "completed"
    },
    "tags": []
   },
   "outputs": [],
   "source": [
    "for col in cat_cols:\n",
    "    encode_missing_columns(df_miss_itr, col)"
   ]
  },
  {
   "cell_type": "code",
   "execution_count": 30,
   "id": "accompanied-mapping",
   "metadata": {
    "execution": {
     "iopub.execute_input": "2021-05-23T16:33:38.941802Z",
     "iopub.status.busy": "2021-05-23T16:33:38.941244Z",
     "iopub.status.idle": "2021-05-23T16:33:41.547049Z",
     "shell.execute_reply": "2021-05-23T16:33:41.547813Z"
    },
    "papermill": {
     "duration": 2.649081,
     "end_time": "2021-05-23T16:33:41.548048",
     "exception": false,
     "start_time": "2021-05-23T16:33:38.898967",
     "status": "completed"
    },
    "tags": []
   },
   "outputs": [],
   "source": [
    "# setting add_indicator=True returns missing indicators alongwith the imputed dataframe\n",
    "itr_imputer = IterativeImputer(add_indicator=True) \n",
    "\n",
    "X = itr_imputer.fit_transform(df_miss_itr[feature_cols])"
   ]
  },
  {
   "cell_type": "code",
   "execution_count": 31,
   "id": "mediterranean-piece",
   "metadata": {
    "execution": {
     "iopub.execute_input": "2021-05-23T16:33:41.705958Z",
     "iopub.status.busy": "2021-05-23T16:33:41.705455Z",
     "iopub.status.idle": "2021-05-23T16:33:41.708719Z",
     "shell.execute_reply": "2021-05-23T16:33:41.708169Z"
    },
    "papermill": {
     "duration": 0.048335,
     "end_time": "2021-05-23T16:33:41.708834",
     "exception": false,
     "start_time": "2021-05-23T16:33:41.660499",
     "status": "completed"
    },
    "tags": []
   },
   "outputs": [
    {
     "data": {
      "text/plain": [
       "(1460, 99)"
      ]
     },
     "execution_count": 31,
     "metadata": {},
     "output_type": "execute_result"
    }
   ],
   "source": [
    "X.shape"
   ]
  },
  {
   "cell_type": "markdown",
   "id": "reverse-moment",
   "metadata": {
    "papermill": {
     "duration": 0.038355,
     "end_time": "2021-05-23T16:33:41.784912",
     "exception": false,
     "start_time": "2021-05-23T16:33:41.746557",
     "status": "completed"
    },
    "tags": []
   },
   "source": [
    "<span style=\"color: #000508; font-family: Segoe UI; font-size: 1.5em; font-weight: 300;\">We have 99 feature columns now (80 original features + 19 missing indicator features) and 1 target column</span>"
   ]
  },
  {
   "cell_type": "markdown",
   "id": "endless-opinion",
   "metadata": {
    "papermill": {
     "duration": 0.03747,
     "end_time": "2021-05-23T16:33:41.860261",
     "exception": false,
     "start_time": "2021-05-23T16:33:41.822791",
     "status": "completed"
    },
    "tags": []
   },
   "source": [
    "<a id = '6'></a>\n",
    "<h2 style = \"font-family:garamond; font-size:50px; background-color: #f6f6f6; color : #fe346e; border-radius: 100px 100px; text-align:center\"> 6. Further Readings </h2>"
   ]
  },
  {
   "cell_type": "markdown",
   "id": "broken-status",
   "metadata": {
    "papermill": {
     "duration": 0.037232,
     "end_time": "2021-05-23T16:33:41.935458",
     "exception": false,
     "start_time": "2021-05-23T16:33:41.898226",
     "status": "completed"
    },
    "tags": []
   },
   "source": [
    "1. [KNN Imputer Algorithm](https://www.youtube.com/watch?v=AHBHMQyD75U&list=PLlg4M31xJeYa7XcJZWypot8l7R-0E65Ls)\n",
    "2. [Iterative Imputer Algorithm](https://www.youtube.com/watch?v=WPiYOS3qK70&list=PLlg4M31xJeYa7XcJZWypot8l7R-0E65Ls)"
   ]
  }
 ],
 "metadata": {
  "kernelspec": {
   "display_name": "Python 3",
   "language": "python",
   "name": "python3"
  },
  "language_info": {
   "codemirror_mode": {
    "name": "ipython",
    "version": 3
   },
   "file_extension": ".py",
   "mimetype": "text/x-python",
   "name": "python",
   "nbconvert_exporter": "python",
   "pygments_lexer": "ipython3",
   "version": "3.7.10"
  },
  "papermill": {
   "default_parameters": {},
   "duration": 28.702343,
   "end_time": "2021-05-23T16:33:43.495010",
   "environment_variables": {},
   "exception": null,
   "input_path": "__notebook__.ipynb",
   "output_path": "__notebook__.ipynb",
   "parameters": {},
   "start_time": "2021-05-23T16:33:14.792667",
   "version": "2.3.3"
  }
 },
 "nbformat": 4,
 "nbformat_minor": 5
}
