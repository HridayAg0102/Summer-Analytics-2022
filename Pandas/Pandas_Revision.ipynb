{
 "cells": [
  {
   "cell_type": "markdown",
   "id": "5a468398-eabd-4ddf-acee-e8947c60eefc",
   "metadata": {},
   "source": [
    "## Revising Pandas"
   ]
  },
  {
   "cell_type": "code",
   "execution_count": 1,
   "id": "c46de084-19ad-4561-91db-2b26b7659494",
   "metadata": {},
   "outputs": [],
   "source": [
    "import pandas as pd"
   ]
  },
  {
   "cell_type": "code",
   "execution_count": 4,
   "id": "38f4d445-33b3-4b8c-93c0-c3d3425adc75",
   "metadata": {},
   "outputs": [],
   "source": [
    "orders = pd.read_table('http://bit.ly/chiporders')"
   ]
  },
  {
   "cell_type": "code",
   "execution_count": 5,
   "id": "70741806-b6f7-4c62-97e0-6c5187efad14",
   "metadata": {},
   "outputs": [
    {
     "data": {
      "text/html": [
       "<div>\n",
       "<style scoped>\n",
       "    .dataframe tbody tr th:only-of-type {\n",
       "        vertical-align: middle;\n",
       "    }\n",
       "\n",
       "    .dataframe tbody tr th {\n",
       "        vertical-align: top;\n",
       "    }\n",
       "\n",
       "    .dataframe thead th {\n",
       "        text-align: right;\n",
       "    }\n",
       "</style>\n",
       "<table border=\"1\" class=\"dataframe\">\n",
       "  <thead>\n",
       "    <tr style=\"text-align: right;\">\n",
       "      <th></th>\n",
       "      <th>order_id</th>\n",
       "      <th>quantity</th>\n",
       "      <th>item_name</th>\n",
       "      <th>choice_description</th>\n",
       "      <th>item_price</th>\n",
       "    </tr>\n",
       "  </thead>\n",
       "  <tbody>\n",
       "    <tr>\n",
       "      <th>0</th>\n",
       "      <td>1</td>\n",
       "      <td>1</td>\n",
       "      <td>Chips and Fresh Tomato Salsa</td>\n",
       "      <td>NaN</td>\n",
       "      <td>$2.39</td>\n",
       "    </tr>\n",
       "    <tr>\n",
       "      <th>1</th>\n",
       "      <td>1</td>\n",
       "      <td>1</td>\n",
       "      <td>Izze</td>\n",
       "      <td>[Clementine]</td>\n",
       "      <td>$3.39</td>\n",
       "    </tr>\n",
       "    <tr>\n",
       "      <th>2</th>\n",
       "      <td>1</td>\n",
       "      <td>1</td>\n",
       "      <td>Nantucket Nectar</td>\n",
       "      <td>[Apple]</td>\n",
       "      <td>$3.39</td>\n",
       "    </tr>\n",
       "    <tr>\n",
       "      <th>3</th>\n",
       "      <td>1</td>\n",
       "      <td>1</td>\n",
       "      <td>Chips and Tomatillo-Green Chili Salsa</td>\n",
       "      <td>NaN</td>\n",
       "      <td>$2.39</td>\n",
       "    </tr>\n",
       "    <tr>\n",
       "      <th>4</th>\n",
       "      <td>2</td>\n",
       "      <td>2</td>\n",
       "      <td>Chicken Bowl</td>\n",
       "      <td>[Tomatillo-Red Chili Salsa (Hot), [Black Beans...</td>\n",
       "      <td>$16.98</td>\n",
       "    </tr>\n",
       "  </tbody>\n",
       "</table>\n",
       "</div>"
      ],
      "text/plain": [
       "   order_id  quantity                              item_name  \\\n",
       "0         1         1           Chips and Fresh Tomato Salsa   \n",
       "1         1         1                                   Izze   \n",
       "2         1         1                       Nantucket Nectar   \n",
       "3         1         1  Chips and Tomatillo-Green Chili Salsa   \n",
       "4         2         2                           Chicken Bowl   \n",
       "\n",
       "                                  choice_description item_price  \n",
       "0                                                NaN     $2.39   \n",
       "1                                       [Clementine]     $3.39   \n",
       "2                                            [Apple]     $3.39   \n",
       "3                                                NaN     $2.39   \n",
       "4  [Tomatillo-Red Chili Salsa (Hot), [Black Beans...    $16.98   "
      ]
     },
     "execution_count": 5,
     "metadata": {},
     "output_type": "execute_result"
    }
   ],
   "source": [
    "orders.head()"
   ]
  },
  {
   "cell_type": "code",
   "execution_count": 20,
   "id": "9a9ac164-2663-4f6e-80ad-cd373ac2766b",
   "metadata": {},
   "outputs": [
    {
     "data": {
      "text/html": [
       "<div>\n",
       "<style scoped>\n",
       "    .dataframe tbody tr th:only-of-type {\n",
       "        vertical-align: middle;\n",
       "    }\n",
       "\n",
       "    .dataframe tbody tr th {\n",
       "        vertical-align: top;\n",
       "    }\n",
       "\n",
       "    .dataframe thead th {\n",
       "        text-align: right;\n",
       "    }\n",
       "</style>\n",
       "<table border=\"1\" class=\"dataframe\">\n",
       "  <thead>\n",
       "    <tr style=\"text-align: right;\">\n",
       "      <th></th>\n",
       "      <th>Name of col 1</th>\n",
       "      <th>name of col 2</th>\n",
       "      <th>name of col 3</th>\n",
       "      <th>name of col 4</th>\n",
       "      <th>test1</th>\n",
       "      <th>test2</th>\n",
       "      <th>test3</th>\n",
       "    </tr>\n",
       "  </thead>\n",
       "  <tbody>\n",
       "    <tr>\n",
       "      <th>0</th>\n",
       "      <td>1</td>\n",
       "      <td>24</td>\n",
       "      <td>M</td>\n",
       "      <td>technician</td>\n",
       "      <td>85711</td>\n",
       "      <td>NaN</td>\n",
       "      <td>NaN</td>\n",
       "    </tr>\n",
       "    <tr>\n",
       "      <th>1</th>\n",
       "      <td>2</td>\n",
       "      <td>53</td>\n",
       "      <td>F</td>\n",
       "      <td>other</td>\n",
       "      <td>94043</td>\n",
       "      <td>NaN</td>\n",
       "      <td>NaN</td>\n",
       "    </tr>\n",
       "    <tr>\n",
       "      <th>2</th>\n",
       "      <td>3</td>\n",
       "      <td>23</td>\n",
       "      <td>M</td>\n",
       "      <td>writer</td>\n",
       "      <td>32067</td>\n",
       "      <td>NaN</td>\n",
       "      <td>NaN</td>\n",
       "    </tr>\n",
       "    <tr>\n",
       "      <th>3</th>\n",
       "      <td>4</td>\n",
       "      <td>24</td>\n",
       "      <td>M</td>\n",
       "      <td>technician</td>\n",
       "      <td>43537</td>\n",
       "      <td>NaN</td>\n",
       "      <td>NaN</td>\n",
       "    </tr>\n",
       "    <tr>\n",
       "      <th>4</th>\n",
       "      <td>5</td>\n",
       "      <td>33</td>\n",
       "      <td>F</td>\n",
       "      <td>other</td>\n",
       "      <td>15213</td>\n",
       "      <td>NaN</td>\n",
       "      <td>NaN</td>\n",
       "    </tr>\n",
       "    <tr>\n",
       "      <th>...</th>\n",
       "      <td>...</td>\n",
       "      <td>...</td>\n",
       "      <td>...</td>\n",
       "      <td>...</td>\n",
       "      <td>...</td>\n",
       "      <td>...</td>\n",
       "      <td>...</td>\n",
       "    </tr>\n",
       "    <tr>\n",
       "      <th>938</th>\n",
       "      <td>939</td>\n",
       "      <td>26</td>\n",
       "      <td>F</td>\n",
       "      <td>student</td>\n",
       "      <td>33319</td>\n",
       "      <td>NaN</td>\n",
       "      <td>NaN</td>\n",
       "    </tr>\n",
       "    <tr>\n",
       "      <th>939</th>\n",
       "      <td>940</td>\n",
       "      <td>32</td>\n",
       "      <td>M</td>\n",
       "      <td>administrator</td>\n",
       "      <td>02215</td>\n",
       "      <td>NaN</td>\n",
       "      <td>NaN</td>\n",
       "    </tr>\n",
       "    <tr>\n",
       "      <th>940</th>\n",
       "      <td>941</td>\n",
       "      <td>20</td>\n",
       "      <td>M</td>\n",
       "      <td>student</td>\n",
       "      <td>97229</td>\n",
       "      <td>NaN</td>\n",
       "      <td>NaN</td>\n",
       "    </tr>\n",
       "    <tr>\n",
       "      <th>941</th>\n",
       "      <td>942</td>\n",
       "      <td>48</td>\n",
       "      <td>F</td>\n",
       "      <td>librarian</td>\n",
       "      <td>78209</td>\n",
       "      <td>NaN</td>\n",
       "      <td>NaN</td>\n",
       "    </tr>\n",
       "    <tr>\n",
       "      <th>942</th>\n",
       "      <td>943</td>\n",
       "      <td>22</td>\n",
       "      <td>M</td>\n",
       "      <td>student</td>\n",
       "      <td>77841</td>\n",
       "      <td>NaN</td>\n",
       "      <td>NaN</td>\n",
       "    </tr>\n",
       "  </tbody>\n",
       "</table>\n",
       "<p>943 rows × 7 columns</p>\n",
       "</div>"
      ],
      "text/plain": [
       "     Name of col 1  name of col 2 name of col 3  name of col 4  test1  test2  \\\n",
       "0                1             24             M     technician  85711    NaN   \n",
       "1                2             53             F          other  94043    NaN   \n",
       "2                3             23             M         writer  32067    NaN   \n",
       "3                4             24             M     technician  43537    NaN   \n",
       "4                5             33             F          other  15213    NaN   \n",
       "..             ...            ...           ...            ...    ...    ...   \n",
       "938            939             26             F        student  33319    NaN   \n",
       "939            940             32             M  administrator  02215    NaN   \n",
       "940            941             20             M        student  97229    NaN   \n",
       "941            942             48             F      librarian  78209    NaN   \n",
       "942            943             22             M        student  77841    NaN   \n",
       "\n",
       "     test3  \n",
       "0      NaN  \n",
       "1      NaN  \n",
       "2      NaN  \n",
       "3      NaN  \n",
       "4      NaN  \n",
       "..     ...  \n",
       "938    NaN  \n",
       "939    NaN  \n",
       "940    NaN  \n",
       "941    NaN  \n",
       "942    NaN  \n",
       "\n",
       "[943 rows x 7 columns]"
      ]
     },
     "execution_count": 20,
     "metadata": {},
     "output_type": "execute_result"
    }
   ],
   "source": [
    "user_cols = [\"Name of col 1\", \"name of col 2\", \"name of col 3\", \"name of col 4\", \"test1\", \"test2\", \"test3\"]\n",
    "users = pd.read_table('http://bit.ly/movieusers', sep=\"|\", header = None, names = user_cols)\n",
    "\n",
    "## All strings in user_cols will be given as names of the columns, \n",
    "\n",
    "# if lesser names are provided than number of columns, like 3 names for 5 cols.,\n",
    "# last 3 cols will be given the names, and rest cols would act as row headings\n",
    "\n",
    "# While if more names are given, last rows will be filled up by \"NaN\" (Not a Number)\n",
    "\n",
    "\n",
    "users"
   ]
  },
  {
   "cell_type": "code",
   "execution_count": 33,
   "id": "5db33d53-b3d9-479b-894b-4f0ee77f3b54",
   "metadata": {},
   "outputs": [
    {
     "name": "stdout",
     "output_type": "stream",
     "text": [
      "0         technician\n",
      "1              other\n",
      "2             writer\n",
      "3         technician\n",
      "4              other\n",
      "           ...      \n",
      "938          student\n",
      "939    administrator\n",
      "940          student\n",
      "941        librarian\n",
      "942          student\n",
      "Name: name of col 4, Length: 943, dtype: object\n",
      "<class 'pandas.core.frame.DataFrame'>\n"
     ]
    }
   ],
   "source": [
    "print(users[\"name of col 4\"])\n",
    "# printing a particular column\n",
    "print(type(users))\n",
    "# To show that the object is a pandas dataframe"
   ]
  },
  {
   "cell_type": "code",
   "execution_count": 34,
   "id": "d07f245c-ed2a-407a-8651-18793912d0f6",
   "metadata": {},
   "outputs": [
    {
     "data": {
      "text/plain": [
       "0      85711\n",
       "1      94043\n",
       "2      32067\n",
       "3      43537\n",
       "4      15213\n",
       "       ...  \n",
       "938    33319\n",
       "939    02215\n",
       "940    97229\n",
       "941    78209\n",
       "942    77841\n",
       "Name: test1, Length: 943, dtype: object"
      ]
     },
     "execution_count": 34,
     "metadata": {},
     "output_type": "execute_result"
    }
   ],
   "source": [
    "users.test1\n",
    "# Other way of calling out to print a column, \n",
    "# TIP: try not to give spaces in the names of the columns"
   ]
  },
  {
   "cell_type": "code",
   "execution_count": 36,
   "id": "89450d45-0a25-4c1c-ab62-b5ddd0ac7d3f",
   "metadata": {},
   "outputs": [
    {
     "data": {
      "text/plain": [
       "(943, 7)"
      ]
     },
     "execution_count": 36,
     "metadata": {},
     "output_type": "execute_result"
    }
   ],
   "source": [
    "# to print the dimensions of the dataframe\n",
    "users.shape"
   ]
  },
  {
   "cell_type": "code",
   "execution_count": 45,
   "id": "2e8ee45b-bbb3-492d-91f5-e85f90481394",
   "metadata": {},
   "outputs": [
    {
     "data": {
      "text/plain": [
       "<bound method NDFrame.head of      Name of col 1  name of col 2 name of col 3  name of col 4  test1  test2  \\\n",
       "0                1             24             M     technician  85711    NaN   \n",
       "1                2             53             F          other  94043    NaN   \n",
       "2                3             23             M         writer  32067    NaN   \n",
       "3                4             24             M     technician  43537    NaN   \n",
       "4                5             33             F          other  15213    NaN   \n",
       "..             ...            ...           ...            ...    ...    ...   \n",
       "938            939             26             F        student  33319    NaN   \n",
       "939            940             32             M  administrator  02215    NaN   \n",
       "940            941             20             M        student  97229    NaN   \n",
       "941            942             48             F      librarian  78209    NaN   \n",
       "942            943             22             M        student  77841    NaN   \n",
       "\n",
       "     test3 newly_inserted_column  \n",
       "0      NaN         technician, M  \n",
       "1      NaN              other, F  \n",
       "2      NaN             writer, M  \n",
       "3      NaN         technician, M  \n",
       "4      NaN              other, F  \n",
       "..     ...                   ...  \n",
       "938    NaN            student, F  \n",
       "939    NaN      administrator, M  \n",
       "940    NaN            student, M  \n",
       "941    NaN          librarian, F  \n",
       "942    NaN            student, M  \n",
       "\n",
       "[943 rows x 8 columns]>"
      ]
     },
     "execution_count": 45,
     "metadata": {},
     "output_type": "execute_result"
    }
   ],
   "source": [
    "# similar to string append feature ---> \"ab\" + \"cd\" = \"abcd\", we can do it with pandas series\n",
    "\n",
    "users[\"newly_inserted_column\"] = users[\"name of col 4\"] + ', ' + users[\"name of col 3\"]\n",
    "\n",
    "# NOTE: works only for strings\n",
    "\n",
    "users.head"
   ]
  },
  {
   "cell_type": "code",
   "execution_count": 54,
   "id": "2f7be677-c7ba-4e69-82d8-aa8f5f3af926",
   "metadata": {},
   "outputs": [
    {
     "data": {
      "text/html": [
       "<div>\n",
       "<style scoped>\n",
       "    .dataframe tbody tr th:only-of-type {\n",
       "        vertical-align: middle;\n",
       "    }\n",
       "\n",
       "    .dataframe tbody tr th {\n",
       "        vertical-align: top;\n",
       "    }\n",
       "\n",
       "    .dataframe thead th {\n",
       "        text-align: right;\n",
       "    }\n",
       "</style>\n",
       "<table border=\"1\" class=\"dataframe\">\n",
       "  <thead>\n",
       "    <tr style=\"text-align: right;\">\n",
       "      <th></th>\n",
       "      <th>name of col 3</th>\n",
       "      <th>name of col 4</th>\n",
       "      <th>test1</th>\n",
       "      <th>newly_inserted_column</th>\n",
       "    </tr>\n",
       "  </thead>\n",
       "  <tbody>\n",
       "    <tr>\n",
       "      <th>count</th>\n",
       "      <td>943</td>\n",
       "      <td>943</td>\n",
       "      <td>943</td>\n",
       "      <td>943</td>\n",
       "    </tr>\n",
       "    <tr>\n",
       "      <th>unique</th>\n",
       "      <td>2</td>\n",
       "      <td>21</td>\n",
       "      <td>795</td>\n",
       "      <td>41</td>\n",
       "    </tr>\n",
       "    <tr>\n",
       "      <th>top</th>\n",
       "      <td>M</td>\n",
       "      <td>student</td>\n",
       "      <td>55414</td>\n",
       "      <td>student, M</td>\n",
       "    </tr>\n",
       "    <tr>\n",
       "      <th>freq</th>\n",
       "      <td>670</td>\n",
       "      <td>196</td>\n",
       "      <td>9</td>\n",
       "      <td>136</td>\n",
       "    </tr>\n",
       "  </tbody>\n",
       "</table>\n",
       "</div>"
      ],
      "text/plain": [
       "       name of col 3 name of col 4  test1 newly_inserted_column\n",
       "count            943           943    943                   943\n",
       "unique             2            21    795                    41\n",
       "top                M       student  55414            student, M\n",
       "freq             670           196      9                   136"
      ]
     },
     "execution_count": 54,
     "metadata": {},
     "output_type": "execute_result"
    }
   ],
   "source": [
    "# Get the statistics of the table columns with numeric values\n",
    "users.describe(include = [\"object\"])"
   ]
  },
  {
   "cell_type": "code",
   "execution_count": 56,
   "id": "a9e5738d-f18f-4141-a776-bbef40dc49b5",
   "metadata": {},
   "outputs": [
    {
     "data": {
      "text/html": [
       "<div>\n",
       "<style scoped>\n",
       "    .dataframe tbody tr th:only-of-type {\n",
       "        vertical-align: middle;\n",
       "    }\n",
       "\n",
       "    .dataframe tbody tr th {\n",
       "        vertical-align: top;\n",
       "    }\n",
       "\n",
       "    .dataframe thead th {\n",
       "        text-align: right;\n",
       "    }\n",
       "</style>\n",
       "<table border=\"1\" class=\"dataframe\">\n",
       "  <thead>\n",
       "    <tr style=\"text-align: right;\">\n",
       "      <th></th>\n",
       "      <th>Name of col 1</th>\n",
       "      <th>name of col 2</th>\n",
       "      <th>test2</th>\n",
       "      <th>test3</th>\n",
       "    </tr>\n",
       "  </thead>\n",
       "  <tbody>\n",
       "    <tr>\n",
       "      <th>count</th>\n",
       "      <td>943.000000</td>\n",
       "      <td>943.000000</td>\n",
       "      <td>0.0</td>\n",
       "      <td>0.0</td>\n",
       "    </tr>\n",
       "    <tr>\n",
       "      <th>mean</th>\n",
       "      <td>472.000000</td>\n",
       "      <td>34.051962</td>\n",
       "      <td>NaN</td>\n",
       "      <td>NaN</td>\n",
       "    </tr>\n",
       "    <tr>\n",
       "      <th>std</th>\n",
       "      <td>272.364951</td>\n",
       "      <td>12.192740</td>\n",
       "      <td>NaN</td>\n",
       "      <td>NaN</td>\n",
       "    </tr>\n",
       "    <tr>\n",
       "      <th>min</th>\n",
       "      <td>1.000000</td>\n",
       "      <td>7.000000</td>\n",
       "      <td>NaN</td>\n",
       "      <td>NaN</td>\n",
       "    </tr>\n",
       "    <tr>\n",
       "      <th>25%</th>\n",
       "      <td>236.500000</td>\n",
       "      <td>25.000000</td>\n",
       "      <td>NaN</td>\n",
       "      <td>NaN</td>\n",
       "    </tr>\n",
       "    <tr>\n",
       "      <th>50%</th>\n",
       "      <td>472.000000</td>\n",
       "      <td>31.000000</td>\n",
       "      <td>NaN</td>\n",
       "      <td>NaN</td>\n",
       "    </tr>\n",
       "    <tr>\n",
       "      <th>75%</th>\n",
       "      <td>707.500000</td>\n",
       "      <td>43.000000</td>\n",
       "      <td>NaN</td>\n",
       "      <td>NaN</td>\n",
       "    </tr>\n",
       "    <tr>\n",
       "      <th>max</th>\n",
       "      <td>943.000000</td>\n",
       "      <td>73.000000</td>\n",
       "      <td>NaN</td>\n",
       "      <td>NaN</td>\n",
       "    </tr>\n",
       "  </tbody>\n",
       "</table>\n",
       "</div>"
      ],
      "text/plain": [
       "       Name of col 1  name of col 2  test2  test3\n",
       "count     943.000000     943.000000    0.0    0.0\n",
       "mean      472.000000      34.051962    NaN    NaN\n",
       "std       272.364951      12.192740    NaN    NaN\n",
       "min         1.000000       7.000000    NaN    NaN\n",
       "25%       236.500000      25.000000    NaN    NaN\n",
       "50%       472.000000      31.000000    NaN    NaN\n",
       "75%       707.500000      43.000000    NaN    NaN\n",
       "max       943.000000      73.000000    NaN    NaN"
      ]
     },
     "execution_count": 56,
     "metadata": {},
     "output_type": "execute_result"
    }
   ],
   "source": [
    "users.describe()"
   ]
  },
  {
   "cell_type": "code",
   "execution_count": 58,
   "id": "f44cc609-6c20-4de4-afca-b2d7261e0721",
   "metadata": {},
   "outputs": [
    {
     "data": {
      "text/plain": [
       "Name of col 1              int64\n",
       "name of col 2              int64\n",
       "name of col 3             object\n",
       "name of col 4             object\n",
       "test1                     object\n",
       "test2                    float64\n",
       "test3                    float64\n",
       "newly_inserted_column     object\n",
       "dtype: object"
      ]
     },
     "execution_count": 58,
     "metadata": {},
     "output_type": "execute_result"
    }
   ],
   "source": [
    "users.dtypes"
   ]
  },
  {
   "cell_type": "code",
   "execution_count": null,
   "id": "2256c449-922b-4b8f-bd02-adb832976512",
   "metadata": {
    "tags": []
   },
   "outputs": [],
   "source": []
  },
  {
   "cell_type": "markdown",
   "id": "3dd76e05-2c9b-41ae-a66b-b2654f296b9e",
   "metadata": {
    "tags": []
   },
   "source": [
    "### TIP: \n",
    "- for using the dot notation with data frames, type \"users.\" and then hit **TAB** for finding all possible options.\n",
    "- for finding the possible parameters of a function, bring the cursor in the parenthesis, and the press **\"SHIFT + TAB\"**"
   ]
  },
  {
   "cell_type": "code",
   "execution_count": null,
   "id": "df9f96b6-db2d-4ccb-b3d2-e314f35073bb",
   "metadata": {},
   "outputs": [],
   "source": []
  }
 ],
 "metadata": {
  "kernelspec": {
   "display_name": "Python 3 (ipykernel)",
   "language": "python",
   "name": "python3"
  },
  "language_info": {
   "codemirror_mode": {
    "name": "ipython",
    "version": 3
   },
   "file_extension": ".py",
   "mimetype": "text/x-python",
   "name": "python",
   "nbconvert_exporter": "python",
   "pygments_lexer": "ipython3",
   "version": "3.9.12"
  }
 },
 "nbformat": 4,
 "nbformat_minor": 5
}
