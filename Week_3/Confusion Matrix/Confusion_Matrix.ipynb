{
 "cells": [
  {
   "attachments": {
    "image.png": {
     "image/png": "[encoded data removed]"
    }
   },
   "cell_type": "markdown",
   "id": "db3102dd",
   "metadata": {},
   "source": [
    "<h1 style=\"background-color:#D3D3D3; color:#FF0000; font-size:40px; padding:15px; border-radius:100px 100px\"> Confusion Matrix </h1>\n",
    "\n",
    "![image.png](attachment:image.png)"
   ]
  },
  {
   "cell_type": "markdown",
   "id": "76d029bc",
   "metadata": {},
   "source": [
    "True Positive (TP) \n",
    "\n",
    "- The predicted value matches the actual value\n",
    "- The actual value was positive and the model predicted a positive value\n",
    "\n",
    "True Negative (TN) \n",
    "\n",
    "- The predicted value matches the actual value\n",
    "- The actual value was negative and the model predicted a negative value\n",
    "\n",
    "False Positive (FP) – Type 1 error\n",
    "\n",
    "- The predicted value was falsely predicted\n",
    "- The actual value was negative but the model predicted a positive value\n",
    "    Also known as the **Type 1 error**\n",
    "    \n",
    "False Negative (FN) – Type 2 error\n",
    "\n",
    "- The predicted value was falsely predicted\n",
    "- The actual value was positive but the model predicted a negative value\n",
    "    Also known as the **Type 2 error**"
   ]
  },
  {
   "attachments": {
    "image-2.png": {
     "image/png": "[encoded data removed]"
    },
    "image-3.png": {
     "image/png": "[encoded data removed]"
    },
    "image.png": {
     "image/png": "[encoded data removed]"
    }
   },
   "cell_type": "markdown",
   "id": "db98ba90",
   "metadata": {},
   "source": [
    "### PRECISION\n",
    "\n",
    "Precision tells us how many of the correctly predicted cases actually turned out to be positive.\n",
    "\n",
    "![image.png](attachment:image.png)\n",
    "\n",
    "### RECALL\n",
    "\n",
    "Recall tells us how many of the actual positive cases we were able to predict correctly with our model.\n",
    "\n",
    "![image-2.png](attachment:image-2.png)\n",
    "\n",
    "### F1-Score\n",
    "\n",
    "In practice, when we try to increase the precision of our model, the recall goes down, and vice-versa. The F1-score captures both the trends in a single value:\n",
    "![image-3.png](attachment:image-3.png)\n",
    "F1-score is a harmonic mean of Precision and Recall, and so it gives a combined idea about these two metrics. It is maximum when Precision is equal to Recall.\n",
    "\n",
    "<div class='alert alert-warning'>\n",
    "    The interpretability of the F1-score is poor. This means that we don’t know what our classifier is maximizing – precision or recall? So, we use it in combination with other evaluation metrics which gives us a complete picture of the result.\n",
    "</div>"
   ]
  },
  {
   "cell_type": "markdown",
   "id": "df504983",
   "metadata": {},
   "source": [
    "## Q- Why do we need confusion matrix when we have accuracy?\n",
    "\n",
    "### ANS: [Read Here](https://www.analyticsvidhya.com/blog/2020/04/confusion-matrix-machine-learning/)"
   ]
  },
  {
   "cell_type": "code",
   "execution_count": null,
   "id": "8e29c677",
   "metadata": {},
   "outputs": [],
   "source": []
  },
  {
   "cell_type": "code",
   "execution_count": 2,
   "id": "de4e735c",
   "metadata": {},
   "outputs": [
    {
     "name": "stdout",
     "output_type": "stream",
     "text": [
      "Confusion Matrix: \n",
      " [[2 2]\n",
      " [1 5]]\n",
      "Outcome values: \n",
      " 2 2 1 5\n",
      "Classification report : \n",
      "               precision    recall  f1-score   support\n",
      "\n",
      "           1       0.67      0.50      0.57         4\n",
      "           0       0.71      0.83      0.77         6\n",
      "\n",
      "    accuracy                           0.70        10\n",
      "   macro avg       0.69      0.67      0.67        10\n",
      "weighted avg       0.70      0.70      0.69        10\n",
      "\n"
     ]
    }
   ],
   "source": [
    "from sklearn.metrics import confusion_matrix\n",
    "from sklearn.metrics import classification_report\n",
    "\n",
    "# Actual Values\n",
    "actual = [1,0,0,1,0,0,1,0,0,1]\n",
    "# Predicted Values\n",
    "predicted = [1,0,0,1,0,0,0,1,0,0]\n",
    "\n",
    "# confusion matrix\n",
    "matrix = confusion_matrix(actual, predicted, labels=[1,0])\n",
    "print('Confusion Matrix: \\n', matrix)\n",
    "\n",
    "# outcome values order in sklearn\n",
    "tp, fn,fp,tn = confusion_matrix(actual, predicted, labels=[1,0]).reshape(-1)\n",
    "print('Outcome values: \\n', tp, fn, fp, tn)\n",
    "\n",
    "# classification report for precision, recall, f1-score and accuracy\n",
    "matrix = classification_report(actual, predicted, labels = [1,0])\n",
    "print('Classification report : \\n', matrix)"
   ]
  },
  {
   "cell_type": "markdown",
   "id": "090e8ab0",
   "metadata": {},
   "source": []
  },
  {
   "cell_type": "markdown",
   "id": "e160c4ab",
   "metadata": {},
   "source": [
    "## Micro average:\n",
    "Mirco average is the precision/recall/f1-score calculated for all the classes.\n",
    "\n",
    "$$\\text{Micro Average Precision} = \\frac{TP_1 + TP_2}{TP_1 + TP_2 + FP_1 + FP_2}$$"
   ]
  },
  {
   "cell_type": "code",
   "execution_count": null,
   "id": "07dd778e",
   "metadata": {},
   "outputs": [],
   "source": []
  }
 ],
 "metadata": {
  "kernelspec": {
   "display_name": "Python 3 (ipykernel)",
   "language": "python",
   "name": "python3"
  },
  "language_info": {
   "codemirror_mode": {
    "name": "ipython",
    "version": 3
   },
   "file_extension": ".py",
   "mimetype": "text/x-python",
   "name": "python",
   "nbconvert_exporter": "python",
   "pygments_lexer": "ipython3",
   "version": "3.10.4"
  }
 },
 "nbformat": 4,
 "nbformat_minor": 5
}
